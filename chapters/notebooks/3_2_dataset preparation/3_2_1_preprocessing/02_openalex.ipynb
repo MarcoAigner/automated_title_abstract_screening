{
 "cells": [
  {
   "cell_type": "markdown",
   "metadata": {},
   "source": [
    "# OpenAlex\n",
    "\n",
    "The SYNERGY datasets do not contain text data right away.\n",
    "\n",
    "Instead, they house ids which refer to the OpenAlex repository.\n",
    "\n",
    "One has to retrieve those data using their associated ids, before being able to work with the texts\n",
    "\n",
    "## Load Datasets\n",
    "Load the datasets into memory:"
   ]
  },
  {
   "cell_type": "code",
   "execution_count": 1,
   "metadata": {},
   "outputs": [],
   "source": [
    "import os\n",
    "import pandas as pd\n",
    "\n",
    "data_directory_uniform = '../../../../data/datasets/01_uniform'\n",
    "\n",
    "files = os.listdir(data_directory_uniform)\n",
    "subjects = [file.split('_uniform')[0] for file in files]\n",
    "\n",
    "uniform_datasets = {\n",
    "    subjects[count]: pd.read_csv(f'{data_directory_uniform}/{file}')\n",
    "    for count, file in enumerate(files)\n",
    "}"
   ]
  },
  {
   "cell_type": "markdown",
   "metadata": {},
   "source": [
    "## Query API\n",
    "For each article, retrieve title & abstract by its OpenAlex-ID:"
   ]
  },
  {
   "cell_type": "code",
   "execution_count": null,
   "metadata": {},
   "outputs": [],
   "source": [
    "import pyalex\n",
    "from tqdm.notebook import tqdm\n",
    "\n",
    "for dataset, data in tqdm(uniform_datasets.items(), desc='Downloading datasets'):\n",
    "\n",
    "    # add titles & abstracts as a whole column later\n",
    "    titles=[]\n",
    "    abstracts=[]\n",
    "\n",
    "    for index, row in tqdm(data.iterrows(), total=len(data), desc=dataset):\n",
    "\n",
    "        if(data.isna()['openalex_id'][index] == True):\n",
    "            titles.append(pd.NA)\n",
    "            abstracts.append(pd.NA)\n",
    "        else:\n",
    "            # retrieve title/abstract through the api\n",
    "            openalex = pyalex.Works()[row['openalex_id']]\n",
    "        \n",
    "            titles.append(openalex['title'])\n",
    "            abstracts.append(openalex['abstract'])\n",
    "\n",
    "    data['title'] = titles\n",
    "    data['abstract'] = abstracts"
   ]
  },
  {
   "cell_type": "markdown",
   "metadata": {},
   "source": [
    "## Save locally\n",
    "Save the downloaded data locally:"
   ]
  },
  {
   "cell_type": "code",
   "execution_count": 7,
   "metadata": {},
   "outputs": [],
   "source": [
    "directory_to_save = '../../../data/02_openalex'\n",
    "\n",
    "[dataframe.to_csv(f'{directory_to_save}/{subject}_openalex.csv', index=False)\n",
    " for subject, dataframe in uniform_datasets.items()];"
   ]
  }
 ],
 "metadata": {
  "kernelspec": {
   "display_name": "automated_screening",
   "language": "python",
   "name": "python3"
  },
  "language_info": {
   "codemirror_mode": {
    "name": "ipython",
    "version": 3
   },
   "file_extension": ".py",
   "mimetype": "text/x-python",
   "name": "python",
   "nbconvert_exporter": "python",
   "pygments_lexer": "ipython3",
   "version": "3.12.8"
  }
 },
 "nbformat": 4,
 "nbformat_minor": 2
}
