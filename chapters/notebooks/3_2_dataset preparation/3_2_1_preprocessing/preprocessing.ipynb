{
 "cells": [
  {
   "cell_type": "markdown",
   "metadata": {},
   "source": [
    "# TODO\n",
    "\n",
    "- HTML entfernen\n",
    "\n",
    "## Duplikate\n",
    "- MISSING VALUES ERFOLGREICH IN POLARS UMGESCHRIEBEN\n",
    "- Funktion schreiben die:\n",
    "    - Schrittweise Duplikate nach doi, pubmed_id und title+abstract entfernt\n",
    "    - Die Funktion soll speichern, wie viele Duplikate entfernt wurden\n",
    "    - \n",
    "\n",
    "- Sprachen erkennen und nicht-Englische übersetzen\n",
    "- Abstracts mit mehr als 440 Wörtern oder unter 50 Wörtern und nicht auf . endend entfernen\n",
    "\n",
    "\n"
   ]
  },
  {
   "cell_type": "markdown",
   "metadata": {},
   "source": [
    "# General Preprocessing"
   ]
  },
  {
   "cell_type": "code",
   "execution_count": 4,
   "metadata": {},
   "outputs": [],
   "source": [
    "from src import data\n",
    "\n",
    "# Define the directory where the data is stored\n",
    "directory = '../../../../data/03_pubmed'\n",
    "\n",
    "# Load the data\n",
    "datasets = data.dict_from_directory(directory, type='polars')"
   ]
  },
  {
   "cell_type": "code",
   "execution_count": 5,
   "metadata": {},
   "outputs": [],
   "source": [
    "adhd = datasets['adhd']\n",
    "animal_depression = datasets['animal_depression']\n",
    "atypical_antipsychotics = datasets['atypical_antipsychotics']\n",
    "calcium_channel_blockers = datasets['calcium_channel_blockers']\n",
    "oral_hypo_glycemics = datasets['oral_hypoglycemics']\n",
    "pancreatic_surgery = datasets['pancreatic_surgery']"
   ]
  },
  {
   "cell_type": "code",
   "execution_count": 6,
   "metadata": {},
   "outputs": [
    {
     "data": {
      "text/html": [
       "<div><style>\n",
       ".dataframe > thead > tr,\n",
       ".dataframe > tbody > tr {\n",
       "  text-align: right;\n",
       "  white-space: pre-wrap;\n",
       "}\n",
       "</style>\n",
       "<small>shape: (34_206, 15)</small><table border=\"1\" class=\"dataframe\"><thead><tr><th>include</th><th>title</th><th>abstract</th><th>first_author</th><th>year</th><th>journal</th><th>doi</th><th>pubmed_id</th><th>authors</th><th>pubmed_type</th><th>publication_types</th><th>mesh</th><th>webofscience_id</th><th>central_id</th><th>openalex_id</th></tr><tr><td>bool</td><td>str</td><td>str</td><td>str</td><td>i64</td><td>str</td><td>str</td><td>f64</td><td>str</td><td>str</td><td>str</td><td>str</td><td>str</td><td>str</td><td>str</td></tr></thead><tbody><tr><td>false</td><td>&quot;Reflections and proposals for …</td><td>&quot;In this paper, I consider: the…</td><td>&quot;Elias D&quot;</td><td>2000</td><td>&quot;Eur J Surg Oncol&quot;</td><td>&quot;10.1053/ejso.1999.0731&quot;</td><td>1.0718171e7</td><td>&quot;Elias D&quot;</td><td>&quot;article&quot;</td><td>&quot;D016428: Journal Article; D016…</td><td>&quot;D005240: Feasibility Studies; …</td><td>null</td><td>null</td><td>null</td></tr><tr><td>false</td><td>&quot;Diagnostic endoscopic retrogra…</td><td>&quot;The importance of diagnostic e…</td><td>&quot;Ponchon T&quot;</td><td>2000</td><td>&quot;Endoscopy&quot;</td><td>&quot;10.1055/s-2000-95&quot;</td><td>1.0718385e7</td><td>&quot;Ponchon T&quot;</td><td>&quot;article&quot;</td><td>&quot;D016428: Journal Article; D016…</td><td>&quot;D000818: Animals; D001660: Bil…</td><td>null</td><td>null</td><td>null</td></tr><tr><td>false</td><td>&quot;Therapeutic pancreatic endosco…</td><td>&quot;A number of endoscopic interve…</td><td>&quot;Neuhaus H&quot;</td><td>2000</td><td>&quot;Endoscopy&quot;</td><td>&quot;10.1055/s-2000-94&quot;</td><td>1.0718387e7</td><td>&quot;Neuhaus H&quot;</td><td>&quot;article&quot;</td><td>&quot;D016428: Journal Article; D016…</td><td>&quot;D000328: Adult; D002648: Child…</td><td>null</td><td>null</td><td>null</td></tr><tr><td>false</td><td>&quot;Cephalic phase of lipolysis is…</td><td>&quot;BACKGROUND: Gastric lipase con…</td><td>&quot;Wøjdemann M&quot;</td><td>2000</td><td>&quot;Scand J Gastroenterol&quot;</td><td>&quot;10.1080/003655200750024407&quot;</td><td>1.0720121e7</td><td>&quot;Wøjdemann M; Sternby B; Larsen…</td><td>&quot;article&quot;</td><td>&quot;D016430: Clinical Trial; D0164…</td><td>&quot;D000328: Adult; D001706: Biops…</td><td>null</td><td>null</td><td>null</td></tr><tr><td>false</td><td>&quot;Ischemia/Reperfusion-Induced p…</td><td>&quot;BACKGROUND/AIM: The pancreas i…</td><td>&quot;Sakorafas GH&quot;</td><td>2000</td><td>&quot;Dig Surg&quot;</td><td>&quot;10.1159/000018793&quot;</td><td>1.0720825e7</td><td>&quot;Sakorafas GH; Tsiotos GG; Sarr…</td><td>&quot;article&quot;</td><td>&quot;D016428: Journal Article; D016…</td><td>&quot;D000138: Acidosis; D000208: Ac…</td><td>null</td><td>null</td><td>null</td></tr><tr><td>&hellip;</td><td>&hellip;</td><td>&hellip;</td><td>&hellip;</td><td>&hellip;</td><td>&hellip;</td><td>&hellip;</td><td>&hellip;</td><td>&hellip;</td><td>&hellip;</td><td>&hellip;</td><td>&hellip;</td><td>&hellip;</td><td>&hellip;</td><td>&hellip;</td></tr><tr><td>true</td><td>&quot;Quality of life after open ver…</td><td>&quot;BACKGROUND: Pancreatic surgery…</td><td>&quot;Johansen K&quot;</td><td>2023</td><td>&quot;BJS Open&quot;</td><td>&quot;10.1093/bjsopen/zrad002&quot;</td><td>3.6893287e7</td><td>&quot;Johansen K; Lindhoff Larsson A…</td><td>&quot;article&quot;</td><td>&quot;D016449: Randomized Controlled…</td><td>&quot;D006801: Humans; D010180: Panc…</td><td>null</td><td>null</td><td>null</td></tr><tr><td>true</td><td>&quot;A randomized controlled trial …</td><td>&quot;BACKGROUND: Clinically relevan…</td><td>&quot;Lin R&quot;</td><td>2023</td><td>&quot;Langenbecks Arch Surg&quot;</td><td>&quot;10.1007/s00423-023-02873-w&quot;</td><td>3.7010643e7</td><td>&quot;Lin R; Liu Y; Lin X; Lu F; Yan…</td><td>&quot;article&quot;</td><td>&quot;D016449: Randomized Controlled…</td><td>&quot;D006801: Humans; D010193: Panc…</td><td>null</td><td>null</td><td>null</td></tr><tr><td>true</td><td>&quot;Minimally invasive versus open…</td><td>&quot;BACKGROUND: The oncological sa…</td><td>&quot;Korrel M&quot;</td><td>2023</td><td>&quot;Lancet Reg Health Eur&quot;</td><td>&quot;10.1016/j.lanepe.2023.100673&quot;</td><td>3.7457332e7</td><td>&quot;Korrel M; Jones LR; van Hilst …</td><td>&quot;article&quot;</td><td>&quot;D016428: Journal Article&quot;</td><td>null</td><td>null</td><td>null</td><td>null</td></tr><tr><td>true</td><td>&quot;A prospective randomized contr…</td><td>&quot;BACKGROUND: A stent often is p…</td><td>&quot;Tani M&quot;</td><td>2010</td><td>&quot;Am J Surg&quot;</td><td>&quot;10.1016/j.amjsurg.2009.04.017&quot;</td><td>2.0074698e7</td><td>&quot;Tani M; Kawai M; Hirono S; Ina…</td><td>&quot;article&quot;</td><td>&quot;D016428: Journal Article; D016…</td><td>&quot;D000038: Abscess; D000328: Adu…</td><td>null</td><td>null</td><td>null</td></tr><tr><td>true</td><td>&quot;Comparison of long-term clinic…</td><td>&quot;BACKGROUND: To determine the m…</td><td>&quot;Shin YC&quot;</td><td>2019</td><td>&quot;HPB (Oxford)&quot;</td><td>&quot;10.1016/j.hpb.2018.06.1795&quot;</td><td>3.0093143e7</td><td>&quot;Shin YC; Jang JY; Chang YR; Ju…</td><td>&quot;article&quot;</td><td>&quot;D000073843: Equivalence Trial;…</td><td>&quot;D000328: Adult; D000368: Aged;…</td><td>null</td><td>null</td><td>null</td></tr></tbody></table></div>"
      ],
      "text/plain": [
       "shape: (34_206, 15)\n",
       "┌─────────┬────────────┬───────────┬───────────┬───┬───────────┬───────────┬───────────┬───────────┐\n",
       "│ include ┆ title      ┆ abstract  ┆ first_aut ┆ … ┆ mesh      ┆ webofscie ┆ central_i ┆ openalex_ │\n",
       "│ ---     ┆ ---        ┆ ---       ┆ hor       ┆   ┆ ---       ┆ nce_id    ┆ d         ┆ id        │\n",
       "│ bool    ┆ str        ┆ str       ┆ ---       ┆   ┆ str       ┆ ---       ┆ ---       ┆ ---       │\n",
       "│         ┆            ┆           ┆ str       ┆   ┆           ┆ str       ┆ str       ┆ str       │\n",
       "╞═════════╪════════════╪═══════════╪═══════════╪═══╪═══════════╪═══════════╪═══════════╪═══════════╡\n",
       "│ false   ┆ Reflection ┆ In this   ┆ Elias D   ┆ … ┆ D005240:  ┆ null      ┆ null      ┆ null      │\n",
       "│         ┆ s and      ┆ paper, I  ┆           ┆   ┆ Feasibili ┆           ┆           ┆           │\n",
       "│         ┆ proposals  ┆ consider: ┆           ┆   ┆ ty        ┆           ┆           ┆           │\n",
       "│         ┆ for …      ┆ the…      ┆           ┆   ┆ Studies;  ┆           ┆           ┆           │\n",
       "│         ┆            ┆           ┆           ┆   ┆ …         ┆           ┆           ┆           │\n",
       "│ false   ┆ Diagnostic ┆ The impor ┆ Ponchon T ┆ … ┆ D000818:  ┆ null      ┆ null      ┆ null      │\n",
       "│         ┆ endoscopic ┆ tance of  ┆           ┆   ┆ Animals;  ┆           ┆           ┆           │\n",
       "│         ┆ retrogra…  ┆ diagnosti ┆           ┆   ┆ D001660:  ┆           ┆           ┆           │\n",
       "│         ┆            ┆ c e…      ┆           ┆   ┆ Bil…      ┆           ┆           ┆           │\n",
       "│ false   ┆ Therapeuti ┆ A number  ┆ Neuhaus H ┆ … ┆ D000328:  ┆ null      ┆ null      ┆ null      │\n",
       "│         ┆ c          ┆ of endosc ┆           ┆   ┆ Adult;    ┆           ┆           ┆           │\n",
       "│         ┆ pancreatic ┆ opic      ┆           ┆   ┆ D002648:  ┆           ┆           ┆           │\n",
       "│         ┆ endosco…   ┆ interve…  ┆           ┆   ┆ Child…    ┆           ┆           ┆           │\n",
       "│ false   ┆ Cephalic   ┆ BACKGROUN ┆ Wøjdemann ┆ … ┆ D000328:  ┆ null      ┆ null      ┆ null      │\n",
       "│         ┆ phase of   ┆ D:        ┆ M         ┆   ┆ Adult;    ┆           ┆           ┆           │\n",
       "│         ┆ lipolysis  ┆ Gastric   ┆           ┆   ┆ D001706:  ┆           ┆           ┆           │\n",
       "│         ┆ is…        ┆ lipase    ┆           ┆   ┆ Biops…    ┆           ┆           ┆           │\n",
       "│         ┆            ┆ con…      ┆           ┆   ┆           ┆           ┆           ┆           │\n",
       "│ false   ┆ Ischemia/R ┆ BACKGROUN ┆ Sakorafas ┆ … ┆ D000138:  ┆ null      ┆ null      ┆ null      │\n",
       "│         ┆ eperfusion ┆ D/AIM:    ┆ GH        ┆   ┆ Acidosis; ┆           ┆           ┆           │\n",
       "│         ┆ -Induced   ┆ The       ┆           ┆   ┆ D000208:  ┆           ┆           ┆           │\n",
       "│         ┆ p…         ┆ pancreas  ┆           ┆   ┆ Ac…       ┆           ┆           ┆           │\n",
       "│         ┆            ┆ i…        ┆           ┆   ┆           ┆           ┆           ┆           │\n",
       "│ …       ┆ …          ┆ …         ┆ …         ┆ … ┆ …         ┆ …         ┆ …         ┆ …         │\n",
       "│ true    ┆ Quality of ┆ BACKGROUN ┆ Johansen  ┆ … ┆ D006801:  ┆ null      ┆ null      ┆ null      │\n",
       "│         ┆ life after ┆ D: Pancre ┆ K         ┆   ┆ Humans;   ┆           ┆           ┆           │\n",
       "│         ┆ open ver…  ┆ atic      ┆           ┆   ┆ D010180:  ┆           ┆           ┆           │\n",
       "│         ┆            ┆ surgery…  ┆           ┆   ┆ Panc…     ┆           ┆           ┆           │\n",
       "│ true    ┆ A          ┆ BACKGROUN ┆ Lin R     ┆ … ┆ D006801:  ┆ null      ┆ null      ┆ null      │\n",
       "│         ┆ randomized ┆ D: Clinic ┆           ┆   ┆ Humans;   ┆           ┆           ┆           │\n",
       "│         ┆ controlled ┆ ally      ┆           ┆   ┆ D010193:  ┆           ┆           ┆           │\n",
       "│         ┆ trial …    ┆ relevan…  ┆           ┆   ┆ Panc…     ┆           ┆           ┆           │\n",
       "│ true    ┆ Minimally  ┆ BACKGROUN ┆ Korrel M  ┆ … ┆ null      ┆ null      ┆ null      ┆ null      │\n",
       "│         ┆ invasive   ┆ D: The    ┆           ┆   ┆           ┆           ┆           ┆           │\n",
       "│         ┆ versus     ┆ oncologic ┆           ┆   ┆           ┆           ┆           ┆           │\n",
       "│         ┆ open…      ┆ al sa…    ┆           ┆   ┆           ┆           ┆           ┆           │\n",
       "│ true    ┆ A prospect ┆ BACKGROUN ┆ Tani M    ┆ … ┆ D000038:  ┆ null      ┆ null      ┆ null      │\n",
       "│         ┆ ive        ┆ D: A      ┆           ┆   ┆ Abscess;  ┆           ┆           ┆           │\n",
       "│         ┆ randomized ┆ stent     ┆           ┆   ┆ D000328:  ┆           ┆           ┆           │\n",
       "│         ┆ contr…     ┆ often is  ┆           ┆   ┆ Adu…      ┆           ┆           ┆           │\n",
       "│         ┆            ┆ p…        ┆           ┆   ┆           ┆           ┆           ┆           │\n",
       "│ true    ┆ Comparison ┆ BACKGROUN ┆ Shin YC   ┆ … ┆ D000328:  ┆ null      ┆ null      ┆ null      │\n",
       "│         ┆ of         ┆ D: To     ┆           ┆   ┆ Adult;    ┆           ┆           ┆           │\n",
       "│         ┆ long-term  ┆ determine ┆           ┆   ┆ D000368:  ┆           ┆           ┆           │\n",
       "│         ┆ clinic…    ┆ the m…    ┆           ┆   ┆ Aged;…    ┆           ┆           ┆           │\n",
       "└─────────┴────────────┴───────────┴───────────┴───┴───────────┴───────────┴───────────┴───────────┘"
      ]
     },
     "execution_count": 6,
     "metadata": {},
     "output_type": "execute_result"
    }
   ],
   "source": [
    "pancreatic_surgery"
   ]
  },
  {
   "cell_type": "markdown",
   "metadata": {},
   "source": [
    "# Remove HTML\n",
    "HTML tags cause noise within the texts:"
   ]
  },
  {
   "cell_type": "code",
   "execution_count": 7,
   "metadata": {},
   "outputs": [
    {
     "name": "stdout",
     "output_type": "stream",
     "text": [
      "456    <b><i>Objective:</i></b> To evaluate the effic...\n",
      "565    <h3>Objective:</h3> To compare the intraocular...\n",
      "Name: abstract, dtype: object\n"
     ]
    }
   ],
   "source": [
    "adhd_html = datasets['adhd']\n",
    "print(adhd.to_pandas().iloc[[456, 565]]['abstract'])"
   ]
  },
  {
   "cell_type": "markdown",
   "metadata": {},
   "source": [
    "Define a function to automatically remove HTML from the text"
   ]
  },
  {
   "cell_type": "code",
   "execution_count": 8,
   "metadata": {},
   "outputs": [],
   "source": [
    "from bs4 import BeautifulSoup\n",
    "\n",
    "def remove_html(text: str)-> str:\n",
    "    \"\"\"Remove html tags from a string\n",
    "    \n",
    "    Args:\n",
    "    text: str: a string containing html tags\n",
    "\n",
    "    Returns:\n",
    "    str: a string without html tags\n",
    "    \"\"\"\n",
    "    return BeautifulSoup(text, 'html.parser').get_text()"
   ]
  },
  {
   "cell_type": "markdown",
   "metadata": {},
   "source": [
    "Remove HTML from all datasets:"
   ]
  },
  {
   "cell_type": "code",
   "execution_count": 9,
   "metadata": {},
   "outputs": [],
   "source": [
    "import polars as pl\n",
    "import warnings\n",
    "\n",
    "# BeautifulSoup thinks some titles to be similar to filenames \n",
    "warnings.filterwarnings('ignore', category=UserWarning)\n",
    "\n",
    "for subject, dataset in datasets.items():\n",
    "    datasets[subject] = dataset.with_columns([\n",
    "        pl.col('title').map_elements(remove_html, return_dtype=pl.String),\n",
    "        pl.col('abstract').map_elements(remove_html, return_dtype=pl.String)\n",
    "    ])"
   ]
  },
  {
   "cell_type": "markdown",
   "metadata": {},
   "source": [
    "Verify that HTML was indeed removed:"
   ]
  },
  {
   "cell_type": "code",
   "execution_count": 10,
   "metadata": {},
   "outputs": [
    {
     "name": "stdout",
     "output_type": "stream",
     "text": [
      "456    Objective: To evaluate the efficacy and safety...\n",
      "565    Objective: To compare the intraocular pressure...\n",
      "Name: abstract, dtype: object\n"
     ]
    }
   ],
   "source": [
    "adhd_no_html = datasets['adhd']\n",
    "print(adhd_no_html.to_pandas().iloc[[456, 565]]['abstract'])"
   ]
  },
  {
   "cell_type": "markdown",
   "metadata": {},
   "source": [
    "# Missing Values\n",
    "53 entries from the animal depression data have neither title nor abstract."
   ]
  },
  {
   "cell_type": "code",
   "execution_count": 11,
   "metadata": {},
   "outputs": [
    {
     "name": "stdout",
     "output_type": "stream",
     "text": [
      "adhd: 851\n",
      "animal_depression: 1993\n",
      "atypical_antipsychotics: 1120\n",
      "calcium_channel_blockers: 1218\n",
      "oral_hypoglycemics: 503\n",
      "pancreatic_surgery: 34206\n"
     ]
    }
   ],
   "source": [
    "for subject, dataset in datasets.items():\n",
    "    print(f'{subject}: {dataset.height}', end='\\n')"
   ]
  },
  {
   "cell_type": "markdown",
   "metadata": {},
   "source": [
    "Define a function to remove rows without either title or abstract from the dataset:"
   ]
  },
  {
   "cell_type": "code",
   "execution_count": 12,
   "metadata": {},
   "outputs": [],
   "source": [
    "import polars as pl\n",
    "\n",
    "def remove_empty_rows(dataset):\n",
    "\n",
    "    # polars doesn't support dropna() based on multiple columns yet\n",
    "    pandas_df = dataset.to_pandas()\n",
    "\n",
    "    # drop rows where both title and abstract are empty\n",
    "    empty_removed = pandas_df.dropna(\n",
    "        subset=['title', 'abstract'], \n",
    "        how='all',\n",
    "        )\n",
    "    \n",
    "    return pl.DataFrame(empty_removed)"
   ]
  },
  {
   "cell_type": "markdown",
   "metadata": {},
   "source": [
    "Remove all rows in without both title and abstract"
   ]
  },
  {
   "cell_type": "code",
   "execution_count": 13,
   "metadata": {},
   "outputs": [],
   "source": [
    "for subject, dataset in datasets.items():\n",
    "    datasets[subject] = remove_empty_rows(dataset)"
   ]
  },
  {
   "cell_type": "markdown",
   "metadata": {},
   "source": [
    "Verify that rows without neither title nor abstract have been removed:"
   ]
  },
  {
   "cell_type": "code",
   "execution_count": 14,
   "metadata": {},
   "outputs": [
    {
     "name": "stdout",
     "output_type": "stream",
     "text": [
      "adhd: 851\n",
      "animal_depression: 1940\n",
      "atypical_antipsychotics: 1120\n",
      "calcium_channel_blockers: 1218\n",
      "oral_hypoglycemics: 503\n",
      "pancreatic_surgery: 34206\n"
     ]
    }
   ],
   "source": [
    "for subject, dataset in datasets.items():\n",
    "    print(f'{subject}: {dataset.height}', end='\\n')"
   ]
  },
  {
   "cell_type": "markdown",
   "metadata": {},
   "source": [
    "# Duplicates"
   ]
  },
  {
   "cell_type": "markdown",
   "metadata": {},
   "source": [
    "Define a function that filters duplicate rows from the datasets"
   ]
  },
  {
   "cell_type": "code",
   "execution_count": 15,
   "metadata": {},
   "outputs": [],
   "source": [
    "def remove_duplicates(\n",
    "        dataframe: pl.DataFrame,\n",
    "        from_column: str\n",
    "        ):\n",
    "    \n",
    "    rows_empty = dataframe.filter(pl.col(from_column).is_null())\n",
    "    rows_not_empty = dataframe.filter(pl.col(from_column).is_not_null())\n",
    "\n",
    "    rows_duplicates_removed = rows_not_empty.unique(from_column)\n",
    "    num_rows_removed = dataframe.height - (rows_empty.height + rows_duplicates_removed.height)\n",
    "\n",
    "    #print(rows_empty.height, rows_not_empty.height, rows_duplicates_removed.height, num_rows_removed)\n",
    "    return (pl.concat([rows_empty, rows_duplicates_removed]), num_rows_removed)\n"
   ]
  },
  {
   "cell_type": "code",
   "execution_count": 16,
   "metadata": {},
   "outputs": [],
   "source": [
    "import pandas as pd\n",
    "\n",
    "duplicates = pd.DataFrame(columns=['subject', 'by', 'removed'])\n",
    "\n",
    "columns = ['doi', 'pubmed_id', 'webofscience_id', 'central_id']\n",
    "\n",
    "for subject, dataset in datasets.items():\n",
    "    for column in columns:\n",
    "        dataset, num_removed = remove_duplicates(dataset, column)\n",
    "\n",
    "        if num_removed > 0:\n",
    "            duplicates = pd.concat([\n",
    "                duplicates,\n",
    "                pd.DataFrame({\n",
    "                    'subject': [subject],\n",
    "                    'by': [column],\n",
    "                    'removed': [num_removed]\n",
    "                })\n",
    "            ])\n",
    "        \n",
    "    datasets[subject] = dataset"
   ]
  },
  {
   "cell_type": "code",
   "execution_count": 17,
   "metadata": {},
   "outputs": [
    {
     "data": {
      "text/html": [
       "<div>\n",
       "<style scoped>\n",
       "    .dataframe tbody tr th:only-of-type {\n",
       "        vertical-align: middle;\n",
       "    }\n",
       "\n",
       "    .dataframe tbody tr th {\n",
       "        vertical-align: top;\n",
       "    }\n",
       "\n",
       "    .dataframe thead th {\n",
       "        text-align: right;\n",
       "    }\n",
       "</style>\n",
       "<table border=\"1\" class=\"dataframe\">\n",
       "  <thead>\n",
       "    <tr style=\"text-align: right;\">\n",
       "      <th></th>\n",
       "      <th>subject</th>\n",
       "      <th>by</th>\n",
       "      <th>removed</th>\n",
       "    </tr>\n",
       "  </thead>\n",
       "  <tbody>\n",
       "    <tr>\n",
       "      <th>0</th>\n",
       "      <td>animal_depression</td>\n",
       "      <td>doi</td>\n",
       "      <td>2</td>\n",
       "    </tr>\n",
       "    <tr>\n",
       "      <th>0</th>\n",
       "      <td>pancreatic_surgery</td>\n",
       "      <td>doi</td>\n",
       "      <td>14</td>\n",
       "    </tr>\n",
       "  </tbody>\n",
       "</table>\n",
       "</div>"
      ],
      "text/plain": [
       "              subject   by removed\n",
       "0   animal_depression  doi       2\n",
       "0  pancreatic_surgery  doi      14"
      ]
     },
     "execution_count": 17,
     "metadata": {},
     "output_type": "execute_result"
    }
   ],
   "source": [
    "duplicates"
   ]
  },
  {
   "cell_type": "code",
   "execution_count": 18,
   "metadata": {},
   "outputs": [
    {
     "data": {
      "text/html": [
       "<div><style>\n",
       ".dataframe > thead > tr,\n",
       ".dataframe > tbody > tr {\n",
       "  text-align: right;\n",
       "  white-space: pre-wrap;\n",
       "}\n",
       "</style>\n",
       "<small>shape: (0, 15)</small><table border=\"1\" class=\"dataframe\"><thead><tr><th>include</th><th>title</th><th>abstract</th><th>first_author</th><th>year</th><th>journal</th><th>doi</th><th>pubmed_id</th><th>authors</th><th>pubmed_type</th><th>publication_types</th><th>mesh</th><th>webofscience_id</th><th>central_id</th><th>openalex_id</th></tr><tr><td>bool</td><td>str</td><td>str</td><td>str</td><td>f64</td><td>str</td><td>str</td><td>f64</td><td>str</td><td>str</td><td>str</td><td>str</td><td>str</td><td>str</td><td>str</td></tr></thead><tbody></tbody></table></div>"
      ],
      "text/plain": [
       "shape: (0, 15)\n",
       "┌─────────┬───────┬──────────┬──────────────┬───┬──────┬────────────────┬────────────┬─────────────┐\n",
       "│ include ┆ title ┆ abstract ┆ first_author ┆ … ┆ mesh ┆ webofscience_i ┆ central_id ┆ openalex_id │\n",
       "│ ---     ┆ ---   ┆ ---      ┆ ---          ┆   ┆ ---  ┆ d              ┆ ---        ┆ ---         │\n",
       "│ bool    ┆ str   ┆ str      ┆ str          ┆   ┆ str  ┆ ---            ┆ str        ┆ str         │\n",
       "│         ┆       ┆          ┆              ┆   ┆      ┆ str            ┆            ┆             │\n",
       "╞═════════╪═══════╪══════════╪══════════════╪═══╪══════╪════════════════╪════════════╪═════════════╡\n",
       "└─────────┴───────┴──────────┴──────────────┴───┴──────┴────────────────┴────────────┴─────────────┘"
      ]
     },
     "execution_count": 18,
     "metadata": {},
     "output_type": "execute_result"
    }
   ],
   "source": [
    "name = 'pancreatic_surgery'\n",
    "columns = 'abstract'\n",
    "\n",
    "df = datasets[name]\n",
    "df.filter(pl.col(column).is_not_null()).filter(pl.col(column).is_duplicated())"
   ]
  },
  {
   "cell_type": "markdown",
   "metadata": {},
   "source": [
    "# Similar Titles"
   ]
  },
  {
   "cell_type": "code",
   "execution_count": 39,
   "metadata": {},
   "outputs": [],
   "source": [
    "from difflib import SequenceMatcher\n",
    "\n",
    "def similar(a, b):\n",
    "    return SequenceMatcher(None, a, b).ratio()"
   ]
  },
  {
   "cell_type": "code",
   "execution_count": 40,
   "metadata": {},
   "outputs": [],
   "source": [
    "from src import data\n",
    "directory_original = '../../../../data/01_uniform'\n",
    "datasets_original = data.dict_from_directory(directory_original)\n",
    "\n",
    "df = datasets_original['pancreatic_surgery']"
   ]
  },
  {
   "cell_type": "code",
   "execution_count": 41,
   "metadata": {},
   "outputs": [
    {
     "name": "stdout",
     "output_type": "stream",
     "text": [
      "Similar titles found at indices 1 and 32065 with similarity (0.9458128078817734):\n",
      "Cattell-Warren versus Blumgart techniques of pancreatico-jejunostomy following pancreato-duodenectomy \n",
      "Cattell-Warren Versus Blumgart Techniques of Pancreatico-jejunostomy Following Pancreato-duodenectomy\n",
      "\n",
      "Similar titles found at indices 3 and 9282 with similarity (0.9970326409495549):\n",
      "Short- versus long-term complementary nutritional support via needle catheter jejunostomy after pancreaticoduodenectomy: Study protocol of a randomized controlled trial\n",
      "Short- versus long-term complementary nutritional support via needle catheter jejunostomy after pancreaticoduodenectomy: Study protocol of a randomized controlled trial.\n",
      "\n",
      "Similar titles found at indices 4 and 32144 with similarity (0.9038461538461539):\n",
      "Epidural Analgesia Use in Pancreatic Resections (E-PRO I)\n",
      "Epidural Analgesia Use in Pancreatic Resections\n",
      "\n",
      "Similar titles found at indices 4 and 33117 with similarity (0.9038461538461539):\n",
      "Epidural Analgesia Use in Pancreatic Resections (E-PRO I)\n",
      "Epidural Analgesia Use in Pancreatic Resections\n",
      "\n",
      "Similar titles found at indices 5 and 32537 with similarity (1.0):\n",
      "Mesenteric Approach vs. Conventional Approach for Pancreatic Cancer\n",
      "Mesenteric Approach vs. Conventional Approach for Pancreatic Cancer\n",
      "\n",
      "Similar titles found at indices 6 and 31855 with similarity (1.0):\n",
      "Resection of the Nerve Plexus on the Right Half of Celiac and SMA Associated With Extended Pancreatoduodenectomy in the Surgical Treatment for Adenocarcinoma of the Head of Pancreas\n",
      "Resection of the Nerve Plexus on the Right Half of Celiac and SMA Associated With Extended Pancreatoduodenectomy in the Surgical Treatment for Adenocarcinoma of the Head of Pancreas\n",
      "\n",
      "Similar titles found at indices 7 and 32708 with similarity (0.9920634920634921):\n",
      " Prophylactic exploration of common bile duct decrease the risk of biliary and pancreatic leakage (fistula) in Beger procedure \n",
      "Prophylactic exploration of common bile duct decrease the risk of biliary and pancreatic leakage (fistula) in Beger procedure\n",
      "\n"
     ]
    },
    {
     "ename": "KeyboardInterrupt",
     "evalue": "",
     "output_type": "error",
     "traceback": [
      "\u001b[1;31m---------------------------------------------------------------------------\u001b[0m",
      "\u001b[1;31mKeyboardInterrupt\u001b[0m                         Traceback (most recent call last)",
      "Cell \u001b[1;32mIn[41], line 17\u001b[0m\n\u001b[0;32m     14\u001b[0m                     \u001b[38;5;28mprint\u001b[39m(\u001b[38;5;124mf\u001b[39m\u001b[38;5;124m\"\u001b[39m\u001b[38;5;124mSimilar titles found at indices \u001b[39m\u001b[38;5;132;01m{\u001b[39;00mi\u001b[38;5;132;01m}\u001b[39;00m\u001b[38;5;124m and \u001b[39m\u001b[38;5;132;01m{\u001b[39;00mj\u001b[38;5;132;01m}\u001b[39;00m\u001b[38;5;124m with similarity (\u001b[39m\u001b[38;5;132;01m{\u001b[39;00msimilarity\u001b[38;5;132;01m}\u001b[39;00m\u001b[38;5;124m):\u001b[39m\u001b[38;5;124m\"\u001b[39m, title1, title2, sep\u001b[38;5;241m=\u001b[39m\u001b[38;5;124m'\u001b[39m\u001b[38;5;130;01m\\n\u001b[39;00m\u001b[38;5;124m'\u001b[39m, end\u001b[38;5;241m=\u001b[39m\u001b[38;5;124m'\u001b[39m\u001b[38;5;130;01m\\n\u001b[39;00m\u001b[38;5;130;01m\\n\u001b[39;00m\u001b[38;5;124m'\u001b[39m)\n\u001b[0;32m     15\u001b[0m                     similars\u001b[38;5;241m.\u001b[39mappend((i, j))\n\u001b[1;32m---> 17\u001b[0m \u001b[43mcompare_titles\u001b[49m\u001b[43m(\u001b[49m\u001b[43mdf\u001b[49m\u001b[43m)\u001b[49m\n",
      "Cell \u001b[1;32mIn[41], line 12\u001b[0m, in \u001b[0;36mcompare_titles\u001b[1;34m(df)\u001b[0m\n\u001b[0;32m     10\u001b[0m title2 \u001b[38;5;241m=\u001b[39m titles[j]\n\u001b[0;32m     11\u001b[0m \u001b[38;5;28;01mif\u001b[39;00m title1 \u001b[38;5;129;01mis\u001b[39;00m \u001b[38;5;129;01mnot\u001b[39;00m \u001b[38;5;28;01mNone\u001b[39;00m \u001b[38;5;129;01mand\u001b[39;00m title2 \u001b[38;5;129;01mis\u001b[39;00m \u001b[38;5;129;01mnot\u001b[39;00m \u001b[38;5;28;01mNone\u001b[39;00m:\n\u001b[1;32m---> 12\u001b[0m     similarity \u001b[38;5;241m=\u001b[39m \u001b[43msimilar\u001b[49m\u001b[43m(\u001b[49m\u001b[43mtitle1\u001b[49m\u001b[43m,\u001b[49m\u001b[43m \u001b[49m\u001b[43mtitle2\u001b[49m\u001b[43m)\u001b[49m\n\u001b[0;32m     13\u001b[0m     \u001b[38;5;28;01mif\u001b[39;00m similarity \u001b[38;5;241m>\u001b[39m \u001b[38;5;241m0.75\u001b[39m:\n\u001b[0;32m     14\u001b[0m         \u001b[38;5;28mprint\u001b[39m(\u001b[38;5;124mf\u001b[39m\u001b[38;5;124m\"\u001b[39m\u001b[38;5;124mSimilar titles found at indices \u001b[39m\u001b[38;5;132;01m{\u001b[39;00mi\u001b[38;5;132;01m}\u001b[39;00m\u001b[38;5;124m and \u001b[39m\u001b[38;5;132;01m{\u001b[39;00mj\u001b[38;5;132;01m}\u001b[39;00m\u001b[38;5;124m with similarity (\u001b[39m\u001b[38;5;132;01m{\u001b[39;00msimilarity\u001b[38;5;132;01m}\u001b[39;00m\u001b[38;5;124m):\u001b[39m\u001b[38;5;124m\"\u001b[39m, title1, title2, sep\u001b[38;5;241m=\u001b[39m\u001b[38;5;124m'\u001b[39m\u001b[38;5;130;01m\\n\u001b[39;00m\u001b[38;5;124m'\u001b[39m, end\u001b[38;5;241m=\u001b[39m\u001b[38;5;124m'\u001b[39m\u001b[38;5;130;01m\\n\u001b[39;00m\u001b[38;5;130;01m\\n\u001b[39;00m\u001b[38;5;124m'\u001b[39m)\n",
      "Cell \u001b[1;32mIn[39], line 4\u001b[0m, in \u001b[0;36msimilar\u001b[1;34m(a, b)\u001b[0m\n\u001b[0;32m      3\u001b[0m \u001b[38;5;28;01mdef\u001b[39;00m \u001b[38;5;21msimilar\u001b[39m(a, b):\n\u001b[1;32m----> 4\u001b[0m     \u001b[38;5;28;01mreturn\u001b[39;00m \u001b[43mSequenceMatcher\u001b[49m\u001b[43m(\u001b[49m\u001b[38;5;28;43;01mNone\u001b[39;49;00m\u001b[43m,\u001b[49m\u001b[43m \u001b[49m\u001b[43ma\u001b[49m\u001b[43m,\u001b[49m\u001b[43m \u001b[49m\u001b[43mb\u001b[49m\u001b[43m)\u001b[49m\u001b[38;5;241;43m.\u001b[39;49m\u001b[43mratio\u001b[49m\u001b[43m(\u001b[49m\u001b[43m)\u001b[49m\n",
      "File \u001b[1;32mc:\\Users\\mfaig\\miniforge3\\envs\\automated_screening\\Lib\\difflib.py:619\u001b[0m, in \u001b[0;36mSequenceMatcher.ratio\u001b[1;34m(self)\u001b[0m\n\u001b[0;32m    597\u001b[0m \u001b[38;5;28;01mdef\u001b[39;00m \u001b[38;5;21mratio\u001b[39m(\u001b[38;5;28mself\u001b[39m):\n\u001b[0;32m    598\u001b[0m \u001b[38;5;250m    \u001b[39m\u001b[38;5;124;03m\"\"\"Return a measure of the sequences' similarity (float in [0,1]).\u001b[39;00m\n\u001b[0;32m    599\u001b[0m \n\u001b[0;32m    600\u001b[0m \u001b[38;5;124;03m    Where T is the total number of elements in both sequences, and\u001b[39;00m\n\u001b[1;32m   (...)\u001b[0m\n\u001b[0;32m    616\u001b[0m \u001b[38;5;124;03m    1.0\u001b[39;00m\n\u001b[0;32m    617\u001b[0m \u001b[38;5;124;03m    \"\"\"\u001b[39;00m\n\u001b[1;32m--> 619\u001b[0m     matches \u001b[38;5;241m=\u001b[39m \u001b[38;5;28msum\u001b[39m(triple[\u001b[38;5;241m-\u001b[39m\u001b[38;5;241m1\u001b[39m] \u001b[38;5;28;01mfor\u001b[39;00m triple \u001b[38;5;129;01min\u001b[39;00m \u001b[38;5;28;43mself\u001b[39;49m\u001b[38;5;241;43m.\u001b[39;49m\u001b[43mget_matching_blocks\u001b[49m\u001b[43m(\u001b[49m\u001b[43m)\u001b[49m)\n\u001b[0;32m    620\u001b[0m     \u001b[38;5;28;01mreturn\u001b[39;00m _calculate_ratio(matches, \u001b[38;5;28mlen\u001b[39m(\u001b[38;5;28mself\u001b[39m\u001b[38;5;241m.\u001b[39ma) \u001b[38;5;241m+\u001b[39m \u001b[38;5;28mlen\u001b[39m(\u001b[38;5;28mself\u001b[39m\u001b[38;5;241m.\u001b[39mb))\n",
      "File \u001b[1;32mc:\\Users\\mfaig\\miniforge3\\envs\\automated_screening\\Lib\\difflib.py:454\u001b[0m, in \u001b[0;36mSequenceMatcher.get_matching_blocks\u001b[1;34m(self)\u001b[0m\n\u001b[0;32m    452\u001b[0m \u001b[38;5;28;01mwhile\u001b[39;00m queue:\n\u001b[0;32m    453\u001b[0m     alo, ahi, blo, bhi \u001b[38;5;241m=\u001b[39m queue\u001b[38;5;241m.\u001b[39mpop()\n\u001b[1;32m--> 454\u001b[0m     i, j, k \u001b[38;5;241m=\u001b[39m x \u001b[38;5;241m=\u001b[39m \u001b[38;5;28;43mself\u001b[39;49m\u001b[38;5;241;43m.\u001b[39;49m\u001b[43mfind_longest_match\u001b[49m\u001b[43m(\u001b[49m\u001b[43malo\u001b[49m\u001b[43m,\u001b[49m\u001b[43m \u001b[49m\u001b[43mahi\u001b[49m\u001b[43m,\u001b[49m\u001b[43m \u001b[49m\u001b[43mblo\u001b[49m\u001b[43m,\u001b[49m\u001b[43m \u001b[49m\u001b[43mbhi\u001b[49m\u001b[43m)\u001b[49m\n\u001b[0;32m    455\u001b[0m     \u001b[38;5;66;03m# a[alo:i] vs b[blo:j] unknown\u001b[39;00m\n\u001b[0;32m    456\u001b[0m     \u001b[38;5;66;03m# a[i:i+k] same as b[j:j+k]\u001b[39;00m\n\u001b[0;32m    457\u001b[0m     \u001b[38;5;66;03m# a[i+k:ahi] vs b[j+k:bhi] unknown\u001b[39;00m\n\u001b[0;32m    458\u001b[0m     \u001b[38;5;28;01mif\u001b[39;00m k:   \u001b[38;5;66;03m# if k is 0, there was no matching block\u001b[39;00m\n",
      "File \u001b[1;32mc:\\Users\\mfaig\\miniforge3\\envs\\automated_screening\\Lib\\difflib.py:385\u001b[0m, in \u001b[0;36mSequenceMatcher.find_longest_match\u001b[1;34m(self, alo, ahi, blo, bhi)\u001b[0m\n\u001b[0;32m    383\u001b[0m \u001b[38;5;28;01mif\u001b[39;00m j \u001b[38;5;241m>\u001b[39m\u001b[38;5;241m=\u001b[39m bhi:\n\u001b[0;32m    384\u001b[0m     \u001b[38;5;28;01mbreak\u001b[39;00m\n\u001b[1;32m--> 385\u001b[0m k \u001b[38;5;241m=\u001b[39m newj2len[j] \u001b[38;5;241m=\u001b[39m \u001b[43mj2lenget\u001b[49m\u001b[43m(\u001b[49m\u001b[43mj\u001b[49m\u001b[38;5;241;43m-\u001b[39;49m\u001b[38;5;241;43m1\u001b[39;49m\u001b[43m,\u001b[49m\u001b[43m \u001b[49m\u001b[38;5;241;43m0\u001b[39;49m\u001b[43m)\u001b[49m \u001b[38;5;241m+\u001b[39m \u001b[38;5;241m1\u001b[39m\n\u001b[0;32m    386\u001b[0m \u001b[38;5;28;01mif\u001b[39;00m k \u001b[38;5;241m>\u001b[39m bestsize:\n\u001b[0;32m    387\u001b[0m     besti, bestj, bestsize \u001b[38;5;241m=\u001b[39m i\u001b[38;5;241m-\u001b[39mk\u001b[38;5;241m+\u001b[39m\u001b[38;5;241m1\u001b[39m, j\u001b[38;5;241m-\u001b[39mk\u001b[38;5;241m+\u001b[39m\u001b[38;5;241m1\u001b[39m, k\n",
      "\u001b[1;31mKeyboardInterrupt\u001b[0m: "
     ]
    }
   ],
   "source": [
    "df = datasets['pancreatic_surgery']\n",
    "\n",
    "similars = []\n",
    "\n",
    "def compare_titles(df):\n",
    "    titles = df['title'].to_list()\n",
    "    for i in range(len(titles)):\n",
    "        for j in range(i+1, len(titles)):\n",
    "            title1 = titles[i]\n",
    "            title2 = titles[j]\n",
    "            if title1 is not None and title2 is not None:\n",
    "                similarity = similar(title1, title2)\n",
    "                if similarity > 0.75:\n",
    "                    print(f\"Similar titles found at indices {i} and {j} with similarity ({similarity}):\", title1, title2, sep='\\n', end='\\n\\n')\n",
    "                    similars.append((i, j))\n",
    "\n",
    "compare_titles(df)"
   ]
  },
  {
   "cell_type": "markdown",
   "metadata": {},
   "source": [
    "# Translation"
   ]
  },
  {
   "cell_type": "code",
   "execution_count": 27,
   "metadata": {},
   "outputs": [],
   "source": [
    "atpyical_antipsychotics = datasets['atypical_antipsychotics']\n",
    "japanese_abstract = atpyical_antipsychotics.to_pandas().iloc[443]['abstract']\n",
    "\n",
    "pancreatic_surgery = datasets['pancreatic_surgery']\n",
    "german_abstract = pancreatic_surgery.to_pandas().iloc[200]['abstract']"
   ]
  },
  {
   "cell_type": "code",
   "execution_count": 30,
   "metadata": {},
   "outputs": [
    {
     "data": {
      "text/plain": [
       "'シグマ受容体拮抗物質に関する最近の研究成果を精神分裂病治療薬との関連でまとめた．選択的シグマ1受容体拮抗物質であるNE-100はphencyclidine(PCP)誘発異常行動改善作用および認知障害改善作用を有するが，ドパミンアゴニスト誘発行動には影響を及ぼさず，カタレプシー惹起性も認められない．NE-100の作用機序はN-methyl-D-aspartate(NMDA)/PCP受容体イオンチャネル複合体の間接的な修飾作用およびドパミン作動性神経終末でドパミンの遊離調節作用が関与している可能性が示唆されている．また，最近報告された選択的シグマ1受容体拮抗物質MS-355/MS-377はNE-100と類似の薬理学的プロファイルを有するが，さらに，ドパミンD2受容体拮抗薬と同様にPCP誘発立ち上がり行動を抑制し，アポモルヒネクライミング行動およびメタンフェタミン逆耐性形成も抑制する．精神分裂病をターゲットとしたシグマ1受容体拮抗物質の臨床試験ではrimcazole，remoxipride，BMY 14802，panamesine(EMD 57445)およびSL82.0715について報告されている．Rimcazoleはオープン試験では有効であったが，ダブルブラインド試験で痙攣が誘発され，臨床試験を断念している．RemoxiprideはドパミンD2受容体拮抗薬と異なった治療効果を示したが，再生不良性貧血の副作用のため開発を断念している．BMY 14802は精神分裂病に無効であり，panamesineおよびSh82.0714は精神分裂病を対象としたオープン試験では好成績をあげている．本総説では最近のシグマ受容体拮抗物質の薬理学的プロファイルおよび精神分裂病を対象とした臨床試験成績を中心にまとめた．'"
      ]
     },
     "execution_count": 30,
     "metadata": {},
     "output_type": "execute_result"
    }
   ],
   "source": [
    "japanese_abstract"
   ]
  },
  {
   "cell_type": "code",
   "execution_count": 29,
   "metadata": {},
   "outputs": [
    {
     "name": "stdout",
     "output_type": "stream",
     "text": [
      "ja\n"
     ]
    }
   ],
   "source": [
    "import langdetect\n",
    "\n",
    "print(langdetect.detect(japanese_abstract))\n",
    "#print(langdetect.detect(german_abstract[:4000]))"
   ]
  },
  {
   "cell_type": "code",
   "execution_count": 11,
   "metadata": {},
   "outputs": [
    {
     "ename": "HTTPError",
     "evalue": "HTTP Error 400: Bad Request",
     "output_type": "error",
     "traceback": [
      "\u001b[1;31m---------------------------------------------------------------------------\u001b[0m",
      "\u001b[1;31mHTTPError\u001b[0m                                 Traceback (most recent call last)",
      "Cell \u001b[1;32mIn[11], line 6\u001b[0m\n\u001b[0;32m      3\u001b[0m japanese_blob \u001b[38;5;241m=\u001b[39m TextBlob(japanese_abstract)\n\u001b[0;32m      4\u001b[0m german_blob \u001b[38;5;241m=\u001b[39m TextBlob(german_abstract)\n\u001b[1;32m----> 6\u001b[0m \u001b[38;5;28mprint\u001b[39m(\u001b[43mjapanese_blob\u001b[49m\u001b[38;5;241;43m.\u001b[39;49m\u001b[43mdetect_language\u001b[49m\u001b[43m(\u001b[49m\u001b[43m)\u001b[49m)\n\u001b[0;32m      7\u001b[0m \u001b[38;5;28mprint\u001b[39m(german_blob\u001b[38;5;241m.\u001b[39mdetect_language())\n",
      "File \u001b[1;32mc:\\Users\\mfaig\\miniforge3\\envs\\automated_screening\\Lib\\site-packages\\textblob\\blob.py:568\u001b[0m, in \u001b[0;36mBaseBlob.detect_language\u001b[1;34m(self)\u001b[0m\n\u001b[0;32m    549\u001b[0m \u001b[38;5;28;01mdef\u001b[39;00m \u001b[38;5;21mdetect_language\u001b[39m(\u001b[38;5;28mself\u001b[39m):\n\u001b[0;32m    550\u001b[0m \u001b[38;5;250m    \u001b[39m\u001b[38;5;124;03m\"\"\"Detect the blob's language using the Google Translate API.\u001b[39;00m\n\u001b[0;32m    551\u001b[0m \n\u001b[0;32m    552\u001b[0m \u001b[38;5;124;03m    Requires an internet connection.\u001b[39;00m\n\u001b[1;32m   (...)\u001b[0m\n\u001b[0;32m    566\u001b[0m \u001b[38;5;124;03m    :rtype: str\u001b[39;00m\n\u001b[0;32m    567\u001b[0m \u001b[38;5;124;03m    \"\"\"\u001b[39;00m\n\u001b[1;32m--> 568\u001b[0m     \u001b[38;5;28;01mreturn\u001b[39;00m \u001b[38;5;28;43mself\u001b[39;49m\u001b[38;5;241;43m.\u001b[39;49m\u001b[43mtranslator\u001b[49m\u001b[38;5;241;43m.\u001b[39;49m\u001b[43mdetect\u001b[49m\u001b[43m(\u001b[49m\u001b[38;5;28;43mself\u001b[39;49m\u001b[38;5;241;43m.\u001b[39;49m\u001b[43mraw\u001b[49m\u001b[43m)\u001b[49m\n",
      "File \u001b[1;32mc:\\Users\\mfaig\\miniforge3\\envs\\automated_screening\\Lib\\site-packages\\textblob\\translate.py:72\u001b[0m, in \u001b[0;36mTranslator.detect\u001b[1;34m(self, source, host, type_)\u001b[0m\n\u001b[0;32m     70\u001b[0m data \u001b[38;5;241m=\u001b[39m {\u001b[38;5;124m\"\u001b[39m\u001b[38;5;124mq\u001b[39m\u001b[38;5;124m\"\u001b[39m: source}\n\u001b[0;32m     71\u001b[0m url \u001b[38;5;241m=\u001b[39m \u001b[38;5;124mu\u001b[39m\u001b[38;5;124m'\u001b[39m\u001b[38;5;132;01m{url}\u001b[39;00m\u001b[38;5;124m&sl=auto&tk=\u001b[39m\u001b[38;5;132;01m{tk}\u001b[39;00m\u001b[38;5;124m'\u001b[39m\u001b[38;5;241m.\u001b[39mformat(url\u001b[38;5;241m=\u001b[39m\u001b[38;5;28mself\u001b[39m\u001b[38;5;241m.\u001b[39murl, tk\u001b[38;5;241m=\u001b[39m_calculate_tk(source))\n\u001b[1;32m---> 72\u001b[0m response \u001b[38;5;241m=\u001b[39m \u001b[38;5;28;43mself\u001b[39;49m\u001b[38;5;241;43m.\u001b[39;49m\u001b[43m_request\u001b[49m\u001b[43m(\u001b[49m\u001b[43murl\u001b[49m\u001b[43m,\u001b[49m\u001b[43m \u001b[49m\u001b[43mhost\u001b[49m\u001b[38;5;241;43m=\u001b[39;49m\u001b[43mhost\u001b[49m\u001b[43m,\u001b[49m\u001b[43m \u001b[49m\u001b[43mtype_\u001b[49m\u001b[38;5;241;43m=\u001b[39;49m\u001b[43mtype_\u001b[49m\u001b[43m,\u001b[49m\u001b[43m \u001b[49m\u001b[43mdata\u001b[49m\u001b[38;5;241;43m=\u001b[39;49m\u001b[43mdata\u001b[49m\u001b[43m)\u001b[49m\n\u001b[0;32m     73\u001b[0m result, language \u001b[38;5;241m=\u001b[39m json\u001b[38;5;241m.\u001b[39mloads(response)\n\u001b[0;32m     74\u001b[0m \u001b[38;5;28;01mreturn\u001b[39;00m language\n",
      "File \u001b[1;32mc:\\Users\\mfaig\\miniforge3\\envs\\automated_screening\\Lib\\site-packages\\textblob\\translate.py:92\u001b[0m, in \u001b[0;36mTranslator._request\u001b[1;34m(self, url, host, type_, data)\u001b[0m\n\u001b[0;32m     90\u001b[0m \u001b[38;5;28;01mif\u001b[39;00m host \u001b[38;5;129;01mor\u001b[39;00m type_:\n\u001b[0;32m     91\u001b[0m     req\u001b[38;5;241m.\u001b[39mset_proxy(host\u001b[38;5;241m=\u001b[39mhost, \u001b[38;5;28mtype\u001b[39m\u001b[38;5;241m=\u001b[39mtype_)\n\u001b[1;32m---> 92\u001b[0m resp \u001b[38;5;241m=\u001b[39m \u001b[43mrequest\u001b[49m\u001b[38;5;241;43m.\u001b[39;49m\u001b[43murlopen\u001b[49m\u001b[43m(\u001b[49m\u001b[43mreq\u001b[49m\u001b[43m)\u001b[49m\n\u001b[0;32m     93\u001b[0m content \u001b[38;5;241m=\u001b[39m resp\u001b[38;5;241m.\u001b[39mread()\n\u001b[0;32m     94\u001b[0m \u001b[38;5;28;01mreturn\u001b[39;00m content\u001b[38;5;241m.\u001b[39mdecode(\u001b[38;5;124m'\u001b[39m\u001b[38;5;124mutf-8\u001b[39m\u001b[38;5;124m'\u001b[39m)\n",
      "File \u001b[1;32mc:\\Users\\mfaig\\miniforge3\\envs\\automated_screening\\Lib\\urllib\\request.py:215\u001b[0m, in \u001b[0;36murlopen\u001b[1;34m(url, data, timeout, cafile, capath, cadefault, context)\u001b[0m\n\u001b[0;32m    213\u001b[0m \u001b[38;5;28;01melse\u001b[39;00m:\n\u001b[0;32m    214\u001b[0m     opener \u001b[38;5;241m=\u001b[39m _opener\n\u001b[1;32m--> 215\u001b[0m \u001b[38;5;28;01mreturn\u001b[39;00m \u001b[43mopener\u001b[49m\u001b[38;5;241;43m.\u001b[39;49m\u001b[43mopen\u001b[49m\u001b[43m(\u001b[49m\u001b[43murl\u001b[49m\u001b[43m,\u001b[49m\u001b[43m \u001b[49m\u001b[43mdata\u001b[49m\u001b[43m,\u001b[49m\u001b[43m \u001b[49m\u001b[43mtimeout\u001b[49m\u001b[43m)\u001b[49m\n",
      "File \u001b[1;32mc:\\Users\\mfaig\\miniforge3\\envs\\automated_screening\\Lib\\urllib\\request.py:521\u001b[0m, in \u001b[0;36mOpenerDirector.open\u001b[1;34m(self, fullurl, data, timeout)\u001b[0m\n\u001b[0;32m    519\u001b[0m \u001b[38;5;28;01mfor\u001b[39;00m processor \u001b[38;5;129;01min\u001b[39;00m \u001b[38;5;28mself\u001b[39m\u001b[38;5;241m.\u001b[39mprocess_response\u001b[38;5;241m.\u001b[39mget(protocol, []):\n\u001b[0;32m    520\u001b[0m     meth \u001b[38;5;241m=\u001b[39m \u001b[38;5;28mgetattr\u001b[39m(processor, meth_name)\n\u001b[1;32m--> 521\u001b[0m     response \u001b[38;5;241m=\u001b[39m \u001b[43mmeth\u001b[49m\u001b[43m(\u001b[49m\u001b[43mreq\u001b[49m\u001b[43m,\u001b[49m\u001b[43m \u001b[49m\u001b[43mresponse\u001b[49m\u001b[43m)\u001b[49m\n\u001b[0;32m    523\u001b[0m \u001b[38;5;28;01mreturn\u001b[39;00m response\n",
      "File \u001b[1;32mc:\\Users\\mfaig\\miniforge3\\envs\\automated_screening\\Lib\\urllib\\request.py:630\u001b[0m, in \u001b[0;36mHTTPErrorProcessor.http_response\u001b[1;34m(self, request, response)\u001b[0m\n\u001b[0;32m    627\u001b[0m \u001b[38;5;66;03m# According to RFC 2616, \"2xx\" code indicates that the client's\u001b[39;00m\n\u001b[0;32m    628\u001b[0m \u001b[38;5;66;03m# request was successfully received, understood, and accepted.\u001b[39;00m\n\u001b[0;32m    629\u001b[0m \u001b[38;5;28;01mif\u001b[39;00m \u001b[38;5;129;01mnot\u001b[39;00m (\u001b[38;5;241m200\u001b[39m \u001b[38;5;241m<\u001b[39m\u001b[38;5;241m=\u001b[39m code \u001b[38;5;241m<\u001b[39m \u001b[38;5;241m300\u001b[39m):\n\u001b[1;32m--> 630\u001b[0m     response \u001b[38;5;241m=\u001b[39m \u001b[38;5;28;43mself\u001b[39;49m\u001b[38;5;241;43m.\u001b[39;49m\u001b[43mparent\u001b[49m\u001b[38;5;241;43m.\u001b[39;49m\u001b[43merror\u001b[49m\u001b[43m(\u001b[49m\n\u001b[0;32m    631\u001b[0m \u001b[43m        \u001b[49m\u001b[38;5;124;43m'\u001b[39;49m\u001b[38;5;124;43mhttp\u001b[39;49m\u001b[38;5;124;43m'\u001b[39;49m\u001b[43m,\u001b[49m\u001b[43m \u001b[49m\u001b[43mrequest\u001b[49m\u001b[43m,\u001b[49m\u001b[43m \u001b[49m\u001b[43mresponse\u001b[49m\u001b[43m,\u001b[49m\u001b[43m \u001b[49m\u001b[43mcode\u001b[49m\u001b[43m,\u001b[49m\u001b[43m \u001b[49m\u001b[43mmsg\u001b[49m\u001b[43m,\u001b[49m\u001b[43m \u001b[49m\u001b[43mhdrs\u001b[49m\u001b[43m)\u001b[49m\n\u001b[0;32m    633\u001b[0m \u001b[38;5;28;01mreturn\u001b[39;00m response\n",
      "File \u001b[1;32mc:\\Users\\mfaig\\miniforge3\\envs\\automated_screening\\Lib\\urllib\\request.py:559\u001b[0m, in \u001b[0;36mOpenerDirector.error\u001b[1;34m(self, proto, *args)\u001b[0m\n\u001b[0;32m    557\u001b[0m \u001b[38;5;28;01mif\u001b[39;00m http_err:\n\u001b[0;32m    558\u001b[0m     args \u001b[38;5;241m=\u001b[39m (\u001b[38;5;28mdict\u001b[39m, \u001b[38;5;124m'\u001b[39m\u001b[38;5;124mdefault\u001b[39m\u001b[38;5;124m'\u001b[39m, \u001b[38;5;124m'\u001b[39m\u001b[38;5;124mhttp_error_default\u001b[39m\u001b[38;5;124m'\u001b[39m) \u001b[38;5;241m+\u001b[39m orig_args\n\u001b[1;32m--> 559\u001b[0m     \u001b[38;5;28;01mreturn\u001b[39;00m \u001b[38;5;28;43mself\u001b[39;49m\u001b[38;5;241;43m.\u001b[39;49m\u001b[43m_call_chain\u001b[49m\u001b[43m(\u001b[49m\u001b[38;5;241;43m*\u001b[39;49m\u001b[43margs\u001b[49m\u001b[43m)\u001b[49m\n",
      "File \u001b[1;32mc:\\Users\\mfaig\\miniforge3\\envs\\automated_screening\\Lib\\urllib\\request.py:492\u001b[0m, in \u001b[0;36mOpenerDirector._call_chain\u001b[1;34m(self, chain, kind, meth_name, *args)\u001b[0m\n\u001b[0;32m    490\u001b[0m \u001b[38;5;28;01mfor\u001b[39;00m handler \u001b[38;5;129;01min\u001b[39;00m handlers:\n\u001b[0;32m    491\u001b[0m     func \u001b[38;5;241m=\u001b[39m \u001b[38;5;28mgetattr\u001b[39m(handler, meth_name)\n\u001b[1;32m--> 492\u001b[0m     result \u001b[38;5;241m=\u001b[39m \u001b[43mfunc\u001b[49m\u001b[43m(\u001b[49m\u001b[38;5;241;43m*\u001b[39;49m\u001b[43margs\u001b[49m\u001b[43m)\u001b[49m\n\u001b[0;32m    493\u001b[0m     \u001b[38;5;28;01mif\u001b[39;00m result \u001b[38;5;129;01mis\u001b[39;00m \u001b[38;5;129;01mnot\u001b[39;00m \u001b[38;5;28;01mNone\u001b[39;00m:\n\u001b[0;32m    494\u001b[0m         \u001b[38;5;28;01mreturn\u001b[39;00m result\n",
      "File \u001b[1;32mc:\\Users\\mfaig\\miniforge3\\envs\\automated_screening\\Lib\\urllib\\request.py:639\u001b[0m, in \u001b[0;36mHTTPDefaultErrorHandler.http_error_default\u001b[1;34m(self, req, fp, code, msg, hdrs)\u001b[0m\n\u001b[0;32m    638\u001b[0m \u001b[38;5;28;01mdef\u001b[39;00m \u001b[38;5;21mhttp_error_default\u001b[39m(\u001b[38;5;28mself\u001b[39m, req, fp, code, msg, hdrs):\n\u001b[1;32m--> 639\u001b[0m     \u001b[38;5;28;01mraise\u001b[39;00m HTTPError(req\u001b[38;5;241m.\u001b[39mfull_url, code, msg, hdrs, fp)\n",
      "\u001b[1;31mHTTPError\u001b[0m: HTTP Error 400: Bad Request"
     ]
    }
   ],
   "source": [
    "from textblob import TextBlob\n",
    "\n",
    "japanese_blob = TextBlob(japanese_abstract)\n",
    "german_blob = TextBlob(german_abstract)\n",
    "\n",
    "print(japanese_blob.detect_language())\n",
    "print(german_blob.detect_language())"
   ]
  },
  {
   "cell_type": "code",
   "execution_count": 4,
   "metadata": {},
   "outputs": [
    {
     "name": "stdout",
     "output_type": "stream",
     "text": [
      "Zusammenfassung Hintergrund Die chronische Pankreatitis (CP) ist eine haufige Ursache fur stationare Einweisungen in die Gastroenterologie und ist mit einer reduzierten Lebensqualitat und Lebenserwartung assoziiert. Die Deutsche Gesellschaft fur Gastroenterologie, Verdauungs- und Stoffwechselerkrankungen (DGVS) hat in der aktuellen S3-Leitlinie Pankreatitis die neuesten Erkenntnisse von Epidemiologie, Diagnostik und Behandlung der akuten und chronischen Pankreatitis zusammengefasst. Hier werden praxisrelevante Aspekte fur die chronische Pankreatitis zusammengefasst. Ergebnisse Die haufigste Ursache der CP ist der chronische Alkoholabusus. Weitere Ursachen sind die hereditare Pankreatitis, die Autoimmunpankreatitis, ein Hyperparathyreoidismus und idiopathische Formen der CP. Neben der klassischen hereditaren Pankreatitis (PRSS1-Mutation), sind in den letzten Jahren eine Vielzahl an Genen identifiziert worden, die mit einem erhohten Risiko fur die Entwicklung einer idiopathischen CP assoziiert sind. In der konservativen Therapie der CP steht die Behandlung der exokrinen und endokrinen Insuffizienz sowie die Pravention und Behandlung von Sekundarkomplikationen (z.B. Osteoporose, Vitaminmangel, Mangelernahrung) im Vordergrund. Lokale Komplikationen (Gallengangsstenose, Duodenalstenose, Pseudozysten und chronische Schmerzen) sollten in Pankreaszentren im interdisziplinaren Konsens zwischen Viszeralchirurgie, Radiologie und der interventionellen Endoskopie abgestimmt werden. Wahrend die Drainage von Pseudozysten die Domane der Endoskopie ist, zeigen neueste Daten, dass die chirurgische Therapie von opiatabhangigen Schmerzen bei Patienten mit einem erweiterten Pankreasgang der Endoskopie uberlegen ist. Schlussfolgerung Die CP weist eine erhohte Morbiditat und Mortalitat auf und fuhrt haufig zu stationaren Krankenhauseinweisungen. Das klinische Management dieser Patienten verlangt ein hohes Ma ss an Interdisziplinaritat, um fur jeden Patienten abhangig von den Komorbiditaten und dem Erkrankungsstadium ein individualisiertes Vorsorge- und Therapiekonzept zu entwerfen. Abstract Introduction Chronic pancreatitis (CP) is a frequent cause for hospitalization and is associated with impaired quality of life and reduced overall survival. The German Society for Gastroenterology (DGVS) has recently completed the S3-Guideline \"Pancreatitis\" that summarizes key findings on epidemiology, diagnostic and therapeutic concepts for acute and chronic pancreatitis. Here, we recapitulate the most relevant findings for clinicians regarding CP. Results The most common cause of CP is chronic alcohol abuse, other causes are hereditary pancreatitis, autoimmune pancreatitis, hyperparathyroidism and idiopathic forms. Apart from the classical hereditary pancreatitis (PRSS1 mutation), a number of genetic associations have been discovered over the last years that are associated with an increased risk to develop idiopathic CP. The conservative management of CP is focused on the appropriate management of exocrine and endocrine insufficiency, and the prevention and treatment of secondary complications such as osteoporosis, vitamin deficiencies and malnutrition. Local complications (bile duct stenosis, duodenal stenosis, pseudocysts and chronic pain) should be managed in multidisciplinary teams in specialized pancreas centres with expert surgeons, radiologists and gastroenterologists. Infected or symptomatic pseudocysts should be primarily addressed by endoscopic drainage. In contrast, patients with chronic pain, dilated pancreas duct and opioid use should be considered for early surgical intervention. Conclusion Chronic pancreatitis is associated with increased morbidity and mortality and often leads to hospital admissions. The clinical management of complex patients with local complications requires an interdisciplinary approach to tailor available therapeutic modalities depending on the stage of the disease and pre-existing comorbidities.\n"
     ]
    }
   ],
   "source": [
    "print(german_abstract)"
   ]
  },
  {
   "cell_type": "code",
   "execution_count": 20,
   "metadata": {},
   "outputs": [],
   "source": [
    "import os, dotenv, deepl\n",
    "\n",
    "dotenv.load_dotenv()\n",
    "\n",
    "deepl_api_key = os.getenv('DEEPL')\n",
    "\n",
    "translator = deepl.Translator(deepl_api_key)\n",
    "\n",
    "result = translator.translate_text(abstract, target_lang='EN-US')\n",
    "translated = result.text"
   ]
  },
  {
   "cell_type": "code",
   "execution_count": 22,
   "metadata": {},
   "outputs": [
    {
     "name": "stdout",
     "output_type": "stream",
     "text": [
      "シグマ受容体拮抗物質に関する最近の研究成果を精神分裂病治療薬との関連でまとめた．選択的シグマ1受容体拮抗物質であるNE-100はphencyclidine(PCP)誘発異常行動改善作用および認知障害改善作用を有するが，ドパミンアゴニスト誘発行動には影響を及ぼさず，カタレプシー惹起性も認められない．NE-100の作用機序はN-methyl-D-aspartate(NMDA)/PCP受容体イオンチャネル複合体の間接的な修飾作用およびドパミン作動性神経終末でドパミンの遊離調節作用が関与している可能性が示唆されている．また，最近報告された選択的シグマ1受容体拮抗物質MS-355/MS-377はNE-100と類似の薬理学的プロファイルを有するが，さらに，ドパミンD2受容体拮抗薬と同様にPCP誘発立ち上がり行動を抑制し，アポモルヒネクライミング行動およびメタンフェタミン逆耐性形成も抑制する．精神分裂病をターゲットとしたシグマ1受容体拮抗物質の臨床試験ではrimcazole，remoxipride，BMY 14802，panamesine(EMD 57445)およびSL82.0715について報告されている．Rimcazoleはオープン試験では有効であったが，ダブルブラインド試験で痙攣が誘発され，臨床試験を断念している．RemoxiprideはドパミンD2受容体拮抗薬と異なった治療効果を示したが，再生不良性貧血の副作用のため開発を断念している．BMY 14802は精神分裂病に無効であり，panamesineおよびSh82.0714は精神分裂病を対象としたオープン試験では好成績をあげている．本総説では最近のシグマ受容体拮抗物質の薬理学的プロファイルおよび精神分裂病を対象とした臨床試験成績を中心にまとめた．\n",
      "\n",
      "Recent research results on sigma receptor antagonists are summarized in relation to drugs for schizophrenia. NE-100, a selective sigma 1 receptor antagonist, ameliorates phencyclidine (PCP)-induced abnormal behavior and cognitive impairment, but does not affect dopamine agonist-induced behavior and does not induce catalepsy. D-aspartate (NMDA)/PCP receptor ion channel complex and modulation of dopamine release at dopaminergic nerve endings. The recently reported selective sigma 1 receptor antagonist MS-355/MS-377 has a pharmacological profile similar to that of NE-100, but also suppresses PCP-induced rising behavior, apomorphine-climbing behavior and methamphetamine reverse tolerance It also inhibits apomorphine climbing behavior and methamphetamine reverse tolerance formation. Clinical trials of sigma 1 receptor antagonists targeting schizophrenia have reported rimcazole, remoxipride, BMY 14802, panamesine (EMD 57445) and SL82.0715. Remoxipride showed different therapeutic effects from dopamine D2 receptor antagonists but was abandoned due to aplastic anemia side effects. and Sh82.0714 have performed well in open trials in schizophrenia. This review focuses on the pharmacological profiles of recent sigma receptor antagonists and the results of clinical trials in schizophrenia.\n"
     ]
    }
   ],
   "source": [
    "CHARS = 3000\n",
    "\n",
    "print(abstract[:CHARS], translated[:CHARS], sep='\\n\\n')"
   ]
  }
 ],
 "metadata": {
  "kernelspec": {
   "display_name": "automated_screening",
   "language": "python",
   "name": "python3"
  },
  "language_info": {
   "codemirror_mode": {
    "name": "ipython",
    "version": 3
   },
   "file_extension": ".py",
   "mimetype": "text/x-python",
   "name": "python",
   "nbconvert_exporter": "python",
   "pygments_lexer": "ipython3",
   "version": "3.12.3"
  }
 },
 "nbformat": 4,
 "nbformat_minor": 2
}
