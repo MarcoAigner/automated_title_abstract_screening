{
 "cells": [
  {
   "cell_type": "markdown",
   "metadata": {},
   "source": [
    "# Harmonize the format\n",
    "The datasets differ in format. Therefore, the project's first step is to \n",
    "uniformize all the datasets."
   ]
  },
  {
   "cell_type": "markdown",
   "metadata": {},
   "source": [
    "## Loading the data\n",
    "Locate the files housing the original data:"
   ]
  },
  {
   "cell_type": "code",
   "execution_count": 1,
   "metadata": {},
   "outputs": [],
   "source": [
    "from os import listdir\n",
    "from os.path import isfile, join\n",
    "\n",
    "# where the original data is located\n",
    "directory = '../../../../data/datasets/01_original'\n",
    "\n",
    "files = [f for f in listdir(directory) if isfile(join(directory, f))] \n",
    "subjects = [file.split('_raw.')[0] for file in files] # without extension"
   ]
  },
  {
   "cell_type": "markdown",
   "metadata": {},
   "source": [
    "Group the datasets within a dictionary:"
   ]
  },
  {
   "cell_type": "code",
   "execution_count": 2,
   "metadata": {},
   "outputs": [],
   "source": [
    "import pandas as pd\n",
    "\n",
    "datasets = {subjects[count]: {\n",
    "    'dataframe': pd.read_csv(f'{directory}/{filename}',\n",
    "                             sep='\\t' if filename.endswith('.tsv') else ','),\n",
    "    'synergy': True if filename.endswith('.csv') else False\n",
    "} for count, filename in enumerate(files)}"
   ]
  },
  {
   "cell_type": "markdown",
   "metadata": {},
   "source": [
    "## Different Formats\n",
    "Access a dataset from the dictionary by its subject:"
   ]
  },
  {
   "cell_type": "code",
   "execution_count": 3,
   "metadata": {},
   "outputs": [
    {
     "data": {
      "text/html": [
       "<div>\n",
       "<style scoped>\n",
       "    .dataframe tbody tr th:only-of-type {\n",
       "        vertical-align: middle;\n",
       "    }\n",
       "\n",
       "    .dataframe tbody tr th {\n",
       "        vertical-align: top;\n",
       "    }\n",
       "\n",
       "    .dataframe thead th {\n",
       "        text-align: right;\n",
       "    }\n",
       "</style>\n",
       "<table border=\"1\" class=\"dataframe\">\n",
       "  <thead>\n",
       "    <tr style=\"text-align: right;\">\n",
       "      <th></th>\n",
       "      <th>State</th>\n",
       "      <th>StudyType</th>\n",
       "      <th>Abstract</th>\n",
       "      <th>Title</th>\n",
       "      <th>LiteratureId</th>\n",
       "      <th>ArticleUrl</th>\n",
       "      <th>FirstAuthor</th>\n",
       "      <th>Doi</th>\n",
       "    </tr>\n",
       "  </thead>\n",
       "  <tbody>\n",
       "    <tr>\n",
       "      <th>0</th>\n",
       "      <td>3</td>\n",
       "      <td>7</td>\n",
       "      <td>In this paper, I consider: the value of variou...</td>\n",
       "      <td>Reflections and proposals for the standardizat...</td>\n",
       "      <td>10718171</td>\n",
       "      <td>NaN</td>\n",
       "      <td>Elias</td>\n",
       "      <td>10.1053/ejso.1999.0731</td>\n",
       "    </tr>\n",
       "    <tr>\n",
       "      <th>1</th>\n",
       "      <td>3</td>\n",
       "      <td>7</td>\n",
       "      <td>The importance of diagnostic endoscopic retrog...</td>\n",
       "      <td>Diagnostic endoscopic retrograde cholangiopanc...</td>\n",
       "      <td>10718385</td>\n",
       "      <td>NaN</td>\n",
       "      <td>Ponchon</td>\n",
       "      <td>10.1055/s-2000-95</td>\n",
       "    </tr>\n",
       "    <tr>\n",
       "      <th>2</th>\n",
       "      <td>3</td>\n",
       "      <td>7</td>\n",
       "      <td>A number of endoscopic interventions have expa...</td>\n",
       "      <td>Therapeutic pancreatic endoscopy.</td>\n",
       "      <td>10718387</td>\n",
       "      <td>NaN</td>\n",
       "      <td>Neuhaus</td>\n",
       "      <td>10.1055/s-2000-94</td>\n",
       "    </tr>\n",
       "    <tr>\n",
       "      <th>3</th>\n",
       "      <td>3</td>\n",
       "      <td>7</td>\n",
       "      <td>BACKGROUND: Gastric lipase contributes signifi...</td>\n",
       "      <td>Cephalic phase of lipolysis is impaired in pan...</td>\n",
       "      <td>10720121</td>\n",
       "      <td>NaN</td>\n",
       "      <td>Wøjdemann</td>\n",
       "      <td>10.1080/003655200750024407</td>\n",
       "    </tr>\n",
       "    <tr>\n",
       "      <th>4</th>\n",
       "      <td>3</td>\n",
       "      <td>7</td>\n",
       "      <td>BACKGROUND/AIM: The pancreas is an organ highl...</td>\n",
       "      <td>Ischemia/Reperfusion-Induced pancreatitis.</td>\n",
       "      <td>10720825</td>\n",
       "      <td>NaN</td>\n",
       "      <td>Sakorafas</td>\n",
       "      <td>10.1159/000018793</td>\n",
       "    </tr>\n",
       "  </tbody>\n",
       "</table>\n",
       "</div>"
      ],
      "text/plain": [
       "   State  StudyType                                           Abstract  \\\n",
       "0      3          7  In this paper, I consider: the value of variou...   \n",
       "1      3          7  The importance of diagnostic endoscopic retrog...   \n",
       "2      3          7  A number of endoscopic interventions have expa...   \n",
       "3      3          7  BACKGROUND: Gastric lipase contributes signifi...   \n",
       "4      3          7  BACKGROUND/AIM: The pancreas is an organ highl...   \n",
       "\n",
       "                                               Title LiteratureId ArticleUrl  \\\n",
       "0  Reflections and proposals for the standardizat...     10718171        NaN   \n",
       "1  Diagnostic endoscopic retrograde cholangiopanc...     10718385        NaN   \n",
       "2                  Therapeutic pancreatic endoscopy.     10718387        NaN   \n",
       "3  Cephalic phase of lipolysis is impaired in pan...     10720121        NaN   \n",
       "4         Ischemia/Reperfusion-Induced pancreatitis.     10720825        NaN   \n",
       "\n",
       "  FirstAuthor                         Doi  \n",
       "0       Elias      10.1053/ejso.1999.0731  \n",
       "1     Ponchon           10.1055/s-2000-95  \n",
       "2     Neuhaus           10.1055/s-2000-94  \n",
       "3   Wøjdemann  10.1080/003655200750024407  \n",
       "4   Sakorafas           10.1159/000018793  "
      ]
     },
     "execution_count": 3,
     "metadata": {},
     "output_type": "execute_result"
    }
   ],
   "source": [
    "datasets['pancreatic_surgery']['dataframe'].head()"
   ]
  },
  {
   "cell_type": "markdown",
   "metadata": {},
   "source": [
    "Notice how the format of the dataset on pancreatic surgery differs from SYNERGY:"
   ]
  },
  {
   "cell_type": "code",
   "execution_count": 4,
   "metadata": {},
   "outputs": [
    {
     "data": {
      "text/html": [
       "<div>\n",
       "<style scoped>\n",
       "    .dataframe tbody tr th:only-of-type {\n",
       "        vertical-align: middle;\n",
       "    }\n",
       "\n",
       "    .dataframe tbody tr th {\n",
       "        vertical-align: top;\n",
       "    }\n",
       "\n",
       "    .dataframe thead th {\n",
       "        text-align: right;\n",
       "    }\n",
       "</style>\n",
       "<table border=\"1\" class=\"dataframe\">\n",
       "  <thead>\n",
       "    <tr style=\"text-align: right;\">\n",
       "      <th></th>\n",
       "      <th>pmid</th>\n",
       "      <th>doi</th>\n",
       "      <th>openalex_id</th>\n",
       "      <th>label_included</th>\n",
       "    </tr>\n",
       "  </thead>\n",
       "  <tbody>\n",
       "    <tr>\n",
       "      <th>0</th>\n",
       "      <td>https://pubmed.ncbi.nlm.nih.gov/10051933</td>\n",
       "      <td>https://doi.org/10.1007/bf03012457</td>\n",
       "      <td>https://openalex.org/W2082613933</td>\n",
       "      <td>0</td>\n",
       "    </tr>\n",
       "    <tr>\n",
       "      <th>1</th>\n",
       "      <td>https://pubmed.ncbi.nlm.nih.gov/10053177</td>\n",
       "      <td>https://doi.org/10.1056/nejm199903043400903</td>\n",
       "      <td>https://openalex.org/W2312609348</td>\n",
       "      <td>0</td>\n",
       "    </tr>\n",
       "    <tr>\n",
       "      <th>2</th>\n",
       "      <td>https://pubmed.ncbi.nlm.nih.gov/10066996</td>\n",
       "      <td>https://doi.org/10.1037/0021-843x.108.1.90</td>\n",
       "      <td>https://openalex.org/W2022904832</td>\n",
       "      <td>0</td>\n",
       "    </tr>\n",
       "    <tr>\n",
       "      <th>3</th>\n",
       "      <td>https://pubmed.ncbi.nlm.nih.gov/10072008</td>\n",
       "      <td>https://doi.org/10.1097/00000539-199903000-00020</td>\n",
       "      <td>https://openalex.org/W2021097359</td>\n",
       "      <td>0</td>\n",
       "    </tr>\n",
       "    <tr>\n",
       "      <th>4</th>\n",
       "      <td>https://pubmed.ncbi.nlm.nih.gov/10072410</td>\n",
       "      <td>https://doi.org/10.1056/nejm199903113401003</td>\n",
       "      <td>https://openalex.org/W4239283954</td>\n",
       "      <td>0</td>\n",
       "    </tr>\n",
       "  </tbody>\n",
       "</table>\n",
       "</div>"
      ],
      "text/plain": [
       "                                       pmid  \\\n",
       "0  https://pubmed.ncbi.nlm.nih.gov/10051933   \n",
       "1  https://pubmed.ncbi.nlm.nih.gov/10053177   \n",
       "2  https://pubmed.ncbi.nlm.nih.gov/10066996   \n",
       "3  https://pubmed.ncbi.nlm.nih.gov/10072008   \n",
       "4  https://pubmed.ncbi.nlm.nih.gov/10072410   \n",
       "\n",
       "                                                doi  \\\n",
       "0                https://doi.org/10.1007/bf03012457   \n",
       "1       https://doi.org/10.1056/nejm199903043400903   \n",
       "2        https://doi.org/10.1037/0021-843x.108.1.90   \n",
       "3  https://doi.org/10.1097/00000539-199903000-00020   \n",
       "4       https://doi.org/10.1056/nejm199903113401003   \n",
       "\n",
       "                        openalex_id  label_included  \n",
       "0  https://openalex.org/W2082613933               0  \n",
       "1  https://openalex.org/W2312609348               0  \n",
       "2  https://openalex.org/W2022904832               0  \n",
       "3  https://openalex.org/W2021097359               0  \n",
       "4  https://openalex.org/W4239283954               0  "
      ]
     },
     "execution_count": 4,
     "metadata": {},
     "output_type": "execute_result"
    }
   ],
   "source": [
    "datasets['adhd']['dataframe'].head()"
   ]
  },
  {
   "cell_type": "markdown",
   "metadata": {},
   "source": [
    "## Uniformize\n",
    "\n",
    "Define a function that transforms the dataframes to the uniform format\n",
    "\n",
    "| include \t| title \t| abstract \t| doi \t| literatureid \t| openalex_id \t|\n",
    "|---------\t|-------\t|----------\t|-----\t|------\t|-------------\t|\n",
    "| bool    \t| str   \t| str      \t| str \t| str  \t| str         \t|"
   ]
  },
  {
   "cell_type": "code",
   "execution_count": 5,
   "metadata": {},
   "outputs": [],
   "source": [
    "import numpy as np\n",
    "import re\n",
    "\n",
    "# column names and values differ between SYNERGY and non-SYNERGY datasets\n",
    "def uniformize(dataframe: pd.DataFrame, synergy: bool) -> pd.DataFrame:\n",
    "\n",
    "    # the datasets differ in column names for labels, doi, and identifiers\n",
    "    label_column = 'label_included' if synergy else 'State'\n",
    "    doi = 'doi' if synergy else 'Doi'\n",
    "    id_column = 'pmid' if synergy else 'LiteratureId'\n",
    "\n",
    "    # uniformize the include label\n",
    "    exclude_label = 0 if synergy else 3\n",
    "    mapping = lambda x: False if x == exclude_label else True\n",
    "    \n",
    "    # identifiers have different formats for web of science (WOS:), cochrane central (CN-), pubmed () and hand-signed (HS-)\n",
    "    id_formats = r'(WOS:|CN-|HS-)*([A-Z]|\\d)+$'\n",
    "    # extract the identifier from the original column\n",
    "    literature_ids = [re.search(id_formats, id).group()\n",
    "                      if id is not np.nan else pd.NA for id in dataframe[id_column]]\n",
    "\n",
    "    return pd.DataFrame(\n",
    "        data={\n",
    "            'include': dataframe[label_column].map(mapping),\n",
    "            'title': pd.NA if synergy else dataframe['Title'],\n",
    "            'abstract': pd.NA if synergy else dataframe['Abstract'],\n",
    "            'doi': dataframe[doi],\n",
    "            'literature_id': literature_ids,\n",
    "            'openalex_id': dataframe['openalex_id'] if synergy else pd.NA,\n",
    "        }\n",
    "    )"
   ]
  },
  {
   "cell_type": "markdown",
   "metadata": {},
   "source": [
    "Uniformize the datasets and save them in a new dictionary:"
   ]
  },
  {
   "cell_type": "code",
   "execution_count": 6,
   "metadata": {},
   "outputs": [],
   "source": [
    "uniform_datasets = {key: uniformize(\n",
    "    value['dataframe'], value['synergy']) for key, value in datasets.items()}"
   ]
  },
  {
   "cell_type": "markdown",
   "metadata": {},
   "source": [
    "Verify the new format:"
   ]
  },
  {
   "cell_type": "code",
   "execution_count": 7,
   "metadata": {},
   "outputs": [
    {
     "data": {
      "text/html": [
       "<div>\n",
       "<style scoped>\n",
       "    .dataframe tbody tr th:only-of-type {\n",
       "        vertical-align: middle;\n",
       "    }\n",
       "\n",
       "    .dataframe tbody tr th {\n",
       "        vertical-align: top;\n",
       "    }\n",
       "\n",
       "    .dataframe thead th {\n",
       "        text-align: right;\n",
       "    }\n",
       "</style>\n",
       "<table border=\"1\" class=\"dataframe\">\n",
       "  <thead>\n",
       "    <tr style=\"text-align: right;\">\n",
       "      <th></th>\n",
       "      <th>include</th>\n",
       "      <th>title</th>\n",
       "      <th>abstract</th>\n",
       "      <th>doi</th>\n",
       "      <th>literature_id</th>\n",
       "      <th>openalex_id</th>\n",
       "    </tr>\n",
       "  </thead>\n",
       "  <tbody>\n",
       "    <tr>\n",
       "      <th>0</th>\n",
       "      <td>False</td>\n",
       "      <td>&lt;NA&gt;</td>\n",
       "      <td>&lt;NA&gt;</td>\n",
       "      <td>https://doi.org/10.1007/bf03012457</td>\n",
       "      <td>10051933</td>\n",
       "      <td>https://openalex.org/W2082613933</td>\n",
       "    </tr>\n",
       "    <tr>\n",
       "      <th>1</th>\n",
       "      <td>False</td>\n",
       "      <td>&lt;NA&gt;</td>\n",
       "      <td>&lt;NA&gt;</td>\n",
       "      <td>https://doi.org/10.1056/nejm199903043400903</td>\n",
       "      <td>10053177</td>\n",
       "      <td>https://openalex.org/W2312609348</td>\n",
       "    </tr>\n",
       "    <tr>\n",
       "      <th>2</th>\n",
       "      <td>False</td>\n",
       "      <td>&lt;NA&gt;</td>\n",
       "      <td>&lt;NA&gt;</td>\n",
       "      <td>https://doi.org/10.1037/0021-843x.108.1.90</td>\n",
       "      <td>10066996</td>\n",
       "      <td>https://openalex.org/W2022904832</td>\n",
       "    </tr>\n",
       "    <tr>\n",
       "      <th>3</th>\n",
       "      <td>False</td>\n",
       "      <td>&lt;NA&gt;</td>\n",
       "      <td>&lt;NA&gt;</td>\n",
       "      <td>https://doi.org/10.1097/00000539-199903000-00020</td>\n",
       "      <td>10072008</td>\n",
       "      <td>https://openalex.org/W2021097359</td>\n",
       "    </tr>\n",
       "    <tr>\n",
       "      <th>4</th>\n",
       "      <td>False</td>\n",
       "      <td>&lt;NA&gt;</td>\n",
       "      <td>&lt;NA&gt;</td>\n",
       "      <td>https://doi.org/10.1056/nejm199903113401003</td>\n",
       "      <td>10072410</td>\n",
       "      <td>https://openalex.org/W4239283954</td>\n",
       "    </tr>\n",
       "  </tbody>\n",
       "</table>\n",
       "</div>"
      ],
      "text/plain": [
       "   include title abstract                                               doi  \\\n",
       "0    False  <NA>     <NA>                https://doi.org/10.1007/bf03012457   \n",
       "1    False  <NA>     <NA>       https://doi.org/10.1056/nejm199903043400903   \n",
       "2    False  <NA>     <NA>        https://doi.org/10.1037/0021-843x.108.1.90   \n",
       "3    False  <NA>     <NA>  https://doi.org/10.1097/00000539-199903000-00020   \n",
       "4    False  <NA>     <NA>       https://doi.org/10.1056/nejm199903113401003   \n",
       "\n",
       "  literature_id                       openalex_id  \n",
       "0      10051933  https://openalex.org/W2082613933  \n",
       "1      10053177  https://openalex.org/W2312609348  \n",
       "2      10066996  https://openalex.org/W2022904832  \n",
       "3      10072008  https://openalex.org/W2021097359  \n",
       "4      10072410  https://openalex.org/W4239283954  "
      ]
     },
     "execution_count": 7,
     "metadata": {},
     "output_type": "execute_result"
    }
   ],
   "source": [
    "uniform_datasets['adhd'].head()"
   ]
  },
  {
   "cell_type": "markdown",
   "metadata": {},
   "source": [
    "### Export"
   ]
  },
  {
   "cell_type": "code",
   "execution_count": 8,
   "metadata": {},
   "outputs": [],
   "source": [
    "directory_to_save = '../../../../data/01_uniform'\n",
    "\n",
    "[dataframe.to_csv(f'{directory_to_save}/{subject}_uniform.csv', index=False)\n",
    " for subject, dataframe in uniform_datasets.items()];"
   ]
  }
 ],
 "metadata": {
  "kernelspec": {
   "display_name": "automated_screening",
   "language": "python",
   "name": "python3"
  },
  "language_info": {
   "codemirror_mode": {
    "name": "ipython",
    "version": 3
   },
   "file_extension": ".py",
   "mimetype": "text/x-python",
   "name": "python",
   "nbconvert_exporter": "python",
   "pygments_lexer": "ipython3",
   "version": "3.12.3"
  }
 },
 "nbformat": 4,
 "nbformat_minor": 2
}
