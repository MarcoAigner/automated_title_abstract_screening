{
 "cells": [
  {
   "cell_type": "markdown",
   "metadata": {},
   "source": [
    "# Evaluation\n",
    "## Preparation\n",
    "### Imports"
   ]
  },
  {
   "cell_type": "code",
   "execution_count": 1,
   "metadata": {},
   "outputs": [],
   "source": [
    "import pandas as pd, polars as pl\n",
    "from src import data\n",
    "import matplotlib.pyplot as plt\n",
    "from tqdm.notebook import tqdm\n",
    "from sklearn.metrics import classification_report\n",
    "\n",
    "from typing import Tuple\n",
    "import numpy as np\n",
    "from sklearn.metrics import confusion_matrix\n",
    "\n",
    "from sklearn.metrics import precision_score, recall_score, f1_score, fbeta_score, accuracy_score\n",
    "from imblearn.metrics import specificity_score"
   ]
  },
  {
   "cell_type": "markdown",
   "metadata": {},
   "source": [
    "### Loading The Data"
   ]
  },
  {
   "cell_type": "code",
   "execution_count": 2,
   "metadata": {},
   "outputs": [],
   "source": [
    "path_data = '../../../data/datasets/04_preprocessed'\n",
    "path_predictions = '../../../data/predictions'\n",
    "\n",
    "datasets = data.dict_from_directory(path_data, type='polars')\n",
    "preds_sml = data.dict_from_directory(path_predictions + '/supervised_machine_learning', type='polars')\n",
    "preds_llama = data.dict_from_directory(path_predictions + '/llama_3_1_8B', type='polars')"
   ]
  },
  {
   "cell_type": "markdown",
   "metadata": {},
   "source": [
    "Add the true labels for the llama results and rename the columns to better distinguish after merging with sml predictions:"
   ]
  },
  {
   "cell_type": "code",
   "execution_count": 3,
   "metadata": {},
   "outputs": [],
   "source": [
    "preds_llama = {\n",
    "    subject: predictions.rename(\n",
    "        {\n",
    "            'include': 'llama',\n",
    "            'reason': 'llama_reason'\n",
    "        }\n",
    "    ).with_columns(\n",
    "        datasets[subject].select(\n",
    "            pl.col('include').alias('true_llama')\n",
    "        )\n",
    "    )\n",
    "    for subject, predictions in preds_llama.items()\n",
    "}"
   ]
  },
  {
   "cell_type": "markdown",
   "metadata": {},
   "source": [
    "Combine the predictions from SML and LLAMA into one dictionary.\n",
    "\n",
    "**Caution: The predictions differ in size and order, which is why sml and llama have their own ground truth column**"
   ]
  },
  {
   "cell_type": "code",
   "execution_count": 4,
   "metadata": {},
   "outputs": [],
   "source": [
    "joint_preds = {\n",
    "    subject: pl.concat(\n",
    "        [\n",
    "            predictions.rename(\n",
    "                {\n",
    "                    'true': 'true_sml'\n",
    "                }\n",
    "            ),\n",
    "            preds_llama[subject].select(\n",
    "                [\n",
    "                    'true_llama',\n",
    "                    'llama',\n",
    "                    'llama_reason']\n",
    "            )\n",
    "        ],\n",
    "        how='horizontal'\n",
    "    )\n",
    "    for subject, predictions in preds_sml.items()\n",
    "}"
   ]
  },
  {
   "cell_type": "markdown",
   "metadata": {},
   "source": [
    "### Helper Functions"
   ]
  },
  {
   "cell_type": "code",
   "execution_count": 5,
   "metadata": {},
   "outputs": [],
   "source": [
    "def confusion_matrices(y_true, y_pred) -> Tuple[np.ndarray, np.ndarray]:\n",
    "\n",
    "    matrix = confusion_matrix(\n",
    "           y_true=y_true, \n",
    "           y_pred=y_pred,\n",
    "           normalize=None\n",
    "        )\n",
    "       \n",
    "    matrix_norm = confusion_matrix(\n",
    "        y_true=y_true, \n",
    "        y_pred=y_pred,\n",
    "        normalize='true'\n",
    "    )\n",
    "\n",
    "    return matrix, matrix_norm"
   ]
  },
  {
   "cell_type": "code",
   "execution_count": 6,
   "metadata": {},
   "outputs": [],
   "source": [
    "def generate_bootstrap_samples(\n",
    "        y_true, # true labels\n",
    "        y_pred, # predicted labels\n",
    "        n_resamples=1000, # number of bootstrap samples, 1000 is common\n",
    "    ):\n",
    "\n",
    "    # save the bootstrapped samples here\n",
    "    samples = []\n",
    "\n",
    "    # create n_resamples bootstrap samples\n",
    "    for _ in range(n_resamples):\n",
    "        indices = np.random.choice(len(y_true), len(y_true), replace=True)\n",
    "        y_true_resampled = y_true[indices]\n",
    "        y_pred_resampled = y_pred[indices]\n",
    "\n",
    "        #samples.append((y_true_resampled, y_pred_resampled))\n",
    "        samples.append(\n",
    "            {\n",
    "                'y_true': y_true_resampled,\n",
    "                'y_pred': y_pred_resampled\n",
    "            }\n",
    "        )\n",
    "\n",
    "    return samples"
   ]
  },
  {
   "cell_type": "code",
   "execution_count": 7,
   "metadata": {},
   "outputs": [],
   "source": [
    "def metric_with_ci(\n",
    "        bootstraps,\n",
    "        metric, # tuple: name and function\n",
    "        round_ndigits=2,\n",
    "        confidence_level=0.95\n",
    "):\n",
    "    \n",
    "    metric_name, metric_function = metric[0], metric[1]\n",
    "\n",
    "    # save the scores for each bootstrap sample\n",
    "    scores = []\n",
    "\n",
    "    # calculate the score for each bootstrap sample\n",
    "    for index, sample in enumerate(bootstraps):\n",
    "\n",
    "        y_true = sample['y_true']\n",
    "        y_pred = sample['y_pred']\n",
    "\n",
    "        # calculate the score\n",
    "        if metric_name == 'f2': # pass beta argument for f2-score\n",
    "            score = metric_function(y_true, y_pred, beta=2)\n",
    "        else:\n",
    "            score = metric_function(y_true, y_pred)\n",
    "        \n",
    "        # add the score to the distribution\n",
    "        scores.append(score)\n",
    "\n",
    "    \n",
    "    scores = np.array(scores) # transform to numpy for calculations\n",
    "    \n",
    "    # calculate the mean and lower and upper bounds\n",
    "    mean = np.mean(scores)\n",
    "    lower = np.percentile(scores, (1 - confidence_level) / 2 * 100)\n",
    "    upper = np.percentile(scores, (1 + confidence_level) / 2 * 100)\n",
    "\n",
    "    # round the results\n",
    "    mean = round(mean, round_ndigits)\n",
    "    lower = round(lower, round_ndigits)\n",
    "    upper = round(upper, round_ndigits)\n",
    "\n",
    "    return mean, lower, upper, scores"
   ]
  },
  {
   "cell_type": "markdown",
   "metadata": {},
   "source": [
    "# Evaluate"
   ]
  },
  {
   "cell_type": "markdown",
   "metadata": {},
   "source": [
    "## Define Structures\n",
    "### Estimators"
   ]
  },
  {
   "cell_type": "code",
   "execution_count": 8,
   "metadata": {},
   "outputs": [],
   "source": [
    "estimators = [\n",
    "    'logistic_regression',\n",
    "    'random_forest',\n",
    "    'support_vector_machine',\n",
    "    'naive_bayes',\n",
    "    'llama'\n",
    "]"
   ]
  },
  {
   "cell_type": "markdown",
   "metadata": {},
   "source": [
    "### Metric Functions"
   ]
  },
  {
   "cell_type": "code",
   "execution_count": 9,
   "metadata": {},
   "outputs": [],
   "source": [
    "metrics = {\n",
    "    'accuracy': accuracy_score,\n",
    "    'precision': precision_score,\n",
    "    'recall': recall_score,\n",
    "    'f1': f1_score,\n",
    "    'f2': fbeta_score,\n",
    "    'specificity': specificity_score,\n",
    "\n",
    "}"
   ]
  },
  {
   "cell_type": "markdown",
   "metadata": {},
   "source": [
    "### Scores Table\n",
    "The structure for the large table that will save scores and confidence intervals across all datasets and estimators:"
   ]
  },
  {
   "cell_type": "code",
   "execution_count": 10,
   "metadata": {},
   "outputs": [],
   "source": [
    "schema_context = {\n",
    "    'dataset': pl.String,\n",
    "    'estimator': pl.String,\n",
    "}\n",
    "\n",
    "schema_metrics = {\n",
    "    metric: pl.Struct(\n",
    "        [\n",
    "            pl.Field(f'{metric}_mean', pl.Float64),\n",
    "            pl.Field(f'{metric}_lower', pl.Float64),\n",
    "            pl.Field(f'{metric}_upper', pl.Float64),\n",
    "        ]\n",
    "    )\n",
    "    for metric in metrics.keys()\n",
    "}\n",
    "\n",
    "schema_scores = schema_context | schema_metrics"
   ]
  },
  {
   "cell_type": "markdown",
   "metadata": {},
   "source": [
    "### Results Dictionary\n",
    "Every piece of the results will be saved within this dictionary for easy access:"
   ]
  },
  {
   "cell_type": "code",
   "execution_count": 11,
   "metadata": {},
   "outputs": [],
   "source": [
    "results = {\n",
    "    'scores': pl.DataFrame([], schema=schema_scores),\n",
    "    'datasets': {\n",
    "        subject: {\n",
    "            estimator: {\n",
    "                'classification_report': None,\n",
    "                'matrix': {},\n",
    "                'bootstrap': {\n",
    "                    'samples': None,\n",
    "                    'scores': {\n",
    "                        metric: None\n",
    "                        for metric in metrics\n",
    "                    }\n",
    "\n",
    "                }\n",
    "            }\n",
    "            for estimator in estimators\n",
    "        }\n",
    "        for subject in joint_preds.keys()\n",
    "    }\n",
    "}"
   ]
  },
  {
   "cell_type": "markdown",
   "metadata": {},
   "source": [
    "# Calculate Results \n",
    "Calculate the result metrics and save all metrics and accompaning data, such as classification results, confusion matrices, and bootstrap samples, within one results-dictionary:"
   ]
  },
  {
   "cell_type": "code",
   "execution_count": 12,
   "metadata": {},
   "outputs": [
    {
     "data": {
      "application/vnd.jupyter.widget-view+json": {
       "model_id": "5c8940fec7974eecbbb293da9792f8b3",
       "version_major": 2,
       "version_minor": 0
      },
      "text/plain": [
       "Datasets:   0%|          | 0/6 [00:00<?, ?it/s]"
      ]
     },
     "metadata": {},
     "output_type": "display_data"
    },
    {
     "data": {
      "application/vnd.jupyter.widget-view+json": {
       "model_id": "f8aa99a5fe964c289ccc98ec4d4366bd",
       "version_major": 2,
       "version_minor": 0
      },
      "text/plain": [
       "Estimators:   0%|          | 0/5 [00:00<?, ?it/s]"
      ]
     },
     "metadata": {},
     "output_type": "display_data"
    },
    {
     "name": "stderr",
     "output_type": "stream",
     "text": [
      "c:\\Users\\mfaig\\miniforge3\\envs\\automated_screening\\Lib\\site-packages\\sklearn\\metrics\\_classification.py:1517: UndefinedMetricWarning: Recall is ill-defined and being set to 0.0 due to no true samples. Use `zero_division` parameter to control this behavior.\n",
      "  _warn_prf(average, modifier, f\"{metric.capitalize()} is\", len(result))\n",
      "c:\\Users\\mfaig\\miniforge3\\envs\\automated_screening\\Lib\\site-packages\\sklearn\\metrics\\_classification.py:1517: UndefinedMetricWarning: Recall is ill-defined and being set to 0.0 due to no true samples. Use `zero_division` parameter to control this behavior.\n",
      "  _warn_prf(average, modifier, f\"{metric.capitalize()} is\", len(result))\n",
      "c:\\Users\\mfaig\\miniforge3\\envs\\automated_screening\\Lib\\site-packages\\sklearn\\metrics\\_classification.py:1517: UndefinedMetricWarning: Recall is ill-defined and being set to 0.0 due to no true samples. Use `zero_division` parameter to control this behavior.\n",
      "  _warn_prf(average, modifier, f\"{metric.capitalize()} is\", len(result))\n",
      "c:\\Users\\mfaig\\miniforge3\\envs\\automated_screening\\Lib\\site-packages\\sklearn\\metrics\\_classification.py:1517: UndefinedMetricWarning: Recall is ill-defined and being set to 0.0 due to no true samples. Use `zero_division` parameter to control this behavior.\n",
      "  _warn_prf(average, modifier, f\"{metric.capitalize()} is\", len(result))\n",
      "c:\\Users\\mfaig\\miniforge3\\envs\\automated_screening\\Lib\\site-packages\\sklearn\\metrics\\_classification.py:1517: UndefinedMetricWarning: Recall is ill-defined and being set to 0.0 due to no true samples. Use `zero_division` parameter to control this behavior.\n",
      "  _warn_prf(average, modifier, f\"{metric.capitalize()} is\", len(result))\n",
      "c:\\Users\\mfaig\\miniforge3\\envs\\automated_screening\\Lib\\site-packages\\sklearn\\metrics\\_classification.py:1517: UndefinedMetricWarning: Recall is ill-defined and being set to 0.0 due to no true samples. Use `zero_division` parameter to control this behavior.\n",
      "  _warn_prf(average, modifier, f\"{metric.capitalize()} is\", len(result))\n",
      "c:\\Users\\mfaig\\miniforge3\\envs\\automated_screening\\Lib\\site-packages\\sklearn\\metrics\\_classification.py:1517: UndefinedMetricWarning: Recall is ill-defined and being set to 0.0 due to no true samples. Use `zero_division` parameter to control this behavior.\n",
      "  _warn_prf(average, modifier, f\"{metric.capitalize()} is\", len(result))\n",
      "c:\\Users\\mfaig\\miniforge3\\envs\\automated_screening\\Lib\\site-packages\\sklearn\\metrics\\_classification.py:1517: UndefinedMetricWarning: Recall is ill-defined and being set to 0.0 due to no true samples. Use `zero_division` parameter to control this behavior.\n",
      "  _warn_prf(average, modifier, f\"{metric.capitalize()} is\", len(result))\n",
      "c:\\Users\\mfaig\\miniforge3\\envs\\automated_screening\\Lib\\site-packages\\sklearn\\metrics\\_classification.py:1517: UndefinedMetricWarning: Recall is ill-defined and being set to 0.0 due to no true samples. Use `zero_division` parameter to control this behavior.\n",
      "  _warn_prf(average, modifier, f\"{metric.capitalize()} is\", len(result))\n",
      "c:\\Users\\mfaig\\miniforge3\\envs\\automated_screening\\Lib\\site-packages\\sklearn\\metrics\\_classification.py:1517: UndefinedMetricWarning: Recall is ill-defined and being set to 0.0 due to no true samples. Use `zero_division` parameter to control this behavior.\n",
      "  _warn_prf(average, modifier, f\"{metric.capitalize()} is\", len(result))\n"
     ]
    },
    {
     "data": {
      "application/vnd.jupyter.widget-view+json": {
       "model_id": "864f85333272427c8cce321dc7489828",
       "version_major": 2,
       "version_minor": 0
      },
      "text/plain": [
       "Estimators:   0%|          | 0/5 [00:00<?, ?it/s]"
      ]
     },
     "metadata": {},
     "output_type": "display_data"
    },
    {
     "data": {
      "application/vnd.jupyter.widget-view+json": {
       "model_id": "4944faf6fd9a48f98efd75a1caeca1ad",
       "version_major": 2,
       "version_minor": 0
      },
      "text/plain": [
       "Estimators:   0%|          | 0/5 [00:00<?, ?it/s]"
      ]
     },
     "metadata": {},
     "output_type": "display_data"
    },
    {
     "data": {
      "application/vnd.jupyter.widget-view+json": {
       "model_id": "d7a543aa48184e3c847536727fa0f846",
       "version_major": 2,
       "version_minor": 0
      },
      "text/plain": [
       "Estimators:   0%|          | 0/5 [00:00<?, ?it/s]"
      ]
     },
     "metadata": {},
     "output_type": "display_data"
    },
    {
     "data": {
      "application/vnd.jupyter.widget-view+json": {
       "model_id": "ed1b480f8f02427eaf79f5e6e2f7213f",
       "version_major": 2,
       "version_minor": 0
      },
      "text/plain": [
       "Estimators:   0%|          | 0/5 [00:00<?, ?it/s]"
      ]
     },
     "metadata": {},
     "output_type": "display_data"
    },
    {
     "data": {
      "application/vnd.jupyter.widget-view+json": {
       "model_id": "efeca3fa81ca42e88ca7237c43026640",
       "version_major": 2,
       "version_minor": 0
      },
      "text/plain": [
       "Estimators:   0%|          | 0/5 [00:00<?, ?it/s]"
      ]
     },
     "metadata": {},
     "output_type": "display_data"
    }
   ],
   "source": [
    "for subject, dataset in tqdm(\n",
    "    iterable=joint_preds.items(),  # iterate over the datasets\n",
    "    desc='Datasets',\n",
    "    total=len(joint_preds),\n",
    "    leave=True\n",
    "):\n",
    "\n",
    "\n",
    "\n",
    "    predictions_only = dataset.select(\n",
    "        pl.exclude(\n",
    "            ['true_sml', 'true_llama', 'llama_reason']\n",
    "        )\n",
    "    )\n",
    "\n",
    "    for estimator in tqdm(\n",
    "        iterable=predictions_only.iter_columns(),\n",
    "        desc='Estimators',\n",
    "        total=len(predictions_only.columns),\n",
    "        leave=False\n",
    "    ):\n",
    "        \n",
    "        model = estimator.name  # to access the results dictionary\n",
    "\n",
    "        if model == 'llama':\n",
    "            y_true = dataset['true_llama'].to_numpy()\n",
    "        else:\n",
    "            #y_true = dataset['true_sml'].to_numpy()\n",
    "            y_true = dataset.filter(\n",
    "                pl.col(model).is_not_null()\n",
    "            )['true_sml'].to_numpy()\n",
    "        \n",
    "        # remove empty rows that result from the join\n",
    "        estimator = estimator.drop_nulls()\n",
    "\n",
    "        estimator = estimator.to_numpy()  # to perform calculations\n",
    "\n",
    "        # add the classification report\n",
    "        report = classification_report(y_true, estimator)\n",
    "        results['datasets'][subject][model]['classification_report'] = report\n",
    "\n",
    "        # add the confusion matrices\n",
    "        matrix, matrix_norm = confusion_matrices(y_true, estimator)\n",
    "        results['datasets'][subject][model]['matrix']['absolute'] = matrix\n",
    "        results['datasets'][subject][model]['matrix']['norm'] = matrix_norm\n",
    "\n",
    "\n",
    "        estimator_scores = {}\n",
    "\n",
    "        # calculate all metrics on the same set of bootstrap samples\n",
    "        bootstraps = generate_bootstrap_samples(y_true, estimator)\n",
    "        # add the bootstraps to the results\n",
    "        results['datasets'][subject][model]['bootstrap']['samples'] = bootstraps\n",
    "\n",
    "        # calculate metrics with confidence intervals by bootstrapping\n",
    "        for metric, function in metrics.items():\n",
    "\n",
    "            # calculate the metric with confidence intervals\n",
    "            mean, lower, upper, bootstrap_scores = metric_with_ci(bootstraps, (metric, function))\n",
    "            results['datasets'][subject][model]['bootstrap']['scores'][metric] = bootstrap_scores\n",
    "\n",
    "            # Create a Series with the struct values\n",
    "            struct_series = pl.Series(\n",
    "                name=metric,\n",
    "                values=[(mean, lower, upper)],\n",
    "                dtype=pl.Struct(\n",
    "                    [\n",
    "                        pl.Field(f'{metric}_mean', pl.Float64),\n",
    "                        pl.Field(f'{metric}_lower', pl.Float64),\n",
    "                        pl.Field(f'{metric}_upper', pl.Float64),\n",
    "                    ]\n",
    "                )\n",
    "            )\n",
    "\n",
    "            # add the results struct to the list of scores\n",
    "            estimator_scores[metric] = struct_series[0]\n",
    "\n",
    "        # add the results to the scores dataframe\n",
    "        scores = pl.DataFrame({\n",
    "            est: [vals]\n",
    "            for est, vals in estimator_scores.items()\n",
    "        })\n",
    "        \n",
    "        scores = scores.with_columns(\n",
    "            pl.lit(subject, pl.String).alias('dataset'),\n",
    "            pl.lit(model, pl.String).alias('estimator')\n",
    "        )\n",
    "\n",
    "        # reorder the dataframe for stacking\n",
    "        column_order = ['dataset', 'estimator'] + list(metrics.keys())\n",
    "        scores = scores.select(column_order)\n",
    "\n",
    "        results['scores'] = results['scores'].vstack(scores)"
   ]
  },
  {
   "cell_type": "markdown",
   "metadata": {},
   "source": [
    "# Export"
   ]
  },
  {
   "cell_type": "code",
   "execution_count": 13,
   "metadata": {},
   "outputs": [],
   "source": [
    "with open ('./results.pkl', 'wb') as file:\n",
    "    import pickle\n",
    "    pickle.dump(results, file, protocol=pickle.HIGHEST_PROTOCOL)"
   ]
  }
 ],
 "metadata": {
  "kernelspec": {
   "display_name": "automated_screening",
   "language": "python",
   "name": "python3"
  },
  "language_info": {
   "codemirror_mode": {
    "name": "ipython",
    "version": 3
   },
   "file_extension": ".py",
   "mimetype": "text/x-python",
   "name": "python",
   "nbconvert_exporter": "python",
   "pygments_lexer": "ipython3",
   "version": "3.12.3"
  }
 },
 "nbformat": 4,
 "nbformat_minor": 2
}
