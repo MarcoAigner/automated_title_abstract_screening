{
 "cells": [
  {
   "cell_type": "code",
   "execution_count": 1,
   "metadata": {},
   "outputs": [],
   "source": [
    "import pyalex\n",
    "import os\n",
    "import pandas as pd\n",
    "import numpy as np\n",
    "from tqdm.notebook import tqdm"
   ]
  },
  {
   "cell_type": "code",
   "execution_count": 2,
   "metadata": {},
   "outputs": [],
   "source": [
    "data_directory_uniform = '../../../../data/02_uniform'\n",
    "\n",
    "files = os.listdir(data_directory_uniform)\n",
    "subjects = [file.split('_uniform')[0] for file in files]"
   ]
  },
  {
   "cell_type": "code",
   "execution_count": 3,
   "metadata": {},
   "outputs": [
    {
     "data": {
      "text/plain": [
       "['adhd_uniform.csv',\n",
       " 'animal_depression_uniform.csv',\n",
       " 'atypical_antipsychotics_uniform.csv',\n",
       " 'calcium_channel_blockers_uniform.csv',\n",
       " 'oral_hypoglycemics_uniform.csv',\n",
       " 'pancreatic_surgery_uniform.csv']"
      ]
     },
     "execution_count": 3,
     "metadata": {},
     "output_type": "execute_result"
    }
   ],
   "source": [
    "files"
   ]
  },
  {
   "cell_type": "code",
   "execution_count": 4,
   "metadata": {},
   "outputs": [
    {
     "data": {
      "text/plain": [
       "['adhd',\n",
       " 'animal_depression',\n",
       " 'atypical_antipsychotics',\n",
       " 'calcium_channel_blockers',\n",
       " 'oral_hypoglycemics',\n",
       " 'pancreatic_surgery']"
      ]
     },
     "execution_count": 4,
     "metadata": {},
     "output_type": "execute_result"
    }
   ],
   "source": [
    "subjects"
   ]
  },
  {
   "cell_type": "code",
   "execution_count": 5,
   "metadata": {},
   "outputs": [],
   "source": [
    "uniform_datasets = {\n",
    "    subjects[count]: pd.read_csv(f'{data_directory_uniform}/{file}')\n",
    "    for count, file in enumerate(files)\n",
    "}"
   ]
  },
  {
   "cell_type": "code",
   "execution_count": 6,
   "metadata": {},
   "outputs": [
    {
     "data": {
      "application/vnd.jupyter.widget-view+json": {
       "model_id": "9fc934dab4424acd8fadd47811cb2f6c",
       "version_major": 2,
       "version_minor": 0
      },
      "text/plain": [
       "Downloading datasets:   0%|          | 0/6 [00:00<?, ?it/s]"
      ]
     },
     "metadata": {},
     "output_type": "display_data"
    },
    {
     "data": {
      "application/vnd.jupyter.widget-view+json": {
       "model_id": "afefc3bd093c4891a0d5d59a215b9564",
       "version_major": 2,
       "version_minor": 0
      },
      "text/plain": [
       "adhd:   0%|          | 0/851 [00:00<?, ?it/s]"
      ]
     },
     "metadata": {},
     "output_type": "display_data"
    },
    {
     "data": {
      "application/vnd.jupyter.widget-view+json": {
       "model_id": "e7e241c6296c40c49ae4fafc6c5b8171",
       "version_major": 2,
       "version_minor": 0
      },
      "text/plain": [
       "animal_depression:   0%|          | 0/1993 [00:00<?, ?it/s]"
      ]
     },
     "metadata": {},
     "output_type": "display_data"
    },
    {
     "data": {
      "application/vnd.jupyter.widget-view+json": {
       "model_id": "446c63dd27c0432c881e921191d4e2fe",
       "version_major": 2,
       "version_minor": 0
      },
      "text/plain": [
       "atypical_antipsychotics:   0%|          | 0/1120 [00:00<?, ?it/s]"
      ]
     },
     "metadata": {},
     "output_type": "display_data"
    },
    {
     "data": {
      "application/vnd.jupyter.widget-view+json": {
       "model_id": "43667ad43fa740fc88b61552e398770e",
       "version_major": 2,
       "version_minor": 0
      },
      "text/plain": [
       "calcium_channel_blockers:   0%|          | 0/1218 [00:00<?, ?it/s]"
      ]
     },
     "metadata": {},
     "output_type": "display_data"
    },
    {
     "data": {
      "application/vnd.jupyter.widget-view+json": {
       "model_id": "bed0f7b6a47c42dea8d291c2c8e5cc27",
       "version_major": 2,
       "version_minor": 0
      },
      "text/plain": [
       "oral_hypoglycemics:   0%|          | 0/503 [00:00<?, ?it/s]"
      ]
     },
     "metadata": {},
     "output_type": "display_data"
    },
    {
     "data": {
      "application/vnd.jupyter.widget-view+json": {
       "model_id": "5283c29ba48f4e47973d40c3c9daa298",
       "version_major": 2,
       "version_minor": 0
      },
      "text/plain": [
       "pancreatic_surgery:   0%|          | 0/34206 [00:00<?, ?it/s]"
      ]
     },
     "metadata": {},
     "output_type": "display_data"
    }
   ],
   "source": [
    "for dataset, data in tqdm(uniform_datasets.items(), desc='Downloading datasets'):\n",
    "\n",
    "    # add titles & abstracts as a whole column later\n",
    "    titles=[]\n",
    "    abstracts=[]\n",
    "\n",
    "    for index, row in tqdm(data.iterrows(), total=len(data), desc=dataset):\n",
    "\n",
    "        if(data.isna()['openalex_id'][index] == True):\n",
    "            titles.append(pd.NA)\n",
    "            abstracts.append(pd.NA)\n",
    "        else:\n",
    "            # retrieve title/abstract through the api\n",
    "            openalex = pyalex.Works()[row['openalex_id']]\n",
    "        \n",
    "            titles.append(openalex['title'])\n",
    "            abstracts.append(openalex['abstract'])\n",
    "\n",
    "    data['title'] = titles\n",
    "    data['abstract'] = abstracts"
   ]
  },
  {
   "cell_type": "code",
   "execution_count": 7,
   "metadata": {},
   "outputs": [],
   "source": [
    "data_directory_uniform = '../../../data/03_missing'\n",
    "\n",
    "[dataframe.to_csv(f'{data_directory_uniform}/{subject}_openalex.csv', index=False)\n",
    " for subject, dataframe in uniform_datasets.items()];"
   ]
  }
 ],
 "metadata": {
  "kernelspec": {
   "display_name": "automated_screening",
   "language": "python",
   "name": "python3"
  },
  "language_info": {
   "codemirror_mode": {
    "name": "ipython",
    "version": 3
   },
   "file_extension": ".py",
   "mimetype": "text/x-python",
   "name": "python",
   "nbconvert_exporter": "python",
   "pygments_lexer": "ipython3",
   "version": "3.12.3"
  }
 },
 "nbformat": 4,
 "nbformat_minor": 2
}
