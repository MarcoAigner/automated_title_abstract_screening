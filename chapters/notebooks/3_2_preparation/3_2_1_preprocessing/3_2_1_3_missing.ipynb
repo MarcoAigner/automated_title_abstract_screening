{
 "cells": [
  {
   "cell_type": "code",
   "execution_count": 1,
   "metadata": {},
   "outputs": [],
   "source": [
    "import warnings\n",
    "warnings.simplefilter(action='ignore', category=FutureWarning)"
   ]
  },
  {
   "cell_type": "code",
   "execution_count": 2,
   "metadata": {},
   "outputs": [],
   "source": [
    "import pandas as pd\n",
    "import os\n",
    "#TODO: move to .env file\n",
    "os.environ['NCBI_API_KEY'] = '9b3142c8c09a8527c8d9bc616f5ff2813d08'\n",
    "from metapub import PubMedFetcher\n",
    "from tqdm.notebook import tqdm\n",
    "from src import data\n",
    "import polars as pl"
   ]
  },
  {
   "cell_type": "code",
   "execution_count": 3,
   "metadata": {},
   "outputs": [],
   "source": [
    "data_directory_openalex = '../../../../data/03_openalex'\n",
    "\n",
    "files = os.listdir(data_directory_openalex)\n",
    "subjects = [file.split('_openalex')[0] for file in files]"
   ]
  },
  {
   "cell_type": "code",
   "execution_count": 4,
   "metadata": {},
   "outputs": [
    {
     "data": {
      "text/plain": [
       "['adhd_openalex.csv',\n",
       " 'animal_depression_openalex.csv',\n",
       " 'atypical_antipsychotics_openalex.csv',\n",
       " 'calcium_channel_blockers_openalex.csv',\n",
       " 'oral_hypoglycemics_openalex.csv',\n",
       " 'pancreatic_surgery_openalex.csv']"
      ]
     },
     "execution_count": 4,
     "metadata": {},
     "output_type": "execute_result"
    }
   ],
   "source": [
    "files"
   ]
  },
  {
   "cell_type": "code",
   "execution_count": 5,
   "metadata": {},
   "outputs": [
    {
     "data": {
      "text/plain": [
       "['adhd',\n",
       " 'animal_depression',\n",
       " 'atypical_antipsychotics',\n",
       " 'calcium_channel_blockers',\n",
       " 'oral_hypoglycemics',\n",
       " 'pancreatic_surgery']"
      ]
     },
     "execution_count": 5,
     "metadata": {},
     "output_type": "execute_result"
    }
   ],
   "source": [
    "subjects"
   ]
  },
  {
   "cell_type": "code",
   "execution_count": 6,
   "metadata": {},
   "outputs": [],
   "source": [
    "openalex_datasets = {\n",
    "    subjects[count]: pd.read_csv(f'{data_directory_openalex}/{file}')\n",
    "    for count, file in enumerate(files)\n",
    "}"
   ]
  },
  {
   "cell_type": "code",
   "execution_count": 7,
   "metadata": {},
   "outputs": [],
   "source": [
    "pl_datasets = data.dict_from_directory(data_directory_openalex, separator=',', type='polars')"
   ]
  },
  {
   "cell_type": "code",
   "execution_count": 8,
   "metadata": {},
   "outputs": [],
   "source": [
    "for subject, dataset in pl_datasets.items():\n",
    "    if subject != 'pancreatic_surgery':\n",
    "        pl_datasets[subject] = dataset.rename({'literature_id': 'pubmed_id'})\n",
    "        pl_datasets[subject].insert_column(index=6, column=pl.Series(name='wos_id', values = [None] * len(dataset)))\n",
    "        pl_datasets[subject].insert_column(index=7, column=pl.Series(name='central_id', values = [None] * len(dataset)))\n",
    "        pl_datasets[subject].insert_column(index=8, column=pl.Series(name='authors', values = [None] * len(dataset)))\n",
    "        pl_datasets[subject].insert_column(index=9, column=pl.Series(name='journal', values = [None] * len(dataset)))\n",
    "        pl_datasets[subject].insert_column(index=10, column=pl.Series(name='year', values = [None] * len(dataset)))"
   ]
  },
  {
   "cell_type": "code",
   "execution_count": 9,
   "metadata": {},
   "outputs": [
    {
     "data": {
      "text/html": [
       "<div><style>\n",
       ".dataframe > thead > tr,\n",
       ".dataframe > tbody > tr {\n",
       "  text-align: right;\n",
       "  white-space: pre-wrap;\n",
       "}\n",
       "</style>\n",
       "<small>shape: (34_206, 6)</small><table border=\"1\" class=\"dataframe\"><thead><tr><th>include</th><th>title</th><th>abstract</th><th>doi</th><th>literature_id</th><th>openalex_id</th></tr><tr><td>bool</td><td>str</td><td>str</td><td>str</td><td>str</td><td>str</td></tr></thead><tbody><tr><td>false</td><td>&quot;Reflections and proposals for …</td><td>&quot;In this paper, I consider: the…</td><td>&quot;10.1053/ejso.1999.0731&quot;</td><td>&quot;10718171&quot;</td><td>null</td></tr><tr><td>false</td><td>&quot;Diagnostic endoscopic retrogra…</td><td>&quot;The importance of diagnostic e…</td><td>&quot;10.1055/s-2000-95&quot;</td><td>&quot;10718385&quot;</td><td>null</td></tr><tr><td>false</td><td>&quot;Therapeutic pancreatic endosco…</td><td>&quot;A number of endoscopic interve…</td><td>&quot;10.1055/s-2000-94&quot;</td><td>&quot;10718387&quot;</td><td>null</td></tr><tr><td>false</td><td>&quot;Cephalic phase of lipolysis is…</td><td>&quot;BACKGROUND: Gastric lipase con…</td><td>&quot;10.1080/003655200750024407&quot;</td><td>&quot;10720121&quot;</td><td>null</td></tr><tr><td>false</td><td>&quot;Ischemia/Reperfusion-Induced p…</td><td>&quot;BACKGROUND/AIM: The pancreas i…</td><td>&quot;10.1159/000018793&quot;</td><td>&quot;10720825&quot;</td><td>null</td></tr><tr><td>&hellip;</td><td>&hellip;</td><td>&hellip;</td><td>&hellip;</td><td>&hellip;</td><td>&hellip;</td></tr><tr><td>true</td><td>&quot;Quality of life after open ver…</td><td>null</td><td>&quot;10.1093/bjsopen/zrad002&quot;</td><td>&quot;36893287&quot;</td><td>null</td></tr><tr><td>true</td><td>&quot;A randomized controlled trial …</td><td>null</td><td>&quot;10.1007/s00423-023-02873-w&quot;</td><td>&quot;37010643&quot;</td><td>null</td></tr><tr><td>true</td><td>&quot;Minimally invasive versus open…</td><td>null</td><td>&quot;10.1016/j.lanepe.2023.100673&quot;</td><td>&quot;37457332&quot;</td><td>null</td></tr><tr><td>true</td><td>&quot;A prospective randomized contr…</td><td>null</td><td>&quot;10.1016/j.amjsurg.2009.04.017&quot;</td><td>&quot;20074698&quot;</td><td>null</td></tr><tr><td>true</td><td>&quot;Comparison of long-term clinic…</td><td>null</td><td>&quot;10.1016/j.hpb.2018.06.1795&quot;</td><td>&quot;30093143&quot;</td><td>null</td></tr></tbody></table></div>"
      ],
      "text/plain": [
       "shape: (34_206, 6)\n",
       "┌─────────┬───────────────────┬───────────────────┬──────────────────┬───────────────┬─────────────┐\n",
       "│ include ┆ title             ┆ abstract          ┆ doi              ┆ literature_id ┆ openalex_id │\n",
       "│ ---     ┆ ---               ┆ ---               ┆ ---              ┆ ---           ┆ ---         │\n",
       "│ bool    ┆ str               ┆ str               ┆ str              ┆ str           ┆ str         │\n",
       "╞═════════╪═══════════════════╪═══════════════════╪══════════════════╪═══════════════╪═════════════╡\n",
       "│ false   ┆ Reflections and   ┆ In this paper, I  ┆ 10.1053/ejso.199 ┆ 10718171      ┆ null        │\n",
       "│         ┆ proposals for …   ┆ consider: the…    ┆ 9.0731           ┆               ┆             │\n",
       "│ false   ┆ Diagnostic        ┆ The importance of ┆ 10.1055/s-2000-9 ┆ 10718385      ┆ null        │\n",
       "│         ┆ endoscopic        ┆ diagnostic e…     ┆ 5                ┆               ┆             │\n",
       "│         ┆ retrogra…         ┆                   ┆                  ┆               ┆             │\n",
       "│ false   ┆ Therapeutic       ┆ A number of       ┆ 10.1055/s-2000-9 ┆ 10718387      ┆ null        │\n",
       "│         ┆ pancreatic        ┆ endoscopic        ┆ 4                ┆               ┆             │\n",
       "│         ┆ endosco…          ┆ interve…          ┆                  ┆               ┆             │\n",
       "│ false   ┆ Cephalic phase of ┆ BACKGROUND:       ┆ 10.1080/00365520 ┆ 10720121      ┆ null        │\n",
       "│         ┆ lipolysis is…     ┆ Gastric lipase    ┆ 0750024407       ┆               ┆             │\n",
       "│         ┆                   ┆ con…              ┆                  ┆               ┆             │\n",
       "│ false   ┆ Ischemia/Reperfus ┆ BACKGROUND/AIM:   ┆ 10.1159/00001879 ┆ 10720825      ┆ null        │\n",
       "│         ┆ ion-Induced p…    ┆ The pancreas i…   ┆ 3                ┆               ┆             │\n",
       "│ …       ┆ …                 ┆ …                 ┆ …                ┆ …             ┆ …           │\n",
       "│ true    ┆ Quality of life   ┆ null              ┆ 10.1093/bjsopen/ ┆ 36893287      ┆ null        │\n",
       "│         ┆ after open ver…   ┆                   ┆ zrad002          ┆               ┆             │\n",
       "│ true    ┆ A randomized      ┆ null              ┆ 10.1007/s00423-0 ┆ 37010643      ┆ null        │\n",
       "│         ┆ controlled trial  ┆                   ┆ 23-02873-w       ┆               ┆             │\n",
       "│         ┆ …                 ┆                   ┆                  ┆               ┆             │\n",
       "│ true    ┆ Minimally         ┆ null              ┆ 10.1016/j.lanepe ┆ 37457332      ┆ null        │\n",
       "│         ┆ invasive versus   ┆                   ┆ .2023.100673     ┆               ┆             │\n",
       "│         ┆ open…             ┆                   ┆                  ┆               ┆             │\n",
       "│ true    ┆ A prospective     ┆ null              ┆ 10.1016/j.amjsur ┆ 20074698      ┆ null        │\n",
       "│         ┆ randomized contr… ┆                   ┆ g.2009.04.017    ┆               ┆             │\n",
       "│ true    ┆ Comparison of     ┆ null              ┆ 10.1016/j.hpb.20 ┆ 30093143      ┆ null        │\n",
       "│         ┆ long-term clinic… ┆                   ┆ 18.06.1795       ┆               ┆             │\n",
       "└─────────┴───────────────────┴───────────────────┴──────────────────┴───────────────┴─────────────┘"
      ]
     },
     "execution_count": 9,
     "metadata": {},
     "output_type": "execute_result"
    }
   ],
   "source": [
    "pl_datasets['pancreatic_surgery']"
   ]
  },
  {
   "cell_type": "code",
   "execution_count": 10,
   "metadata": {},
   "outputs": [],
   "source": [
    "pl_datasets['pancreatic_surgery'] = pl_datasets['pancreatic_surgery'].with_columns(\n",
    "    pl.when(pl.col('literature_id').str.starts_with('CN-'))\n",
    "    .then(pl.col('literature_id').alias('central_id')),\n",
    "    pl.when(pl.col('literature_id').str.starts_with('WOS:'))\n",
    "    .then(pl.col('literature_id').alias('wos_id')),\n",
    "    pl.when(pl.col('literature_id').str.contains(\"^(\\\\d)*$\"))\n",
    "    .then(pl.col('literature_id').alias('pubmed_id')),\n",
    ").select(pl.all().exclude('literature_id'))"
   ]
  },
  {
   "cell_type": "code",
   "execution_count": 11,
   "metadata": {},
   "outputs": [],
   "source": [
    "pl_datasets['pancreatic_surgery'] = pl_datasets['pancreatic_surgery'].insert_column(index=7, column=pl.Series(name='authors', values = [None] * len(pl_datasets['pancreatic_surgery'])))\n",
    "pl_datasets['pancreatic_surgery'] = pl_datasets['pancreatic_surgery'].insert_column(index=8, column=pl.Series(name='journal', values = [None] * len(pl_datasets['pancreatic_surgery'])))\n",
    "pl_datasets['pancreatic_surgery'] = pl_datasets['pancreatic_surgery'].insert_column(index=9, column=pl.Series(name='year', values = [None] * len(pl_datasets['pancreatic_surgery'])))"
   ]
  },
  {
   "cell_type": "code",
   "execution_count": 12,
   "metadata": {},
   "outputs": [
    {
     "data": {
      "text/html": [
       "<div><style>\n",
       ".dataframe > thead > tr,\n",
       ".dataframe > tbody > tr {\n",
       "  text-align: right;\n",
       "  white-space: pre-wrap;\n",
       "}\n",
       "</style>\n",
       "<small>shape: (34_206, 11)</small><table border=\"1\" class=\"dataframe\"><thead><tr><th>include</th><th>title</th><th>abstract</th><th>doi</th><th>openalex_id</th><th>central_id</th><th>wos_id</th><th>authors</th><th>journal</th><th>year</th><th>pubmed_id</th></tr><tr><td>bool</td><td>str</td><td>str</td><td>str</td><td>str</td><td>str</td><td>str</td><td>null</td><td>null</td><td>null</td><td>str</td></tr></thead><tbody><tr><td>false</td><td>&quot;Reflections and proposals for …</td><td>&quot;In this paper, I consider: the…</td><td>&quot;10.1053/ejso.1999.0731&quot;</td><td>null</td><td>null</td><td>null</td><td>null</td><td>null</td><td>null</td><td>&quot;10718171&quot;</td></tr><tr><td>false</td><td>&quot;Diagnostic endoscopic retrogra…</td><td>&quot;The importance of diagnostic e…</td><td>&quot;10.1055/s-2000-95&quot;</td><td>null</td><td>null</td><td>null</td><td>null</td><td>null</td><td>null</td><td>&quot;10718385&quot;</td></tr><tr><td>false</td><td>&quot;Therapeutic pancreatic endosco…</td><td>&quot;A number of endoscopic interve…</td><td>&quot;10.1055/s-2000-94&quot;</td><td>null</td><td>null</td><td>null</td><td>null</td><td>null</td><td>null</td><td>&quot;10718387&quot;</td></tr><tr><td>false</td><td>&quot;Cephalic phase of lipolysis is…</td><td>&quot;BACKGROUND: Gastric lipase con…</td><td>&quot;10.1080/003655200750024407&quot;</td><td>null</td><td>null</td><td>null</td><td>null</td><td>null</td><td>null</td><td>&quot;10720121&quot;</td></tr><tr><td>false</td><td>&quot;Ischemia/Reperfusion-Induced p…</td><td>&quot;BACKGROUND/AIM: The pancreas i…</td><td>&quot;10.1159/000018793&quot;</td><td>null</td><td>null</td><td>null</td><td>null</td><td>null</td><td>null</td><td>&quot;10720825&quot;</td></tr><tr><td>&hellip;</td><td>&hellip;</td><td>&hellip;</td><td>&hellip;</td><td>&hellip;</td><td>&hellip;</td><td>&hellip;</td><td>&hellip;</td><td>&hellip;</td><td>&hellip;</td><td>&hellip;</td></tr><tr><td>true</td><td>&quot;Quality of life after open ver…</td><td>null</td><td>&quot;10.1093/bjsopen/zrad002&quot;</td><td>null</td><td>null</td><td>null</td><td>null</td><td>null</td><td>null</td><td>&quot;36893287&quot;</td></tr><tr><td>true</td><td>&quot;A randomized controlled trial …</td><td>null</td><td>&quot;10.1007/s00423-023-02873-w&quot;</td><td>null</td><td>null</td><td>null</td><td>null</td><td>null</td><td>null</td><td>&quot;37010643&quot;</td></tr><tr><td>true</td><td>&quot;Minimally invasive versus open…</td><td>null</td><td>&quot;10.1016/j.lanepe.2023.100673&quot;</td><td>null</td><td>null</td><td>null</td><td>null</td><td>null</td><td>null</td><td>&quot;37457332&quot;</td></tr><tr><td>true</td><td>&quot;A prospective randomized contr…</td><td>null</td><td>&quot;10.1016/j.amjsurg.2009.04.017&quot;</td><td>null</td><td>null</td><td>null</td><td>null</td><td>null</td><td>null</td><td>&quot;20074698&quot;</td></tr><tr><td>true</td><td>&quot;Comparison of long-term clinic…</td><td>null</td><td>&quot;10.1016/j.hpb.2018.06.1795&quot;</td><td>null</td><td>null</td><td>null</td><td>null</td><td>null</td><td>null</td><td>&quot;30093143&quot;</td></tr></tbody></table></div>"
      ],
      "text/plain": [
       "shape: (34_206, 11)\n",
       "┌─────────┬───────────────┬──────────────┬──────────────┬───┬─────────┬─────────┬──────┬───────────┐\n",
       "│ include ┆ title         ┆ abstract     ┆ doi          ┆ … ┆ authors ┆ journal ┆ year ┆ pubmed_id │\n",
       "│ ---     ┆ ---           ┆ ---          ┆ ---          ┆   ┆ ---     ┆ ---     ┆ ---  ┆ ---       │\n",
       "│ bool    ┆ str           ┆ str          ┆ str          ┆   ┆ null    ┆ null    ┆ null ┆ str       │\n",
       "╞═════════╪═══════════════╪══════════════╪══════════════╪═══╪═════════╪═════════╪══════╪═══════════╡\n",
       "│ false   ┆ Reflections   ┆ In this      ┆ 10.1053/ejso ┆ … ┆ null    ┆ null    ┆ null ┆ 10718171  │\n",
       "│         ┆ and proposals ┆ paper, I     ┆ .1999.0731   ┆   ┆         ┆         ┆      ┆           │\n",
       "│         ┆ for …         ┆ consider:    ┆              ┆   ┆         ┆         ┆      ┆           │\n",
       "│         ┆               ┆ the…         ┆              ┆   ┆         ┆         ┆      ┆           │\n",
       "│ false   ┆ Diagnostic    ┆ The          ┆ 10.1055/s-20 ┆ … ┆ null    ┆ null    ┆ null ┆ 10718385  │\n",
       "│         ┆ endoscopic    ┆ importance   ┆ 00-95        ┆   ┆         ┆         ┆      ┆           │\n",
       "│         ┆ retrogra…     ┆ of           ┆              ┆   ┆         ┆         ┆      ┆           │\n",
       "│         ┆               ┆ diagnostic   ┆              ┆   ┆         ┆         ┆      ┆           │\n",
       "│         ┆               ┆ e…           ┆              ┆   ┆         ┆         ┆      ┆           │\n",
       "│ false   ┆ Therapeutic   ┆ A number of  ┆ 10.1055/s-20 ┆ … ┆ null    ┆ null    ┆ null ┆ 10718387  │\n",
       "│         ┆ pancreatic    ┆ endoscopic   ┆ 00-94        ┆   ┆         ┆         ┆      ┆           │\n",
       "│         ┆ endosco…      ┆ interve…     ┆              ┆   ┆         ┆         ┆      ┆           │\n",
       "│ false   ┆ Cephalic      ┆ BACKGROUND:  ┆ 10.1080/0036 ┆ … ┆ null    ┆ null    ┆ null ┆ 10720121  │\n",
       "│         ┆ phase of      ┆ Gastric      ┆ 552007500244 ┆   ┆         ┆         ┆      ┆           │\n",
       "│         ┆ lipolysis is… ┆ lipase con…  ┆ 07           ┆   ┆         ┆         ┆      ┆           │\n",
       "│ false   ┆ Ischemia/Repe ┆ BACKGROUND/A ┆ 10.1159/0000 ┆ … ┆ null    ┆ null    ┆ null ┆ 10720825  │\n",
       "│         ┆ rfusion-Induc ┆ IM: The      ┆ 18793        ┆   ┆         ┆         ┆      ┆           │\n",
       "│         ┆ ed p…         ┆ pancreas i…  ┆              ┆   ┆         ┆         ┆      ┆           │\n",
       "│ …       ┆ …             ┆ …            ┆ …            ┆ … ┆ …       ┆ …       ┆ …    ┆ …         │\n",
       "│ true    ┆ Quality of    ┆ null         ┆ 10.1093/bjso ┆ … ┆ null    ┆ null    ┆ null ┆ 36893287  │\n",
       "│         ┆ life after    ┆              ┆ pen/zrad002  ┆   ┆         ┆         ┆      ┆           │\n",
       "│         ┆ open ver…     ┆              ┆              ┆   ┆         ┆         ┆      ┆           │\n",
       "│ true    ┆ A randomized  ┆ null         ┆ 10.1007/s004 ┆ … ┆ null    ┆ null    ┆ null ┆ 37010643  │\n",
       "│         ┆ controlled    ┆              ┆ 23-023-02873 ┆   ┆         ┆         ┆      ┆           │\n",
       "│         ┆ trial …       ┆              ┆ -w           ┆   ┆         ┆         ┆      ┆           │\n",
       "│ true    ┆ Minimally     ┆ null         ┆ 10.1016/j.la ┆ … ┆ null    ┆ null    ┆ null ┆ 37457332  │\n",
       "│         ┆ invasive      ┆              ┆ nepe.2023.10 ┆   ┆         ┆         ┆      ┆           │\n",
       "│         ┆ versus open…  ┆              ┆ 0673         ┆   ┆         ┆         ┆      ┆           │\n",
       "│ true    ┆ A prospective ┆ null         ┆ 10.1016/j.am ┆ … ┆ null    ┆ null    ┆ null ┆ 20074698  │\n",
       "│         ┆ randomized    ┆              ┆ jsurg.2009.0 ┆   ┆         ┆         ┆      ┆           │\n",
       "│         ┆ contr…        ┆              ┆ 4.017        ┆   ┆         ┆         ┆      ┆           │\n",
       "│ true    ┆ Comparison of ┆ null         ┆ 10.1016/j.hp ┆ … ┆ null    ┆ null    ┆ null ┆ 30093143  │\n",
       "│         ┆ long-term     ┆              ┆ b.2018.06.17 ┆   ┆         ┆         ┆      ┆           │\n",
       "│         ┆ clinic…       ┆              ┆ 95           ┆   ┆         ┆         ┆      ┆           │\n",
       "└─────────┴───────────────┴──────────────┴──────────────┴───┴─────────┴─────────┴──────┴───────────┘"
      ]
     },
     "execution_count": 12,
     "metadata": {},
     "output_type": "execute_result"
    }
   ],
   "source": [
    "a = pl_datasets['pancreatic_surgery']\n",
    "a"
   ]
  },
  {
   "cell_type": "code",
   "execution_count": 13,
   "metadata": {},
   "outputs": [
    {
     "data": {
      "text/html": [
       "<div><style>\n",
       ".dataframe > thead > tr,\n",
       ".dataframe > tbody > tr {\n",
       "  text-align: right;\n",
       "  white-space: pre-wrap;\n",
       "}\n",
       "</style>\n",
       "<small>shape: (10, 11)</small><table border=\"1\" class=\"dataframe\"><thead><tr><th>include</th><th>title</th><th>abstract</th><th>doi</th><th>openalex_id</th><th>central_id</th><th>wos_id</th><th>authors</th><th>journal</th><th>year</th><th>pubmed_id</th></tr><tr><td>bool</td><td>str</td><td>str</td><td>str</td><td>str</td><td>str</td><td>str</td><td>null</td><td>null</td><td>null</td><td>str</td></tr></thead><tbody><tr><td>false</td><td>&quot;Study Protocol of the PreFiPS …</td><td>null</td><td>&quot;10.3389/fmed.2020.00488&quot;</td><td>null</td><td>null</td><td>null</td><td>null</td><td>null</td><td>null</td><td>&quot;33521003&quot;</td></tr><tr><td>false</td><td>&quot;(Neo)adjuvant treatment in pan…</td><td>null</td><td>&quot;10.1053/ejso.1998.0614&quot;</td><td>null</td><td>null</td><td>null</td><td>null</td><td>null</td><td>null</td><td>&quot;10218453&quot;</td></tr><tr><td>false</td><td>&quot;[Adjuvant and palliative treat…</td><td>null</td><td>null</td><td>null</td><td>null</td><td>null</td><td>null</td><td>null</td><td>null</td><td>&quot;10638047&quot;</td></tr><tr><td>true</td><td>&quot;Laparoscopic versus open pancr…</td><td>null</td><td>&quot;10.17235/reed.2019.6343/2019&quot;</td><td>null</td><td>null</td><td>null</td><td>null</td><td>null</td><td>null</td><td>&quot;31823640&quot;</td></tr><tr><td>true</td><td>&quot;Comparison of patient outcomes…</td><td>null</td><td>&quot;10.1177/0300060517717400&quot;</td><td>null</td><td>null</td><td>null</td><td>null</td><td>null</td><td>null</td><td>&quot;28718685&quot;</td></tr><tr><td>false</td><td>&quot;[How to improve treatment of r…</td><td>null</td><td>&quot;10.1016/s0399-8320(04)95185-8&quot;</td><td>null</td><td>null</td><td>null</td><td>null</td><td>null</td><td>null</td><td>&quot;15657530&quot;</td></tr><tr><td>false</td><td>&quot;[Adjuvant chemotherapy for pan…</td><td>null</td><td>null</td><td>null</td><td>null</td><td>null</td><td>null</td><td>null</td><td>null</td><td>&quot;16457253&quot;</td></tr><tr><td>false</td><td>&quot;Cephalic phase of pancreatic s…</td><td>null</td><td>&quot;10.1006/appe.1999.0281&quot;</td><td>null</td><td>null</td><td>null</td><td>null</td><td>null</td><td>null</td><td>&quot;10744910&quot;</td></tr><tr><td>false</td><td>&quot;Variation in Serious Illness C…</td><td>null</td><td>&quot;10.1089/jpm.2019.0268&quot;</td><td>null</td><td>null</td><td>null</td><td>null</td><td>null</td><td>null</td><td>&quot;31580763&quot;</td></tr><tr><td>false</td><td>&quot;Assessment of Response to Neoa…</td><td>null</td><td>&quot;10.2214/AJR.19.21152&quot;</td><td>null</td><td>null</td><td>null</td><td>null</td><td>null</td><td>null</td><td>&quot;31799875&quot;</td></tr></tbody></table></div>"
      ],
      "text/plain": [
       "shape: (10, 11)\n",
       "┌─────────┬─────────────────┬──────────┬────────────────┬───┬─────────┬─────────┬──────┬───────────┐\n",
       "│ include ┆ title           ┆ abstract ┆ doi            ┆ … ┆ authors ┆ journal ┆ year ┆ pubmed_id │\n",
       "│ ---     ┆ ---             ┆ ---      ┆ ---            ┆   ┆ ---     ┆ ---     ┆ ---  ┆ ---       │\n",
       "│ bool    ┆ str             ┆ str      ┆ str            ┆   ┆ null    ┆ null    ┆ null ┆ str       │\n",
       "╞═════════╪═════════════════╪══════════╪════════════════╪═══╪═════════╪═════════╪══════╪═══════════╡\n",
       "│ false   ┆ Study Protocol  ┆ null     ┆ 10.3389/fmed.2 ┆ … ┆ null    ┆ null    ┆ null ┆ 33521003  │\n",
       "│         ┆ of the PreFiPS  ┆          ┆ 020.00488      ┆   ┆         ┆         ┆      ┆           │\n",
       "│         ┆ …               ┆          ┆                ┆   ┆         ┆         ┆      ┆           │\n",
       "│ false   ┆ (Neo)adjuvant   ┆ null     ┆ 10.1053/ejso.1 ┆ … ┆ null    ┆ null    ┆ null ┆ 10218453  │\n",
       "│         ┆ treatment in    ┆          ┆ 998.0614       ┆   ┆         ┆         ┆      ┆           │\n",
       "│         ┆ pan…            ┆          ┆                ┆   ┆         ┆         ┆      ┆           │\n",
       "│ false   ┆ [Adjuvant and   ┆ null     ┆ null           ┆ … ┆ null    ┆ null    ┆ null ┆ 10638047  │\n",
       "│         ┆ palliative      ┆          ┆                ┆   ┆         ┆         ┆      ┆           │\n",
       "│         ┆ treat…          ┆          ┆                ┆   ┆         ┆         ┆      ┆           │\n",
       "│ true    ┆ Laparoscopic    ┆ null     ┆ 10.17235/reed. ┆ … ┆ null    ┆ null    ┆ null ┆ 31823640  │\n",
       "│         ┆ versus open     ┆          ┆ 2019.6343/2019 ┆   ┆         ┆         ┆      ┆           │\n",
       "│         ┆ pancr…          ┆          ┆                ┆   ┆         ┆         ┆      ┆           │\n",
       "│ true    ┆ Comparison of   ┆ null     ┆ 10.1177/030006 ┆ … ┆ null    ┆ null    ┆ null ┆ 28718685  │\n",
       "│         ┆ patient         ┆          ┆ 0517717400     ┆   ┆         ┆         ┆      ┆           │\n",
       "│         ┆ outcomes…       ┆          ┆                ┆   ┆         ┆         ┆      ┆           │\n",
       "│ false   ┆ [How to improve ┆ null     ┆ 10.1016/s0399- ┆ … ┆ null    ┆ null    ┆ null ┆ 15657530  │\n",
       "│         ┆ treatment of r… ┆          ┆ 8320(04)95185- ┆   ┆         ┆         ┆      ┆           │\n",
       "│         ┆                 ┆          ┆ 8              ┆   ┆         ┆         ┆      ┆           │\n",
       "│ false   ┆ [Adjuvant       ┆ null     ┆ null           ┆ … ┆ null    ┆ null    ┆ null ┆ 16457253  │\n",
       "│         ┆ chemotherapy    ┆          ┆                ┆   ┆         ┆         ┆      ┆           │\n",
       "│         ┆ for pan…        ┆          ┆                ┆   ┆         ┆         ┆      ┆           │\n",
       "│ false   ┆ Cephalic phase  ┆ null     ┆ 10.1006/appe.1 ┆ … ┆ null    ┆ null    ┆ null ┆ 10744910  │\n",
       "│         ┆ of pancreatic   ┆          ┆ 999.0281       ┆   ┆         ┆         ┆      ┆           │\n",
       "│         ┆ s…              ┆          ┆                ┆   ┆         ┆         ┆      ┆           │\n",
       "│ false   ┆ Variation in    ┆ null     ┆ 10.1089/jpm.20 ┆ … ┆ null    ┆ null    ┆ null ┆ 31580763  │\n",
       "│         ┆ Serious Illness ┆          ┆ 19.0268        ┆   ┆         ┆         ┆      ┆           │\n",
       "│         ┆ C…              ┆          ┆                ┆   ┆         ┆         ┆      ┆           │\n",
       "│ false   ┆ Assessment of   ┆ null     ┆ 10.2214/AJR.19 ┆ … ┆ null    ┆ null    ┆ null ┆ 31799875  │\n",
       "│         ┆ Response to     ┆          ┆ .21152         ┆   ┆         ┆         ┆      ┆           │\n",
       "│         ┆ Neoa…           ┆          ┆                ┆   ┆         ┆         ┆      ┆           │\n",
       "└─────────┴─────────────────┴──────────┴────────────────┴───┴─────────┴─────────┴──────┴───────────┘"
      ]
     },
     "execution_count": 13,
     "metadata": {},
     "output_type": "execute_result"
    }
   ],
   "source": [
    "missing_abstracts = pl_datasets['pancreatic_surgery'].filter(\n",
    "    pl.col('abstract').is_null())\n",
    "\n",
    "missing_abstracts.head(10)"
   ]
  },
  {
   "cell_type": "markdown",
   "metadata": {},
   "source": [
    "# Previous Code"
   ]
  },
  {
   "cell_type": "code",
   "execution_count": 14,
   "metadata": {},
   "outputs": [],
   "source": [
    "def fill_missing_from_pubmed(dataframe: pd.DataFrame, subject: str) -> pd.DataFrame:\n",
    "\n",
    "    df = dataframe.copy()\n",
    "\n",
    "    for index, row in tqdm(df.iterrows(), total=df.shape[0], desc=subject, leave=True):\n",
    "\n",
    "        if not pd.isnull(row['pubmed_id']):\n",
    "            try:\n",
    "                metadata = PubMedFetcher().article_by_pmid(row['pubmed_id'])\n",
    "                df.loc[index, 'title'] = metadata.title\n",
    "                df.loc[index, 'abstract'] = metadata.abstract\n",
    "                df.loc[index, 'authors'] = metadata.authors\n",
    "                df.loc[index, 'journal'] = metadata.journal\n",
    "                df.loc[index, 'year'] = metadata.year\n",
    "            except:\n",
    "                pass\n",
    "\n",
    "    return df"
   ]
  },
  {
   "cell_type": "markdown",
   "metadata": {},
   "source": [
    "# Download and Export"
   ]
  },
  {
   "cell_type": "code",
   "execution_count": 15,
   "metadata": {},
   "outputs": [],
   "source": [
    "downloaded_datasets = {}"
   ]
  },
  {
   "cell_type": "code",
   "execution_count": 16,
   "metadata": {},
   "outputs": [
    {
     "data": {
      "application/vnd.jupyter.widget-view+json": {
       "model_id": "6f5e025dad7a4bac85e7f1a60f94ba44",
       "version_major": 2,
       "version_minor": 0
      },
      "text/plain": [
       "adhd:   0%|          | 0/851 [00:00<?, ?it/s]"
      ]
     },
     "metadata": {},
     "output_type": "display_data"
    },
    {
     "data": {
      "application/vnd.jupyter.widget-view+json": {
       "model_id": "edc14e7ec5264747af3faeb281d8b9df",
       "version_major": 2,
       "version_minor": 0
      },
      "text/plain": [
       "animal_depression:   0%|          | 0/1993 [00:00<?, ?it/s]"
      ]
     },
     "metadata": {},
     "output_type": "display_data"
    },
    {
     "data": {
      "application/vnd.jupyter.widget-view+json": {
       "model_id": "fab57186e6534dd0b43847da81a8239e",
       "version_major": 2,
       "version_minor": 0
      },
      "text/plain": [
       "atypical_antipsychotics:   0%|          | 0/1120 [00:00<?, ?it/s]"
      ]
     },
     "metadata": {},
     "output_type": "display_data"
    },
    {
     "data": {
      "application/vnd.jupyter.widget-view+json": {
       "model_id": "e15dac59544d4f55a371a0905d8e60de",
       "version_major": 2,
       "version_minor": 0
      },
      "text/plain": [
       "calcium_channel_blockers:   0%|          | 0/1218 [00:00<?, ?it/s]"
      ]
     },
     "metadata": {},
     "output_type": "display_data"
    },
    {
     "data": {
      "application/vnd.jupyter.widget-view+json": {
       "model_id": "3db0492c937b436eae2e45fbbaac6779",
       "version_major": 2,
       "version_minor": 0
      },
      "text/plain": [
       "oral_hypoglycemics:   0%|          | 0/503 [00:00<?, ?it/s]"
      ]
     },
     "metadata": {},
     "output_type": "display_data"
    },
    {
     "data": {
      "application/vnd.jupyter.widget-view+json": {
       "model_id": "5a061effaafb458dba0c0abc77418f05",
       "version_major": 2,
       "version_minor": 0
      },
      "text/plain": [
       "pancreatic_surgery:   0%|          | 0/34206 [00:00<?, ?it/s]"
      ]
     },
     "metadata": {},
     "output_type": "display_data"
    }
   ],
   "source": [
    "data_directory_uniform = '../../../../data/04_pubmed'\n",
    "\n",
    "for subject, dataset in pl_datasets.items():\n",
    "    # download metadata from pubmed eutils\n",
    "    downloaded_df = fill_missing_from_pubmed(dataset.to_pandas(), subject)\n",
    "    \n",
    "    # add to the dictionary to access later\n",
    "    downloaded_datasets[subject] = downloaded_df\n",
    "    \n",
    "    # save directly to csv \n",
    "    downloaded_df.to_csv(f'{data_directory_uniform}/{subject}_pubmed.csv', index=False)\n",
    "    "
   ]
  },
  {
   "cell_type": "code",
   "execution_count": 17,
   "metadata": {},
   "outputs": [],
   "source": [
    "#filled_datasets = {subject: fill_missing_from_pubmed( #ignore\n",
    "#    dataset.to_pandas(), subject) for subject, dataset in pl_datasets.items()} #ignore"
   ]
  },
  {
   "cell_type": "markdown",
   "metadata": {},
   "source": [
    "## Export"
   ]
  },
  {
   "cell_type": "code",
   "execution_count": 18,
   "metadata": {},
   "outputs": [],
   "source": [
    "#data_directory_uniform = '../../../../data/04_missing'\n",
    "#\n",
    "#[dataframe.to_csv(f'{data_directory_uniform}/{subject}_pubmed.csv', index=False)\n",
    "# for subject, dataframe in filled_datasets.items()];"
   ]
  },
  {
   "cell_type": "markdown",
   "metadata": {},
   "source": [
    "# OTHERS"
   ]
  },
  {
   "cell_type": "code",
   "execution_count": 19,
   "metadata": {},
   "outputs": [],
   "source": [
    "#row = missing_abstracts[5]\n",
    "#id = row.select(pl.col('pubmed_id')).item()\n",
    "#doi = row.select(pl.col('doi')).item()\n",
    "#print(id, doi)"
   ]
  },
  {
   "cell_type": "code",
   "execution_count": 20,
   "metadata": {},
   "outputs": [],
   "source": [
    "#metadata = PubMedFetcher().article_by_pmid(id)\n",
    "#print(metadata.title, end='\\n')\n",
    "#print(metadata.authors)\n",
    "#print(metadata.journal, end='\\n')\n",
    "#print(metadata.year, end='\\n')\n",
    "#print(metadata.doi, end='\\n')\n",
    "#print(metadata.pmid, end='\\n')\n",
    "#print(metadata.citation, end='\\n')\n",
    "#print(metadata.abstract, end='\\n')\n"
   ]
  }
 ],
 "metadata": {
  "kernelspec": {
   "display_name": "automated_screening",
   "language": "python",
   "name": "python3"
  },
  "language_info": {
   "codemirror_mode": {
    "name": "ipython",
    "version": 3
   },
   "file_extension": ".py",
   "mimetype": "text/x-python",
   "name": "python",
   "nbconvert_exporter": "python",
   "pygments_lexer": "ipython3",
   "version": "3.12.3"
  }
 },
 "nbformat": 4,
 "nbformat_minor": 2
}
