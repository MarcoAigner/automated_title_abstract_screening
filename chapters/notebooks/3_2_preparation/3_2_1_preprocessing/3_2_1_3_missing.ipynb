{
 "cells": [
  {
   "cell_type": "code",
   "execution_count": 2,
   "metadata": {},
   "outputs": [],
   "source": [
    "import warnings\n",
    "warnings.simplefilter(action='ignore', category=FutureWarning)"
   ]
  },
  {
   "cell_type": "code",
   "execution_count": 3,
   "metadata": {},
   "outputs": [],
   "source": [
    "import pandas as pd\n",
    "import os\n",
    "#TODO: move to .env file\n",
    "os.environ['NCBI_API_KEY'] = '9b3142c8c09a8527c8d9bc616f5ff2813d08'\n",
    "from metapub import PubMedFetcher\n",
    "from tqdm.notebook import tqdm"
   ]
  },
  {
   "cell_type": "code",
   "execution_count": 4,
   "metadata": {},
   "outputs": [],
   "source": [
    "data_directory_openalex = '../../../../data/03_openalex'\n",
    "\n",
    "files = os.listdir(data_directory_openalex)\n",
    "subjects = [file.split('_openalex')[0] for file in files]"
   ]
  },
  {
   "cell_type": "code",
   "execution_count": 5,
   "metadata": {},
   "outputs": [
    {
     "data": {
      "text/plain": [
       "['adhd_openalex.csv',\n",
       " 'animal_depression_openalex.csv',\n",
       " 'atypical_antipsychotics_openalex.csv',\n",
       " 'calcium_channel_blockers_openalex.csv',\n",
       " 'oral_hypoglycemics_openalex.csv',\n",
       " 'pancreatic_surgery_openalex.csv']"
      ]
     },
     "execution_count": 5,
     "metadata": {},
     "output_type": "execute_result"
    }
   ],
   "source": [
    "files"
   ]
  },
  {
   "cell_type": "code",
   "execution_count": 6,
   "metadata": {},
   "outputs": [
    {
     "data": {
      "text/plain": [
       "['adhd',\n",
       " 'animal_depression',\n",
       " 'atypical_antipsychotics',\n",
       " 'calcium_channel_blockers',\n",
       " 'oral_hypoglycemics',\n",
       " 'pancreatic_surgery']"
      ]
     },
     "execution_count": 6,
     "metadata": {},
     "output_type": "execute_result"
    }
   ],
   "source": [
    "subjects"
   ]
  },
  {
   "cell_type": "code",
   "execution_count": 7,
   "metadata": {},
   "outputs": [],
   "source": [
    "openalex_datasets = {\n",
    "    subjects[count]: pd.read_csv(f'{data_directory_openalex}/{file}')\n",
    "    for count, file in enumerate(files)\n",
    "}"
   ]
  },
  {
   "cell_type": "code",
   "execution_count": 8,
   "metadata": {},
   "outputs": [],
   "source": [
    "def fill_missing_from_pubmed(dataframe: pd.DataFrame, subject: str) -> pd.DataFrame:\n",
    "\n",
    "    df = dataframe.copy()\n",
    "    missing_rows = df[df['title'].isnull() | df['abstract'].isnull()]\n",
    "\n",
    "    for index, row in tqdm(missing_rows.iterrows(), total=missing_rows.shape[0], desc=subject, leave=True):\n",
    "\n",
    "        try:\n",
    "            metadata = PubMedFetcher().article_by_pmid(row['literature_id'])\n",
    "            df.loc[index, 'title'] = metadata.title\n",
    "            df.loc[index, 'abstract'] = metadata.abstract\n",
    "        except:\n",
    "            pass\n",
    "\n",
    "    return df"
   ]
  },
  {
   "cell_type": "code",
   "execution_count": 9,
   "metadata": {},
   "outputs": [
    {
     "data": {
      "application/vnd.jupyter.widget-view+json": {
       "model_id": "f8d5377e77bb4d098e2c566a99d02e96",
       "version_major": 2,
       "version_minor": 0
      },
      "text/plain": [
       "adhd:   0%|          | 0/102 [00:00<?, ?it/s]"
      ]
     },
     "metadata": {},
     "output_type": "display_data"
    },
    {
     "data": {
      "application/vnd.jupyter.widget-view+json": {
       "model_id": "f23a4ff6a2fe439ea2c535081413adf0",
       "version_major": 2,
       "version_minor": 0
      },
      "text/plain": [
       "animal_depression:   0%|          | 0/357 [00:00<?, ?it/s]"
      ]
     },
     "metadata": {},
     "output_type": "display_data"
    },
    {
     "data": {
      "application/vnd.jupyter.widget-view+json": {
       "model_id": "1d440221e6a94069983d296b27572a5b",
       "version_major": 2,
       "version_minor": 0
      },
      "text/plain": [
       "atypical_antipsychotics:   0%|          | 0/122 [00:00<?, ?it/s]"
      ]
     },
     "metadata": {},
     "output_type": "display_data"
    },
    {
     "data": {
      "application/vnd.jupyter.widget-view+json": {
       "model_id": "1834e26ed8f14c6f8226e5270a010210",
       "version_major": 2,
       "version_minor": 0
      },
      "text/plain": [
       "calcium_channel_blockers:   0%|          | 0/182 [00:00<?, ?it/s]"
      ]
     },
     "metadata": {},
     "output_type": "display_data"
    },
    {
     "data": {
      "application/vnd.jupyter.widget-view+json": {
       "model_id": "ad94e95967ae4e2481731e8b84a3a84b",
       "version_major": 2,
       "version_minor": 0
      },
      "text/plain": [
       "oral_hypoglycemics:   0%|          | 0/84 [00:00<?, ?it/s]"
      ]
     },
     "metadata": {},
     "output_type": "display_data"
    },
    {
     "data": {
      "application/vnd.jupyter.widget-view+json": {
       "model_id": "0b879d0ea24e4104a6dc8f618a6b0409",
       "version_major": 2,
       "version_minor": 0
      },
      "text/plain": [
       "pancreatic_surgery:   0%|          | 0/4159 [00:00<?, ?it/s]"
      ]
     },
     "metadata": {},
     "output_type": "display_data"
    }
   ],
   "source": [
    "filled_datasets = {subject: fill_missing_from_pubmed( #ignore\n",
    "    value, subject) for subject, value in openalex_datasets.items()} #ignore"
   ]
  },
  {
   "cell_type": "markdown",
   "metadata": {},
   "source": [
    "## Export"
   ]
  },
  {
   "cell_type": "code",
   "execution_count": 15,
   "metadata": {},
   "outputs": [],
   "source": [
    "data_directory_uniform = '../../../../data/04_missing'\n",
    "\n",
    "[dataframe.to_csv(f'{data_directory_uniform}/{subject}_pubmed.csv', index=False)\n",
    " for subject, dataframe in filled_datasets.items()];"
   ]
  }
 ],
 "metadata": {
  "kernelspec": {
   "display_name": "automated_screening",
   "language": "python",
   "name": "python3"
  },
  "language_info": {
   "codemirror_mode": {
    "name": "ipython",
    "version": 3
   },
   "file_extension": ".py",
   "mimetype": "text/x-python",
   "name": "python",
   "nbconvert_exporter": "python",
   "pygments_lexer": "ipython3",
   "version": "3.12.3"
  }
 },
 "nbformat": 4,
 "nbformat_minor": 2
}
