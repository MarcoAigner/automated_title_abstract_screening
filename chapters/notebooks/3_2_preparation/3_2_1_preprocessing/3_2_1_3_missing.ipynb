{
 "cells": [
  {
   "cell_type": "code",
   "execution_count": 1,
   "metadata": {},
   "outputs": [],
   "source": [
    "import warnings\n",
    "warnings.simplefilter(action='ignore', category=FutureWarning)"
   ]
  },
  {
   "cell_type": "code",
   "execution_count": 2,
   "metadata": {},
   "outputs": [],
   "source": [
    "import pandas as pd\n",
    "import os\n",
    "from metapub import PubMedFetcher\n",
    "from tqdm.notebook import tqdm\n",
    "from src import data\n",
    "import polars as pl\n",
    "\n",
    "#TODO: move to .env file\n",
    "os.environ['NCBI_API_KEY'] = '9b3142c8c09a8527c8d9bc616f5ff2813d08'"
   ]
  },
  {
   "cell_type": "markdown",
   "metadata": {},
   "source": [
    "# Load Datasets"
   ]
  },
  {
   "cell_type": "code",
   "execution_count": 3,
   "metadata": {},
   "outputs": [],
   "source": [
    "data_directory_openalex = '../../../../data/03_openalex'\n",
    "pl_datasets = data.dict_from_directory(data_directory_openalex, separator=',', type='polars')"
   ]
  },
  {
   "cell_type": "markdown",
   "metadata": {},
   "source": [
    "# Rename Literature IDs\n",
    "## SYNERGY\n",
    "SYNERGY only has pubmed_ids, rename accordingly."
   ]
  },
  {
   "cell_type": "code",
   "execution_count": 4,
   "metadata": {},
   "outputs": [],
   "source": [
    "for subject, dataset in pl_datasets.items():\n",
    "    if subject != 'pancreatic_surgery':\n",
    "        pl_datasets[subject] = dataset.rename({'literature_id': 'pubmed_id'})"
   ]
  },
  {
   "cell_type": "markdown",
   "metadata": {},
   "source": [
    "## EVIglance\n",
    "The EVIglance dataset contains ids from pubmed, cochrane central, web of science and others. \n",
    "Detect the type of the first three ids and assign them accordingly."
   ]
  },
  {
   "cell_type": "code",
   "execution_count": 5,
   "metadata": {},
   "outputs": [],
   "source": [
    "pl_datasets['pancreatic_surgery'] = pl_datasets['pancreatic_surgery'].with_columns(\n",
    "    pl.when(pl.col('literature_id').str.starts_with('CN-'))\n",
    "    .then(pl.col('literature_id').alias('central_id')),\n",
    "    pl.when(pl.col('literature_id').str.starts_with('WOS:'))\n",
    "    .then(pl.col('literature_id').alias('webofscience_id')),\n",
    "    pl.when(pl.col('literature_id').str.contains(\"^(\\\\d)*$\"))\n",
    "    .then(pl.col('literature_id').alias('pubmed_id')),\n",
    ").select(pl.all().exclude('literature_id'))"
   ]
  },
  {
   "cell_type": "code",
   "execution_count": 6,
   "metadata": {},
   "outputs": [
    {
     "data": {
      "text/html": [
       "<div><style>\n",
       ".dataframe > thead > tr,\n",
       ".dataframe > tbody > tr {\n",
       "  text-align: right;\n",
       "  white-space: pre-wrap;\n",
       "}\n",
       "</style>\n",
       "<small>shape: (34_206, 8)</small><table border=\"1\" class=\"dataframe\"><thead><tr><th>include</th><th>title</th><th>abstract</th><th>doi</th><th>openalex_id</th><th>central_id</th><th>webofscience_id</th><th>pubmed_id</th></tr><tr><td>bool</td><td>str</td><td>str</td><td>str</td><td>str</td><td>str</td><td>str</td><td>str</td></tr></thead><tbody><tr><td>false</td><td>&quot;Reflections and proposals for …</td><td>&quot;In this paper, I consider: the…</td><td>&quot;10.1053/ejso.1999.0731&quot;</td><td>null</td><td>null</td><td>null</td><td>&quot;10718171&quot;</td></tr><tr><td>false</td><td>&quot;Diagnostic endoscopic retrogra…</td><td>&quot;The importance of diagnostic e…</td><td>&quot;10.1055/s-2000-95&quot;</td><td>null</td><td>null</td><td>null</td><td>&quot;10718385&quot;</td></tr><tr><td>false</td><td>&quot;Therapeutic pancreatic endosco…</td><td>&quot;A number of endoscopic interve…</td><td>&quot;10.1055/s-2000-94&quot;</td><td>null</td><td>null</td><td>null</td><td>&quot;10718387&quot;</td></tr><tr><td>false</td><td>&quot;Cephalic phase of lipolysis is…</td><td>&quot;BACKGROUND: Gastric lipase con…</td><td>&quot;10.1080/003655200750024407&quot;</td><td>null</td><td>null</td><td>null</td><td>&quot;10720121&quot;</td></tr><tr><td>false</td><td>&quot;Ischemia/Reperfusion-Induced p…</td><td>&quot;BACKGROUND/AIM: The pancreas i…</td><td>&quot;10.1159/000018793&quot;</td><td>null</td><td>null</td><td>null</td><td>&quot;10720825&quot;</td></tr><tr><td>&hellip;</td><td>&hellip;</td><td>&hellip;</td><td>&hellip;</td><td>&hellip;</td><td>&hellip;</td><td>&hellip;</td><td>&hellip;</td></tr><tr><td>true</td><td>&quot;Quality of life after open ver…</td><td>null</td><td>&quot;10.1093/bjsopen/zrad002&quot;</td><td>null</td><td>null</td><td>null</td><td>&quot;36893287&quot;</td></tr><tr><td>true</td><td>&quot;A randomized controlled trial …</td><td>null</td><td>&quot;10.1007/s00423-023-02873-w&quot;</td><td>null</td><td>null</td><td>null</td><td>&quot;37010643&quot;</td></tr><tr><td>true</td><td>&quot;Minimally invasive versus open…</td><td>null</td><td>&quot;10.1016/j.lanepe.2023.100673&quot;</td><td>null</td><td>null</td><td>null</td><td>&quot;37457332&quot;</td></tr><tr><td>true</td><td>&quot;A prospective randomized contr…</td><td>null</td><td>&quot;10.1016/j.amjsurg.2009.04.017&quot;</td><td>null</td><td>null</td><td>null</td><td>&quot;20074698&quot;</td></tr><tr><td>true</td><td>&quot;Comparison of long-term clinic…</td><td>null</td><td>&quot;10.1016/j.hpb.2018.06.1795&quot;</td><td>null</td><td>null</td><td>null</td><td>&quot;30093143&quot;</td></tr></tbody></table></div>"
      ],
      "text/plain": [
       "shape: (34_206, 8)\n",
       "┌─────────┬────────────┬────────────┬────────────┬────────────┬────────────┬───────────┬───────────┐\n",
       "│ include ┆ title      ┆ abstract   ┆ doi        ┆ openalex_i ┆ central_id ┆ webofscie ┆ pubmed_id │\n",
       "│ ---     ┆ ---        ┆ ---        ┆ ---        ┆ d          ┆ ---        ┆ nce_id    ┆ ---       │\n",
       "│ bool    ┆ str        ┆ str        ┆ str        ┆ ---        ┆ str        ┆ ---       ┆ str       │\n",
       "│         ┆            ┆            ┆            ┆ str        ┆            ┆ str       ┆           │\n",
       "╞═════════╪════════════╪════════════╪════════════╪════════════╪════════════╪═══════════╪═══════════╡\n",
       "│ false   ┆ Reflection ┆ In this    ┆ 10.1053/ej ┆ null       ┆ null       ┆ null      ┆ 10718171  │\n",
       "│         ┆ s and      ┆ paper, I   ┆ so.1999.07 ┆            ┆            ┆           ┆           │\n",
       "│         ┆ proposals  ┆ consider:  ┆ 31         ┆            ┆            ┆           ┆           │\n",
       "│         ┆ for …      ┆ the…       ┆            ┆            ┆            ┆           ┆           │\n",
       "│ false   ┆ Diagnostic ┆ The        ┆ 10.1055/s- ┆ null       ┆ null       ┆ null      ┆ 10718385  │\n",
       "│         ┆ endoscopic ┆ importance ┆ 2000-95    ┆            ┆            ┆           ┆           │\n",
       "│         ┆ retrogra…  ┆ of         ┆            ┆            ┆            ┆           ┆           │\n",
       "│         ┆            ┆ diagnostic ┆            ┆            ┆            ┆           ┆           │\n",
       "│         ┆            ┆ e…         ┆            ┆            ┆            ┆           ┆           │\n",
       "│ false   ┆ Therapeuti ┆ A number   ┆ 10.1055/s- ┆ null       ┆ null       ┆ null      ┆ 10718387  │\n",
       "│         ┆ c          ┆ of         ┆ 2000-94    ┆            ┆            ┆           ┆           │\n",
       "│         ┆ pancreatic ┆ endoscopic ┆            ┆            ┆            ┆           ┆           │\n",
       "│         ┆ endosco…   ┆ interve…   ┆            ┆            ┆            ┆           ┆           │\n",
       "│ false   ┆ Cephalic   ┆ BACKGROUND ┆ 10.1080/00 ┆ null       ┆ null       ┆ null      ┆ 10720121  │\n",
       "│         ┆ phase of   ┆ : Gastric  ┆ 3655200750 ┆            ┆            ┆           ┆           │\n",
       "│         ┆ lipolysis  ┆ lipase     ┆ 024407     ┆            ┆            ┆           ┆           │\n",
       "│         ┆ is…        ┆ con…       ┆            ┆            ┆            ┆           ┆           │\n",
       "│ false   ┆ Ischemia/R ┆ BACKGROUND ┆ 10.1159/00 ┆ null       ┆ null       ┆ null      ┆ 10720825  │\n",
       "│         ┆ eperfusion ┆ /AIM: The  ┆ 0018793    ┆            ┆            ┆           ┆           │\n",
       "│         ┆ -Induced   ┆ pancreas   ┆            ┆            ┆            ┆           ┆           │\n",
       "│         ┆ p…         ┆ i…         ┆            ┆            ┆            ┆           ┆           │\n",
       "│ …       ┆ …          ┆ …          ┆ …          ┆ …          ┆ …          ┆ …         ┆ …         │\n",
       "│ true    ┆ Quality of ┆ null       ┆ 10.1093/bj ┆ null       ┆ null       ┆ null      ┆ 36893287  │\n",
       "│         ┆ life after ┆            ┆ sopen/zrad ┆            ┆            ┆           ┆           │\n",
       "│         ┆ open ver…  ┆            ┆ 002        ┆            ┆            ┆           ┆           │\n",
       "│ true    ┆ A          ┆ null       ┆ 10.1007/s0 ┆ null       ┆ null       ┆ null      ┆ 37010643  │\n",
       "│         ┆ randomized ┆            ┆ 0423-023-0 ┆            ┆            ┆           ┆           │\n",
       "│         ┆ controlled ┆            ┆ 2873-w     ┆            ┆            ┆           ┆           │\n",
       "│         ┆ trial …    ┆            ┆            ┆            ┆            ┆           ┆           │\n",
       "│ true    ┆ Minimally  ┆ null       ┆ 10.1016/j. ┆ null       ┆ null       ┆ null      ┆ 37457332  │\n",
       "│         ┆ invasive   ┆            ┆ lanepe.202 ┆            ┆            ┆           ┆           │\n",
       "│         ┆ versus     ┆            ┆ 3.100673   ┆            ┆            ┆           ┆           │\n",
       "│         ┆ open…      ┆            ┆            ┆            ┆            ┆           ┆           │\n",
       "│ true    ┆ A prospect ┆ null       ┆ 10.1016/j. ┆ null       ┆ null       ┆ null      ┆ 20074698  │\n",
       "│         ┆ ive        ┆            ┆ amjsurg.20 ┆            ┆            ┆           ┆           │\n",
       "│         ┆ randomized ┆            ┆ 09.04.017  ┆            ┆            ┆           ┆           │\n",
       "│         ┆ contr…     ┆            ┆            ┆            ┆            ┆           ┆           │\n",
       "│ true    ┆ Comparison ┆ null       ┆ 10.1016/j. ┆ null       ┆ null       ┆ null      ┆ 30093143  │\n",
       "│         ┆ of         ┆            ┆ hpb.2018.0 ┆            ┆            ┆           ┆           │\n",
       "│         ┆ long-term  ┆            ┆ 6.1795     ┆            ┆            ┆           ┆           │\n",
       "│         ┆ clinic…    ┆            ┆            ┆            ┆            ┆           ┆           │\n",
       "└─────────┴────────────┴────────────┴────────────┴────────────┴────────────┴───────────┴───────────┘"
      ]
     },
     "execution_count": 6,
     "metadata": {},
     "output_type": "execute_result"
    }
   ],
   "source": [
    "pl_datasets['pancreatic_surgery']"
   ]
  },
  {
   "cell_type": "markdown",
   "metadata": {},
   "source": [
    "# Type Casting\n",
    "The PubMed ID is wrongfully formatted as Float64 in the animal depression dataset and as String in the pancreatic surgery dataset. \n",
    "Cast both to Integer:"
   ]
  },
  {
   "cell_type": "code",
   "execution_count": 7,
   "metadata": {},
   "outputs": [],
   "source": [
    "pl_datasets['animal_depression'] = pl_datasets['animal_depression'].cast({pl.Float64: pl.Int64})\n",
    "pl_datasets['pancreatic_surgery'] = pl_datasets['pancreatic_surgery'].cast({'pubmed_id': pl.Int64})"
   ]
  },
  {
   "cell_type": "markdown",
   "metadata": {},
   "source": [
    "# Uniform Schema"
   ]
  },
  {
   "cell_type": "markdown",
   "metadata": {},
   "source": [
    "## Definition\n",
    "Define a uniform schema that all datasets will use from now on:"
   ]
  },
  {
   "cell_type": "code",
   "execution_count": 8,
   "metadata": {},
   "outputs": [],
   "source": [
    "schema = pl.Schema({\n",
    "    \"include\": pl.Boolean,\n",
    "    \"title\": pl.String,\n",
    "    \"abstract\": pl.String,\n",
    "    \"first_author\": pl.String,\n",
    "    \"year\": pl.Int16,\n",
    "    \"journal\": pl.String,\n",
    "    \"doi\": pl.String,\n",
    "    \"pubmed_id\": pl.Int64,\n",
    "    \"authors\": pl.String,\n",
    "    \"pubmed_type\": pl.String,\n",
    "    \"publication_types\": pl.String,\n",
    "    \"mesh\": pl.String,\n",
    "    \"webofscience_id\": pl.String,\n",
    "    \"central_id\": pl.String,\n",
    "    \"openalex_id\": pl.String,\n",
    "})"
   ]
  },
  {
   "cell_type": "markdown",
   "metadata": {},
   "source": [
    "## Assignment"
   ]
  },
  {
   "cell_type": "code",
   "execution_count": 9,
   "metadata": {},
   "outputs": [],
   "source": [
    "for subject, dataset in pl_datasets.items():\n",
    "    df = pl.DataFrame(schema=schema)\n",
    "    pl_datasets[subject] = pl.concat(items=[pl.DataFrame(schema=schema), dataset], how='diagonal')"
   ]
  },
  {
   "cell_type": "markdown",
   "metadata": {},
   "source": [
    "## Export\n",
    "Export the data in this format if the target folder is empty"
   ]
  },
  {
   "cell_type": "code",
   "execution_count": 13,
   "metadata": {},
   "outputs": [],
   "source": [
    "data_directory_schema = '../../../../data/031_schema'\n",
    "\n",
    "# save the data in the provided schema \n",
    "\n",
    "[dataset.write_csv(f'{data_directory_schema}/{subject}_schema.csv') for subject, dataset in pl_datasets.items()];"
   ]
  },
  {
   "cell_type": "markdown",
   "metadata": {},
   "source": [
    "# Download Function"
   ]
  },
  {
   "cell_type": "code",
   "execution_count": 12,
   "metadata": {},
   "outputs": [],
   "source": [
    "def fill_missing_from_pubmed(dataframe: pd.DataFrame, subject: str) -> pd.DataFrame:\n",
    "\n",
    "    df = dataframe.copy()\n",
    "\n",
    "    for INDEX, row in tqdm(df.iterrows(), total=df.shape[0], desc=subject, leave=True):\n",
    "\n",
    "        if not pd.isnull(row['pubmed_id']):\n",
    "            try:\n",
    "                metadata = PubMedFetcher().article_by_pmid(row['pubmed_id'])\n",
    "\n",
    "                # fill columns if they are missing\n",
    "                df.at[INDEX, 'title'] = metadata.title if pd.isnull(row['title']) else row['title']\n",
    "                df.at[INDEX, 'abstract'] = metadata.abstract if pd.isnull(row['abstract']) else row['abstract']\n",
    "                df.at[INDEX, 'first_author'] = metadata.author1_last_fm if pd.isnull(row['first_author']) else row['first_author']\n",
    "                df.at[INDEX, 'year'] = metadata.year if pd.isnull(row['year']) else row['year']\n",
    "                df.at[INDEX, 'journal'] = metadata.journal if pd.isnull(row['journal']) else row['journal']\n",
    "                df.at[INDEX, 'doi'] = metadata.doi if pd.isnull(row['doi']) else row['doi']\n",
    "                df.at[INDEX, 'pubmed_id'] = metadata.pmid if pd.isnull(row['pubmed_id']) else row['pubmed_id']\n",
    "                df.at[INDEX, 'authors'] = metadata.authors_str if pd.isnull(row['authors']) else row['authors']\n",
    "                df.at[INDEX, 'pubmed_type'] = metadata.pubmed_type if pd.isnull(row['pubmed_type']) else row['pubmed_type']\n",
    "                df.at[INDEX, 'publication_types'] = '; '.join([f'{key}: {value}' for key, value in metadata.publication_types.items()]) if pd.isnull(row['publication_types']) else row['publication_types']\n",
    "                df.at[INDEX, 'mesh'] = '; '.join([f'{key}: {value['descriptor_name']}' for key, value in metadata.mesh.items()]) if pd.isnull(row['mesh']) else row['mesh']\n",
    "                df.at[INDEX, 'webofscience_id'] = row['webofscience_id']\n",
    "                df.at[INDEX, 'central_id'] = row['central_id']\n",
    "                df.at[INDEX, 'openalex_id'] = row['openalex_id']\n",
    "            except:\n",
    "                pass\n",
    "\n",
    "    return df"
   ]
  },
  {
   "cell_type": "markdown",
   "metadata": {},
   "source": [
    "# Download and Export"
   ]
  },
  {
   "cell_type": "code",
   "execution_count": null,
   "metadata": {},
   "outputs": [],
   "source": [
    "downloaded_datasets = {}"
   ]
  },
  {
   "cell_type": "code",
   "execution_count": null,
   "metadata": {},
   "outputs": [],
   "source": [
    "data_directory_uniform = '../../../../data/04_pubmed'\n",
    "\n",
    "for subject, dataset in pl_datasets.items():\n",
    "    # download metadata from pubmed eutils\n",
    "    downloaded_df = fill_missing_from_pubmed(dataset.to_pandas(), subject)\n",
    "\n",
    "    # transform the dataframe to polars\n",
    "    polars_df = pl.DataFrame(data=downloaded_df, schema=schema)\n",
    "    \n",
    "    # add to the dictionary to access later\n",
    "    downloaded_datasets[subject] = polars_df\n",
    "    \n",
    "    # save directly to csv \n",
    "    polars_df.write_csv(f'{data_directory_uniform}/{subject}_pubmed.csv')\n",
    "    "
   ]
  }
 ],
 "metadata": {
  "kernelspec": {
   "display_name": "automated_screening",
   "language": "python",
   "name": "python3"
  },
  "language_info": {
   "codemirror_mode": {
    "name": "ipython",
    "version": 3
   },
   "file_extension": ".py",
   "mimetype": "text/x-python",
   "name": "python",
   "nbconvert_exporter": "python",
   "pygments_lexer": "ipython3",
   "version": "3.12.3"
  }
 },
 "nbformat": 4,
 "nbformat_minor": 2
}
