{
 "cells": [
  {
   "cell_type": "markdown",
   "metadata": {},
   "source": [
    "# Preprocessing the Datasets"
   ]
  },
  {
   "cell_type": "markdown",
   "metadata": {},
   "source": [
    "## Uniformization"
   ]
  },
  {
   "cell_type": "code",
   "execution_count": 1,
   "metadata": {},
   "outputs": [],
   "source": [
    "import re # regular expressions\n",
    "import os # file system\n",
    "import pandas as pd # dataframes\n",
    "import numpy as np # numerical operations"
   ]
  },
  {
   "cell_type": "markdown",
   "metadata": {},
   "source": [
    "### Loading"
   ]
  },
  {
   "cell_type": "markdown",
   "metadata": {},
   "source": [
    "The raw datasets all sit in the same directory:"
   ]
  },
  {
   "cell_type": "code",
   "execution_count": 2,
   "metadata": {},
   "outputs": [],
   "source": [
    "data_directory_raw = '../../../data/01_original'"
   ]
  },
  {
   "cell_type": "code",
   "execution_count": 3,
   "metadata": {},
   "outputs": [
    {
     "data": {
      "text/plain": [
       "['adhd_raw.csv',\n",
       " 'animal_depression_raw.csv',\n",
       " 'atypical_antipsychotics_raw.csv',\n",
       " 'calcium_channel_blockers_raw.csv',\n",
       " 'oral_hypoglycemics_raw.csv',\n",
       " 'pancreatic_surgery_raw.tsv']"
      ]
     },
     "execution_count": 3,
     "metadata": {},
     "output_type": "execute_result"
    }
   ],
   "source": [
    "files = os.listdir(data_directory_raw)\n",
    "files"
   ]
  },
  {
   "cell_type": "code",
   "execution_count": 4,
   "metadata": {},
   "outputs": [
    {
     "data": {
      "text/plain": [
       "['adhd',\n",
       " 'animal_depression',\n",
       " 'atypical_antipsychotics',\n",
       " 'calcium_channel_blockers',\n",
       " 'oral_hypoglycemics',\n",
       " 'pancreatic_surgery']"
      ]
     },
     "execution_count": 4,
     "metadata": {},
     "output_type": "execute_result"
    }
   ],
   "source": [
    "subjects = [file.split('_raw')[0] for file in files]\n",
    "subjects"
   ]
  },
  {
   "cell_type": "markdown",
   "metadata": {},
   "source": [
    "Import the raw datasets:"
   ]
  },
  {
   "cell_type": "code",
   "execution_count": 5,
   "metadata": {},
   "outputs": [],
   "source": [
    "raw_dataframes = {subjects[count]: {\n",
    "    'dataframe': pd.read_csv(f'{data_directory_raw}/{filename}',\n",
    "                             sep='\\t' if filename.endswith('.tsv') else ','),\n",
    "    'synergy': True if filename.endswith('.csv') else False\n",
    "} for count, filename in enumerate(files)}"
   ]
  },
  {
   "cell_type": "markdown",
   "metadata": {},
   "source": [
    "### Inspection"
   ]
  },
  {
   "cell_type": "code",
   "execution_count": 6,
   "metadata": {},
   "outputs": [
    {
     "data": {
      "text/html": [
       "<div>\n",
       "<style scoped>\n",
       "    .dataframe tbody tr th:only-of-type {\n",
       "        vertical-align: middle;\n",
       "    }\n",
       "\n",
       "    .dataframe tbody tr th {\n",
       "        vertical-align: top;\n",
       "    }\n",
       "\n",
       "    .dataframe thead th {\n",
       "        text-align: right;\n",
       "    }\n",
       "</style>\n",
       "<table border=\"1\" class=\"dataframe\">\n",
       "  <thead>\n",
       "    <tr style=\"text-align: right;\">\n",
       "      <th></th>\n",
       "      <th>State</th>\n",
       "      <th>StudyType</th>\n",
       "      <th>Abstract</th>\n",
       "      <th>Title</th>\n",
       "      <th>LiteratureId</th>\n",
       "      <th>ArticleUrl</th>\n",
       "      <th>FirstAuthor</th>\n",
       "      <th>Doi</th>\n",
       "    </tr>\n",
       "  </thead>\n",
       "  <tbody>\n",
       "    <tr>\n",
       "      <th>0</th>\n",
       "      <td>3</td>\n",
       "      <td>7</td>\n",
       "      <td>In this paper, I consider: the value of variou...</td>\n",
       "      <td>Reflections and proposals for the standardizat...</td>\n",
       "      <td>10718171</td>\n",
       "      <td>NaN</td>\n",
       "      <td>Elias</td>\n",
       "      <td>10.1053/ejso.1999.0731</td>\n",
       "    </tr>\n",
       "    <tr>\n",
       "      <th>1</th>\n",
       "      <td>3</td>\n",
       "      <td>7</td>\n",
       "      <td>The importance of diagnostic endoscopic retrog...</td>\n",
       "      <td>Diagnostic endoscopic retrograde cholangiopanc...</td>\n",
       "      <td>10718385</td>\n",
       "      <td>NaN</td>\n",
       "      <td>Ponchon</td>\n",
       "      <td>10.1055/s-2000-95</td>\n",
       "    </tr>\n",
       "    <tr>\n",
       "      <th>2</th>\n",
       "      <td>3</td>\n",
       "      <td>7</td>\n",
       "      <td>A number of endoscopic interventions have expa...</td>\n",
       "      <td>Therapeutic pancreatic endoscopy.</td>\n",
       "      <td>10718387</td>\n",
       "      <td>NaN</td>\n",
       "      <td>Neuhaus</td>\n",
       "      <td>10.1055/s-2000-94</td>\n",
       "    </tr>\n",
       "    <tr>\n",
       "      <th>3</th>\n",
       "      <td>3</td>\n",
       "      <td>7</td>\n",
       "      <td>BACKGROUND: Gastric lipase contributes signifi...</td>\n",
       "      <td>Cephalic phase of lipolysis is impaired in pan...</td>\n",
       "      <td>10720121</td>\n",
       "      <td>NaN</td>\n",
       "      <td>Wøjdemann</td>\n",
       "      <td>10.1080/003655200750024407</td>\n",
       "    </tr>\n",
       "    <tr>\n",
       "      <th>4</th>\n",
       "      <td>3</td>\n",
       "      <td>7</td>\n",
       "      <td>BACKGROUND/AIM: The pancreas is an organ highl...</td>\n",
       "      <td>Ischemia/Reperfusion-Induced pancreatitis.</td>\n",
       "      <td>10720825</td>\n",
       "      <td>NaN</td>\n",
       "      <td>Sakorafas</td>\n",
       "      <td>10.1159/000018793</td>\n",
       "    </tr>\n",
       "  </tbody>\n",
       "</table>\n",
       "</div>"
      ],
      "text/plain": [
       "   State  StudyType                                           Abstract  \\\n",
       "0      3          7  In this paper, I consider: the value of variou...   \n",
       "1      3          7  The importance of diagnostic endoscopic retrog...   \n",
       "2      3          7  A number of endoscopic interventions have expa...   \n",
       "3      3          7  BACKGROUND: Gastric lipase contributes signifi...   \n",
       "4      3          7  BACKGROUND/AIM: The pancreas is an organ highl...   \n",
       "\n",
       "                                               Title LiteratureId ArticleUrl  \\\n",
       "0  Reflections and proposals for the standardizat...     10718171        NaN   \n",
       "1  Diagnostic endoscopic retrograde cholangiopanc...     10718385        NaN   \n",
       "2                  Therapeutic pancreatic endoscopy.     10718387        NaN   \n",
       "3  Cephalic phase of lipolysis is impaired in pan...     10720121        NaN   \n",
       "4         Ischemia/Reperfusion-Induced pancreatitis.     10720825        NaN   \n",
       "\n",
       "  FirstAuthor                         Doi  \n",
       "0       Elias      10.1053/ejso.1999.0731  \n",
       "1     Ponchon           10.1055/s-2000-95  \n",
       "2     Neuhaus           10.1055/s-2000-94  \n",
       "3   Wøjdemann  10.1080/003655200750024407  \n",
       "4   Sakorafas           10.1159/000018793  "
      ]
     },
     "execution_count": 6,
     "metadata": {},
     "output_type": "execute_result"
    }
   ],
   "source": [
    "raw_dataframes['pancreatic_surgery']['dataframe'].head()"
   ]
  },
  {
   "cell_type": "code",
   "execution_count": 7,
   "metadata": {},
   "outputs": [
    {
     "data": {
      "text/html": [
       "<div>\n",
       "<style scoped>\n",
       "    .dataframe tbody tr th:only-of-type {\n",
       "        vertical-align: middle;\n",
       "    }\n",
       "\n",
       "    .dataframe tbody tr th {\n",
       "        vertical-align: top;\n",
       "    }\n",
       "\n",
       "    .dataframe thead th {\n",
       "        text-align: right;\n",
       "    }\n",
       "</style>\n",
       "<table border=\"1\" class=\"dataframe\">\n",
       "  <thead>\n",
       "    <tr style=\"text-align: right;\">\n",
       "      <th></th>\n",
       "      <th>doi</th>\n",
       "      <th>pmid</th>\n",
       "      <th>openalex_id</th>\n",
       "      <th>label_included</th>\n",
       "      <th>method</th>\n",
       "    </tr>\n",
       "  </thead>\n",
       "  <tbody>\n",
       "    <tr>\n",
       "      <th>0</th>\n",
       "      <td>https://doi.org/10.1042/bj1300919</td>\n",
       "      <td>https://pubmed.ncbi.nlm.nih.gov/4656804</td>\n",
       "      <td>https://openalex.org/W2401025235</td>\n",
       "      <td>0</td>\n",
       "      <td>id_retrieval_pmid</td>\n",
       "    </tr>\n",
       "    <tr>\n",
       "      <th>1</th>\n",
       "      <td>NaN</td>\n",
       "      <td>https://pubmed.ncbi.nlm.nih.gov/6542443</td>\n",
       "      <td>https://openalex.org/W2410512259</td>\n",
       "      <td>0</td>\n",
       "      <td>id_retrieval_pmid</td>\n",
       "    </tr>\n",
       "    <tr>\n",
       "      <th>2</th>\n",
       "      <td>NaN</td>\n",
       "      <td>NaN</td>\n",
       "      <td>https://openalex.org/W2418079034</td>\n",
       "      <td>0</td>\n",
       "      <td>search_title</td>\n",
       "    </tr>\n",
       "    <tr>\n",
       "      <th>3</th>\n",
       "      <td>https://doi.org/10.1111/ejn.12410</td>\n",
       "      <td>https://pubmed.ncbi.nlm.nih.gov/24188077</td>\n",
       "      <td>https://openalex.org/W2017388204</td>\n",
       "      <td>1</td>\n",
       "      <td>id_retrieval_pmid</td>\n",
       "    </tr>\n",
       "    <tr>\n",
       "      <th>4</th>\n",
       "      <td>https://doi.org/10.1097/00003246-200106000-00024</td>\n",
       "      <td>https://pubmed.ncbi.nlm.nih.gov/11395604</td>\n",
       "      <td>https://openalex.org/W1995720522</td>\n",
       "      <td>0</td>\n",
       "      <td>id_retrieval_pmid</td>\n",
       "    </tr>\n",
       "  </tbody>\n",
       "</table>\n",
       "</div>"
      ],
      "text/plain": [
       "                                                doi  \\\n",
       "0                 https://doi.org/10.1042/bj1300919   \n",
       "1                                               NaN   \n",
       "2                                               NaN   \n",
       "3                 https://doi.org/10.1111/ejn.12410   \n",
       "4  https://doi.org/10.1097/00003246-200106000-00024   \n",
       "\n",
       "                                       pmid                       openalex_id  \\\n",
       "0   https://pubmed.ncbi.nlm.nih.gov/4656804  https://openalex.org/W2401025235   \n",
       "1   https://pubmed.ncbi.nlm.nih.gov/6542443  https://openalex.org/W2410512259   \n",
       "2                                       NaN  https://openalex.org/W2418079034   \n",
       "3  https://pubmed.ncbi.nlm.nih.gov/24188077  https://openalex.org/W2017388204   \n",
       "4  https://pubmed.ncbi.nlm.nih.gov/11395604  https://openalex.org/W1995720522   \n",
       "\n",
       "   label_included             method  \n",
       "0               0  id_retrieval_pmid  \n",
       "1               0  id_retrieval_pmid  \n",
       "2               0       search_title  \n",
       "3               1  id_retrieval_pmid  \n",
       "4               0  id_retrieval_pmid  "
      ]
     },
     "execution_count": 7,
     "metadata": {},
     "output_type": "execute_result"
    }
   ],
   "source": [
    "raw_dataframes['animal_depression']['dataframe'].head()"
   ]
  },
  {
   "cell_type": "code",
   "execution_count": 8,
   "metadata": {},
   "outputs": [
    {
     "data": {
      "text/html": [
       "<div>\n",
       "<style scoped>\n",
       "    .dataframe tbody tr th:only-of-type {\n",
       "        vertical-align: middle;\n",
       "    }\n",
       "\n",
       "    .dataframe tbody tr th {\n",
       "        vertical-align: top;\n",
       "    }\n",
       "\n",
       "    .dataframe thead th {\n",
       "        text-align: right;\n",
       "    }\n",
       "</style>\n",
       "<table border=\"1\" class=\"dataframe\">\n",
       "  <thead>\n",
       "    <tr style=\"text-align: right;\">\n",
       "      <th></th>\n",
       "      <th>pmid</th>\n",
       "      <th>doi</th>\n",
       "      <th>openalex_id</th>\n",
       "      <th>label_included</th>\n",
       "    </tr>\n",
       "  </thead>\n",
       "  <tbody>\n",
       "    <tr>\n",
       "      <th>0</th>\n",
       "      <td>https://pubmed.ncbi.nlm.nih.gov/10051933</td>\n",
       "      <td>https://doi.org/10.1007/bf03012457</td>\n",
       "      <td>https://openalex.org/W2082613933</td>\n",
       "      <td>0</td>\n",
       "    </tr>\n",
       "    <tr>\n",
       "      <th>1</th>\n",
       "      <td>https://pubmed.ncbi.nlm.nih.gov/10053177</td>\n",
       "      <td>https://doi.org/10.1056/nejm199903043400903</td>\n",
       "      <td>https://openalex.org/W2312609348</td>\n",
       "      <td>0</td>\n",
       "    </tr>\n",
       "    <tr>\n",
       "      <th>2</th>\n",
       "      <td>https://pubmed.ncbi.nlm.nih.gov/10066996</td>\n",
       "      <td>https://doi.org/10.1037/0021-843x.108.1.90</td>\n",
       "      <td>https://openalex.org/W2022904832</td>\n",
       "      <td>0</td>\n",
       "    </tr>\n",
       "    <tr>\n",
       "      <th>3</th>\n",
       "      <td>https://pubmed.ncbi.nlm.nih.gov/10072008</td>\n",
       "      <td>https://doi.org/10.1097/00000539-199903000-00020</td>\n",
       "      <td>https://openalex.org/W2021097359</td>\n",
       "      <td>0</td>\n",
       "    </tr>\n",
       "    <tr>\n",
       "      <th>4</th>\n",
       "      <td>https://pubmed.ncbi.nlm.nih.gov/10072410</td>\n",
       "      <td>https://doi.org/10.1056/nejm199903113401003</td>\n",
       "      <td>https://openalex.org/W4239283954</td>\n",
       "      <td>0</td>\n",
       "    </tr>\n",
       "  </tbody>\n",
       "</table>\n",
       "</div>"
      ],
      "text/plain": [
       "                                       pmid  \\\n",
       "0  https://pubmed.ncbi.nlm.nih.gov/10051933   \n",
       "1  https://pubmed.ncbi.nlm.nih.gov/10053177   \n",
       "2  https://pubmed.ncbi.nlm.nih.gov/10066996   \n",
       "3  https://pubmed.ncbi.nlm.nih.gov/10072008   \n",
       "4  https://pubmed.ncbi.nlm.nih.gov/10072410   \n",
       "\n",
       "                                                doi  \\\n",
       "0                https://doi.org/10.1007/bf03012457   \n",
       "1       https://doi.org/10.1056/nejm199903043400903   \n",
       "2        https://doi.org/10.1037/0021-843x.108.1.90   \n",
       "3  https://doi.org/10.1097/00000539-199903000-00020   \n",
       "4       https://doi.org/10.1056/nejm199903113401003   \n",
       "\n",
       "                        openalex_id  label_included  \n",
       "0  https://openalex.org/W2082613933               0  \n",
       "1  https://openalex.org/W2312609348               0  \n",
       "2  https://openalex.org/W2022904832               0  \n",
       "3  https://openalex.org/W2021097359               0  \n",
       "4  https://openalex.org/W4239283954               0  "
      ]
     },
     "execution_count": 8,
     "metadata": {},
     "output_type": "execute_result"
    }
   ],
   "source": [
    "raw_dataframes['adhd']['dataframe'].head()"
   ]
  },
  {
   "cell_type": "markdown",
   "metadata": {},
   "source": [
    "### Mapping\n",
    "\n",
    "Define a function that transforms the dataframes to the uniform format\n",
    "\n",
    "| include \t| title \t| abstract \t| doi \t| literatureid \t| openalex_id \t|\n",
    "|---------\t|-------\t|----------\t|-----\t|------\t|-------------\t|\n",
    "| bool    \t| str   \t| str      \t| str \t| str  \t| str         \t|"
   ]
  },
  {
   "cell_type": "code",
   "execution_count": 9,
   "metadata": {},
   "outputs": [],
   "source": [
    "# column names and values differ between SYNERGY and non-SYNERGY datasets\n",
    "def uniformize(dataframe: pd.DataFrame, synergy: bool) -> pd.DataFrame:\n",
    "\n",
    "    # the datasets differ in column names for labels, doi, and identifiers\n",
    "    label_column = 'label_included' if synergy else 'State'\n",
    "    doi = 'doi' if synergy else 'Doi'\n",
    "    id_column = 'pmid' if synergy else 'LiteratureId'\n",
    "\n",
    "    # uniformize the include label\n",
    "    exclude_label = 0 if synergy else 3\n",
    "    mapping = lambda x: False if x == exclude_label else True\n",
    "    \n",
    "    # identifiers have different formats for web of science (WOS:), cochrane central (CN-), pubmed () and hand-signed (HS-)\n",
    "    id_formats = r'(WOS:|CN-|HS-)*([A-Z]|\\d)+$'\n",
    "    # extract the identifier from the original column\n",
    "    literature_ids = [re.search(id_formats, id).group()\n",
    "                      if id is not np.nan else pd.NA for id in dataframe[id_column]]\n",
    "\n",
    "    return pd.DataFrame(\n",
    "        data={\n",
    "            'include': dataframe[label_column].map(mapping),\n",
    "            'title': pd.NA if synergy else dataframe['Title'],\n",
    "            'abstract': pd.NA if synergy else dataframe['Abstract'],\n",
    "            'doi': dataframe[doi],\n",
    "            'literature_id': literature_ids,\n",
    "        }\n",
    "    )"
   ]
  },
  {
   "cell_type": "markdown",
   "metadata": {},
   "source": [
    "Create one dictionary that contains all uniformized dataframes:"
   ]
  },
  {
   "cell_type": "code",
   "execution_count": 10,
   "metadata": {},
   "outputs": [],
   "source": [
    "uniform_datasets = {key: uniformize(\n",
    "    value['dataframe'], value['synergy']) for key, value in raw_dataframes.items()}"
   ]
  },
  {
   "cell_type": "markdown",
   "metadata": {},
   "source": [
    "Demonstrate some sample rows from the dataframes"
   ]
  },
  {
   "cell_type": "code",
   "execution_count": 11,
   "metadata": {},
   "outputs": [
    {
     "data": {
      "text/html": [
       "<div>\n",
       "<style scoped>\n",
       "    .dataframe tbody tr th:only-of-type {\n",
       "        vertical-align: middle;\n",
       "    }\n",
       "\n",
       "    .dataframe tbody tr th {\n",
       "        vertical-align: top;\n",
       "    }\n",
       "\n",
       "    .dataframe thead th {\n",
       "        text-align: right;\n",
       "    }\n",
       "</style>\n",
       "<table border=\"1\" class=\"dataframe\">\n",
       "  <thead>\n",
       "    <tr style=\"text-align: right;\">\n",
       "      <th></th>\n",
       "      <th>include</th>\n",
       "      <th>title</th>\n",
       "      <th>abstract</th>\n",
       "      <th>doi</th>\n",
       "      <th>literature_id</th>\n",
       "    </tr>\n",
       "  </thead>\n",
       "  <tbody>\n",
       "    <tr>\n",
       "      <th>7613</th>\n",
       "      <td>False</td>\n",
       "      <td>[Pancreas and islet transplantation. The role ...</td>\n",
       "      <td>Diabetes mellitus is a chronic disease often l...</td>\n",
       "      <td>10.1007/s00104-008-1633-4</td>\n",
       "      <td>19224184</td>\n",
       "    </tr>\n",
       "    <tr>\n",
       "      <th>6819</th>\n",
       "      <td>False</td>\n",
       "      <td>Intervention in necrotizing pancreatitis: an e...</td>\n",
       "      <td>Interventional therapy in necrotizing pancreat...</td>\n",
       "      <td>10.1007/s11605-007-0445-z</td>\n",
       "      <td>18172609</td>\n",
       "    </tr>\n",
       "    <tr>\n",
       "      <th>20298</th>\n",
       "      <td>False</td>\n",
       "      <td>Safety and efficacy of TRIANGLE operation appl...</td>\n",
       "      <td>BACKGROUND: Pancreatic surgery is regarded as ...</td>\n",
       "      <td>10.1136/bmjopen-2021-059977</td>\n",
       "      <td>36691122</td>\n",
       "    </tr>\n",
       "    <tr>\n",
       "      <th>29129</th>\n",
       "      <td>False</td>\n",
       "      <td>False-Negative Rate of Endoscopic Ultrasound-G...</td>\n",
       "      <td>BACKGROUND The diagnosis of pancreatic tumors ...</td>\n",
       "      <td>10.1002/cncy.21299</td>\n",
       "      <td>WOS:000323036800008</td>\n",
       "    </tr>\n",
       "    <tr>\n",
       "      <th>8786</th>\n",
       "      <td>False</td>\n",
       "      <td>Metastatic tumors in the pancreas in the moder...</td>\n",
       "      <td>BACKGROUND: Tumors metastasizing to the pancre...</td>\n",
       "      <td>10.1016/j.jamcollsurg.2010.08.017</td>\n",
       "      <td>21109158</td>\n",
       "    </tr>\n",
       "  </tbody>\n",
       "</table>\n",
       "</div>"
      ],
      "text/plain": [
       "       include                                              title  \\\n",
       "7613     False  [Pancreas and islet transplantation. The role ...   \n",
       "6819     False  Intervention in necrotizing pancreatitis: an e...   \n",
       "20298    False  Safety and efficacy of TRIANGLE operation appl...   \n",
       "29129    False  False-Negative Rate of Endoscopic Ultrasound-G...   \n",
       "8786     False  Metastatic tumors in the pancreas in the moder...   \n",
       "\n",
       "                                                abstract  \\\n",
       "7613   Diabetes mellitus is a chronic disease often l...   \n",
       "6819   Interventional therapy in necrotizing pancreat...   \n",
       "20298  BACKGROUND: Pancreatic surgery is regarded as ...   \n",
       "29129  BACKGROUND The diagnosis of pancreatic tumors ...   \n",
       "8786   BACKGROUND: Tumors metastasizing to the pancre...   \n",
       "\n",
       "                                     doi        literature_id  \n",
       "7613           10.1007/s00104-008-1633-4             19224184  \n",
       "6819           10.1007/s11605-007-0445-z             18172609  \n",
       "20298        10.1136/bmjopen-2021-059977             36691122  \n",
       "29129                 10.1002/cncy.21299  WOS:000323036800008  \n",
       "8786   10.1016/j.jamcollsurg.2010.08.017             21109158  "
      ]
     },
     "execution_count": 11,
     "metadata": {},
     "output_type": "execute_result"
    }
   ],
   "source": [
    "uniform_datasets['pancreatic_surgery'].sample(5)"
   ]
  },
  {
   "cell_type": "code",
   "execution_count": 12,
   "metadata": {},
   "outputs": [
    {
     "data": {
      "text/html": [
       "<div>\n",
       "<style scoped>\n",
       "    .dataframe tbody tr th:only-of-type {\n",
       "        vertical-align: middle;\n",
       "    }\n",
       "\n",
       "    .dataframe tbody tr th {\n",
       "        vertical-align: top;\n",
       "    }\n",
       "\n",
       "    .dataframe thead th {\n",
       "        text-align: right;\n",
       "    }\n",
       "</style>\n",
       "<table border=\"1\" class=\"dataframe\">\n",
       "  <thead>\n",
       "    <tr style=\"text-align: right;\">\n",
       "      <th></th>\n",
       "      <th>include</th>\n",
       "      <th>title</th>\n",
       "      <th>abstract</th>\n",
       "      <th>doi</th>\n",
       "      <th>literature_id</th>\n",
       "    </tr>\n",
       "  </thead>\n",
       "  <tbody>\n",
       "    <tr>\n",
       "      <th>789</th>\n",
       "      <td>False</td>\n",
       "      <td>&lt;NA&gt;</td>\n",
       "      <td>&lt;NA&gt;</td>\n",
       "      <td>NaN</td>\n",
       "      <td>&lt;NA&gt;</td>\n",
       "    </tr>\n",
       "    <tr>\n",
       "      <th>1471</th>\n",
       "      <td>False</td>\n",
       "      <td>&lt;NA&gt;</td>\n",
       "      <td>&lt;NA&gt;</td>\n",
       "      <td>https://doi.org/10.1136/jnnp.2006.104570</td>\n",
       "      <td>17522102</td>\n",
       "    </tr>\n",
       "    <tr>\n",
       "      <th>700</th>\n",
       "      <td>False</td>\n",
       "      <td>&lt;NA&gt;</td>\n",
       "      <td>&lt;NA&gt;</td>\n",
       "      <td>https://doi.org/10.1016/s0924-977x(10)70051-1</td>\n",
       "      <td>&lt;NA&gt;</td>\n",
       "    </tr>\n",
       "    <tr>\n",
       "      <th>956</th>\n",
       "      <td>False</td>\n",
       "      <td>&lt;NA&gt;</td>\n",
       "      <td>&lt;NA&gt;</td>\n",
       "      <td>https://doi.org/10.1085/jgp.37.3.335</td>\n",
       "      <td>13118104</td>\n",
       "    </tr>\n",
       "    <tr>\n",
       "      <th>1223</th>\n",
       "      <td>False</td>\n",
       "      <td>&lt;NA&gt;</td>\n",
       "      <td>&lt;NA&gt;</td>\n",
       "      <td>https://doi.org/10.1530/acta.0.0770636</td>\n",
       "      <td>4479701</td>\n",
       "    </tr>\n",
       "  </tbody>\n",
       "</table>\n",
       "</div>"
      ],
      "text/plain": [
       "      include title abstract                                            doi  \\\n",
       "789     False  <NA>     <NA>                                            NaN   \n",
       "1471    False  <NA>     <NA>       https://doi.org/10.1136/jnnp.2006.104570   \n",
       "700     False  <NA>     <NA>  https://doi.org/10.1016/s0924-977x(10)70051-1   \n",
       "956     False  <NA>     <NA>           https://doi.org/10.1085/jgp.37.3.335   \n",
       "1223    False  <NA>     <NA>         https://doi.org/10.1530/acta.0.0770636   \n",
       "\n",
       "     literature_id  \n",
       "789           <NA>  \n",
       "1471      17522102  \n",
       "700           <NA>  \n",
       "956       13118104  \n",
       "1223       4479701  "
      ]
     },
     "execution_count": 12,
     "metadata": {},
     "output_type": "execute_result"
    }
   ],
   "source": [
    "uniform_datasets['animal_depression'].sample(5)"
   ]
  },
  {
   "cell_type": "code",
   "execution_count": 13,
   "metadata": {},
   "outputs": [
    {
     "data": {
      "text/html": [
       "<div>\n",
       "<style scoped>\n",
       "    .dataframe tbody tr th:only-of-type {\n",
       "        vertical-align: middle;\n",
       "    }\n",
       "\n",
       "    .dataframe tbody tr th {\n",
       "        vertical-align: top;\n",
       "    }\n",
       "\n",
       "    .dataframe thead th {\n",
       "        text-align: right;\n",
       "    }\n",
       "</style>\n",
       "<table border=\"1\" class=\"dataframe\">\n",
       "  <thead>\n",
       "    <tr style=\"text-align: right;\">\n",
       "      <th></th>\n",
       "      <th>include</th>\n",
       "      <th>title</th>\n",
       "      <th>abstract</th>\n",
       "      <th>doi</th>\n",
       "      <th>literature_id</th>\n",
       "    </tr>\n",
       "  </thead>\n",
       "  <tbody>\n",
       "    <tr>\n",
       "      <th>250</th>\n",
       "      <td>False</td>\n",
       "      <td>&lt;NA&gt;</td>\n",
       "      <td>&lt;NA&gt;</td>\n",
       "      <td>https://doi.org/10.1001/archpsyc.58.12.1172</td>\n",
       "      <td>11735847</td>\n",
       "    </tr>\n",
       "    <tr>\n",
       "      <th>448</th>\n",
       "      <td>False</td>\n",
       "      <td>&lt;NA&gt;</td>\n",
       "      <td>&lt;NA&gt;</td>\n",
       "      <td>https://doi.org/10.1007/bf03040274</td>\n",
       "      <td>12658913</td>\n",
       "    </tr>\n",
       "    <tr>\n",
       "      <th>777</th>\n",
       "      <td>False</td>\n",
       "      <td>&lt;NA&gt;</td>\n",
       "      <td>&lt;NA&gt;</td>\n",
       "      <td>NaN</td>\n",
       "      <td>9564199</td>\n",
       "    </tr>\n",
       "    <tr>\n",
       "      <th>125</th>\n",
       "      <td>False</td>\n",
       "      <td>&lt;NA&gt;</td>\n",
       "      <td>&lt;NA&gt;</td>\n",
       "      <td>https://doi.org/10.1097/00004714-200008000-00013</td>\n",
       "      <td>10917410</td>\n",
       "    </tr>\n",
       "    <tr>\n",
       "      <th>378</th>\n",
       "      <td>False</td>\n",
       "      <td>&lt;NA&gt;</td>\n",
       "      <td>&lt;NA&gt;</td>\n",
       "      <td>https://doi.org/10.1097/00002826-200209000-00007</td>\n",
       "      <td>12410058</td>\n",
       "    </tr>\n",
       "  </tbody>\n",
       "</table>\n",
       "</div>"
      ],
      "text/plain": [
       "     include title abstract                                               doi  \\\n",
       "250    False  <NA>     <NA>       https://doi.org/10.1001/archpsyc.58.12.1172   \n",
       "448    False  <NA>     <NA>                https://doi.org/10.1007/bf03040274   \n",
       "777    False  <NA>     <NA>                                               NaN   \n",
       "125    False  <NA>     <NA>  https://doi.org/10.1097/00004714-200008000-00013   \n",
       "378    False  <NA>     <NA>  https://doi.org/10.1097/00002826-200209000-00007   \n",
       "\n",
       "    literature_id  \n",
       "250      11735847  \n",
       "448      12658913  \n",
       "777       9564199  \n",
       "125      10917410  \n",
       "378      12410058  "
      ]
     },
     "execution_count": 13,
     "metadata": {},
     "output_type": "execute_result"
    }
   ],
   "source": [
    "uniform_datasets['adhd'].sample(5)"
   ]
  },
  {
   "cell_type": "markdown",
   "metadata": {},
   "source": [
    "### Export"
   ]
  },
  {
   "cell_type": "code",
   "execution_count": 14,
   "metadata": {},
   "outputs": [],
   "source": [
    "data_directory_uniform = '../../../data/02_uniform'\n",
    "\n",
    "[dataframe.to_csv(f'{data_directory_uniform}/{subject}_uniform.csv', index=False)\n",
    " for subject, dataframe in uniform_datasets.items()];"
   ]
  }
 ],
 "metadata": {
  "kernelspec": {
   "display_name": "automated_screening",
   "language": "python",
   "name": "python3"
  },
  "language_info": {
   "codemirror_mode": {
    "name": "ipython",
    "version": 3
   },
   "file_extension": ".py",
   "mimetype": "text/x-python",
   "name": "python",
   "nbconvert_exporter": "python",
   "pygments_lexer": "ipython3",
   "version": "3.12.3"
  }
 },
 "nbformat": 4,
 "nbformat_minor": 2
}
