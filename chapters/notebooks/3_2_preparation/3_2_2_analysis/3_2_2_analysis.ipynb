{
 "cells": [
  {
   "cell_type": "markdown",
   "metadata": {},
   "source": [
    "# Libraries"
   ]
  },
  {
   "cell_type": "code",
   "execution_count": 1,
   "metadata": {},
   "outputs": [],
   "source": [
    "from src import data # dataset functions\n",
    "import pandas as pd # dataframes\n",
    "import numpy as np # linear algebra\n",
    "from bs4 import BeautifulSoup # html parser\n",
    "import re # regular expressions\n",
    "from nltk.tokenize import word_tokenize # tokenizing\n",
    "from ydata_profiling import ProfileReport # data reports\n",
    "import os # file operations\n",
    "\n",
    "\n",
    "# visualization\n",
    "import matplotlib.pyplot as plt # plotting\n",
    "import seaborn as sns # high level api for matplotlib\n",
    "import seaborn.objects as so # grammar of graphics"
   ]
  },
  {
   "cell_type": "code",
   "execution_count": 2,
   "metadata": {},
   "outputs": [],
   "source": [
    "# plot settings\n",
    "%matplotlib inline\n",
    "%config InlineBackend.figure_format = 'svg'"
   ]
  },
  {
   "cell_type": "markdown",
   "metadata": {},
   "source": [
    "# Datasets"
   ]
  },
  {
   "cell_type": "code",
   "execution_count": 3,
   "metadata": {},
   "outputs": [],
   "source": [
    "data_directory = '../../../../data/04_pubmed'\n",
    "datasets = data.dict_from_directory(data_directory)"
   ]
  },
  {
   "cell_type": "markdown",
   "metadata": {},
   "source": [
    "# Y-Data Profiling"
   ]
  },
  {
   "cell_type": "code",
   "execution_count": 4,
   "metadata": {},
   "outputs": [
    {
     "data": {
      "text/plain": [
       "[]"
      ]
     },
     "execution_count": 4,
     "metadata": {},
     "output_type": "execute_result"
    }
   ],
   "source": [
    "export_path = '../../../html/3_2_2_analysis'\n",
    "\n",
    "[ProfileReport(dataset).to_file(f'{export_path}/{subject}.html')\n",
    " for subject, dataset in datasets.items()\n",
    " if not os.path.isfile(f'{export_path}/{subject}.html')]"
   ]
  },
  {
   "cell_type": "markdown",
   "metadata": {},
   "source": [
    "# General Characteristics"
   ]
  },
  {
   "cell_type": "markdown",
   "metadata": {},
   "source": [
    "Save one DataFrame to a variable to inspect its structure"
   ]
  },
  {
   "cell_type": "code",
   "execution_count": 5,
   "metadata": {},
   "outputs": [
    {
     "name": "stdout",
     "output_type": "stream",
     "text": [
      "accessing the first dataset: adhd\n"
     ]
    }
   ],
   "source": [
    "# subject & data of the first dataset\n",
    "subject, dataframe = next(iter(datasets.items()))\n",
    "print(f'accessing the first dataset: {subject}')"
   ]
  },
  {
   "cell_type": "markdown",
   "metadata": {},
   "source": [
    "Print the first few lines"
   ]
  },
  {
   "cell_type": "code",
   "execution_count": 6,
   "metadata": {},
   "outputs": [
    {
     "data": {
      "text/html": [
       "<div>\n",
       "<style scoped>\n",
       "    .dataframe tbody tr th:only-of-type {\n",
       "        vertical-align: middle;\n",
       "    }\n",
       "\n",
       "    .dataframe tbody tr th {\n",
       "        vertical-align: top;\n",
       "    }\n",
       "\n",
       "    .dataframe thead th {\n",
       "        text-align: right;\n",
       "    }\n",
       "</style>\n",
       "<table border=\"1\" class=\"dataframe\">\n",
       "  <thead>\n",
       "    <tr style=\"text-align: right;\">\n",
       "      <th></th>\n",
       "      <th>include</th>\n",
       "      <th>title</th>\n",
       "      <th>abstract</th>\n",
       "      <th>doi</th>\n",
       "      <th>literature_id</th>\n",
       "      <th>openalex_id</th>\n",
       "    </tr>\n",
       "  </thead>\n",
       "  <tbody>\n",
       "    <tr>\n",
       "      <th>0</th>\n",
       "      <td>False</td>\n",
       "      <td>The effectiveness of clonidine as an analgesic...</td>\n",
       "      <td>To compare the analgesic effects of preoperati...</td>\n",
       "      <td>https://doi.org/10.1007/bf03012457</td>\n",
       "      <td>10051933</td>\n",
       "      <td>https://openalex.org/W2082613933</td>\n",
       "    </tr>\n",
       "    <tr>\n",
       "      <th>1</th>\n",
       "      <td>False</td>\n",
       "      <td>A Controlled Trial of Sustained-Release Buprop...</td>\n",
       "      <td>Use of nicotine-replacement therapies and the ...</td>\n",
       "      <td>https://doi.org/10.1056/nejm199903043400903</td>\n",
       "      <td>10053177</td>\n",
       "      <td>https://openalex.org/W2312609348</td>\n",
       "    </tr>\n",
       "    <tr>\n",
       "      <th>2</th>\n",
       "      <td>False</td>\n",
       "      <td>Effects of methylphenidate on complex cognitiv...</td>\n",
       "      <td>Three experiments were conducted to explore th...</td>\n",
       "      <td>https://doi.org/10.1037/0021-843x.108.1.90</td>\n",
       "      <td>10066996</td>\n",
       "      <td>https://openalex.org/W2022904832</td>\n",
       "    </tr>\n",
       "    <tr>\n",
       "      <th>3</th>\n",
       "      <td>False</td>\n",
       "      <td>Spinal Clonidine Prolongs Labor Analgesia from...</td>\n",
       "      <td>We sought to determine whether spinal clonidin...</td>\n",
       "      <td>https://doi.org/10.1097/00000539-199903000-00020</td>\n",
       "      <td>10072008</td>\n",
       "      <td>https://openalex.org/W2021097359</td>\n",
       "    </tr>\n",
       "    <tr>\n",
       "      <th>4</th>\n",
       "      <td>False</td>\n",
       "      <td>Low-Dose Clozapine for the Treatment of Drug-I...</td>\n",
       "      <td>Drug-induced psychosis is a difficult problem ...</td>\n",
       "      <td>https://doi.org/10.1056/nejm199903113401003</td>\n",
       "      <td>10072410</td>\n",
       "      <td>https://openalex.org/W4239283954</td>\n",
       "    </tr>\n",
       "  </tbody>\n",
       "</table>\n",
       "</div>"
      ],
      "text/plain": [
       "   include                                              title  \\\n",
       "0    False  The effectiveness of clonidine as an analgesic...   \n",
       "1    False  A Controlled Trial of Sustained-Release Buprop...   \n",
       "2    False  Effects of methylphenidate on complex cognitiv...   \n",
       "3    False  Spinal Clonidine Prolongs Labor Analgesia from...   \n",
       "4    False  Low-Dose Clozapine for the Treatment of Drug-I...   \n",
       "\n",
       "                                            abstract  \\\n",
       "0  To compare the analgesic effects of preoperati...   \n",
       "1  Use of nicotine-replacement therapies and the ...   \n",
       "2  Three experiments were conducted to explore th...   \n",
       "3  We sought to determine whether spinal clonidin...   \n",
       "4  Drug-induced psychosis is a difficult problem ...   \n",
       "\n",
       "                                                doi  literature_id  \\\n",
       "0                https://doi.org/10.1007/bf03012457       10051933   \n",
       "1       https://doi.org/10.1056/nejm199903043400903       10053177   \n",
       "2        https://doi.org/10.1037/0021-843x.108.1.90       10066996   \n",
       "3  https://doi.org/10.1097/00000539-199903000-00020       10072008   \n",
       "4       https://doi.org/10.1056/nejm199903113401003       10072410   \n",
       "\n",
       "                        openalex_id  \n",
       "0  https://openalex.org/W2082613933  \n",
       "1  https://openalex.org/W2312609348  \n",
       "2  https://openalex.org/W2022904832  \n",
       "3  https://openalex.org/W2021097359  \n",
       "4  https://openalex.org/W4239283954  "
      ]
     },
     "execution_count": 6,
     "metadata": {},
     "output_type": "execute_result"
    }
   ],
   "source": [
    "dataframe.head()"
   ]
  },
  {
   "cell_type": "markdown",
   "metadata": {},
   "source": [
    "Index, dtypes, columns, non-null values and memory usage "
   ]
  },
  {
   "cell_type": "code",
   "execution_count": 7,
   "metadata": {},
   "outputs": [
    {
     "name": "stdout",
     "output_type": "stream",
     "text": [
      "<class 'pandas.core.frame.DataFrame'>\n",
      "RangeIndex: 851 entries, 0 to 850\n",
      "Data columns (total 6 columns):\n",
      " #   Column         Non-Null Count  Dtype  \n",
      "---  ------         --------------  -----  \n",
      " 0   include        851 non-null    boolean\n",
      " 1   title          851 non-null    string \n",
      " 2   abstract       830 non-null    string \n",
      " 3   doi            780 non-null    string \n",
      " 4   literature_id  851 non-null    Int64  \n",
      " 5   openalex_id    843 non-null    string \n",
      "dtypes: Int64(1), boolean(1), string(4)\n",
      "memory usage: 2.0 MB\n"
     ]
    }
   ],
   "source": [
    "# calculate the memory usage insted of estimating it\n",
    "dataframe.info(memory_usage='deep')"
   ]
  },
  {
   "cell_type": "markdown",
   "metadata": {},
   "source": [
    "- Records contain the label (include), title and abstract and multiple identifiers\n",
    "- The label is a boolean, the other columns are strings or numbers\n",
    "- The dataframe takes 2 MB of memory"
   ]
  },
  {
   "cell_type": "markdown",
   "metadata": {},
   "source": [
    "# Sample Inspection"
   ]
  },
  {
   "cell_type": "code",
   "execution_count": 8,
   "metadata": {},
   "outputs": [],
   "source": [
    "pd.options.display.max_colwidth = 150"
   ]
  },
  {
   "cell_type": "markdown",
   "metadata": {},
   "source": [
    "## Languages\n",
    "There are abstracts in German and Japanese. As the models will not be able to handle multiple languages, we need to handle languages other than English.\n",
    "As non-English entries are relatively rare, we can safely drop these few rows."
   ]
  },
  {
   "cell_type": "code",
   "execution_count": 9,
   "metadata": {},
   "outputs": [
    {
     "name": "stdout",
     "output_type": "stream",
     "text": [
      "                                                                                                                                                  abstract\n",
      "200  Zusammenfassung Hintergrund Die chronische Pankreatitis (CP) ist eine haufige Ursache fur stationare Einweisungen in die Gastroenterologie und ist...\n",
      "99   シグマ受容体拮抗物質に関する最近の研究成果を精神分裂病治療薬との関連でまとめた．選択的シグマ1受容体拮抗物質であるNE-100はphencyclidine(PCP)誘発異常行動改善作用および認知障害改善作用を有するが，ドパミンアゴニスト誘発行動には影響を及ぼさず，カタレプシー惹起性も認められ...\n"
     ]
    }
   ],
   "source": [
    "print(pd.concat([\n",
    "    datasets['pancreatic_surgery'][['abstract']].iloc[200],\n",
    "    datasets['atypical_antipsychotics'][['abstract']].iloc[99]\n",
    "], axis=1).transpose())"
   ]
  },
  {
   "cell_type": "markdown",
   "metadata": {},
   "source": [
    "## Noise\n",
    "The following examples demonstrate kinds of noise that make complicate classification for the models."
   ]
  },
  {
   "cell_type": "markdown",
   "metadata": {},
   "source": [
    "### HTML Tags\n"
   ]
  },
  {
   "cell_type": "code",
   "execution_count": 10,
   "metadata": {},
   "outputs": [
    {
     "data": {
      "text/html": [
       "<div>\n",
       "<style scoped>\n",
       "    .dataframe tbody tr th:only-of-type {\n",
       "        vertical-align: middle;\n",
       "    }\n",
       "\n",
       "    .dataframe tbody tr th {\n",
       "        vertical-align: top;\n",
       "    }\n",
       "\n",
       "    .dataframe thead th {\n",
       "        text-align: right;\n",
       "    }\n",
       "</style>\n",
       "<table border=\"1\" class=\"dataframe\">\n",
       "  <thead>\n",
       "    <tr style=\"text-align: right;\">\n",
       "      <th></th>\n",
       "      <th>abstract</th>\n",
       "    </tr>\n",
       "  </thead>\n",
       "  <tbody>\n",
       "    <tr>\n",
       "      <th>24</th>\n",
       "      <td>&lt;h3&gt;Objective:&lt;/h3&gt; To report an atypical presentation of Lance-Adams Syndrome presenting from severe respiratory depression rather than cardiac a...</td>\n",
       "    </tr>\n",
       "    <tr>\n",
       "      <th>456</th>\n",
       "      <td>&lt;b&gt;&lt;i&gt;Objective:&lt;/i&gt;&lt;/b&gt; To evaluate the efficacy and safety of risperidone in children and adults with Tourette syndrome. &lt;b&gt;&lt;i&gt;Methods:&lt;/i&gt;&lt;/b&gt; ...</td>\n",
       "    </tr>\n",
       "    <tr>\n",
       "      <th>565</th>\n",
       "      <td>&lt;h3&gt;Objective:&lt;/h3&gt; To compare the intraocular pressure (IOP) lowering efficacy of 0.5% and 1.0% apraclonidine hydrochloride when used adjunctivel...</td>\n",
       "    </tr>\n",
       "  </tbody>\n",
       "</table>\n",
       "</div>"
      ],
      "text/plain": [
       "                                                                                                                                                  abstract\n",
       "24   <h3>Objective:</h3> To report an atypical presentation of Lance-Adams Syndrome presenting from severe respiratory depression rather than cardiac a...\n",
       "456  <b><i>Objective:</i></b> To evaluate the efficacy and safety of risperidone in children and adults with Tourette syndrome. <b><i>Methods:</i></b> ...\n",
       "565  <h3>Objective:</h3> To compare the intraocular pressure (IOP) lowering efficacy of 0.5% and 1.0% apraclonidine hydrochloride when used adjunctivel..."
      ]
     },
     "execution_count": 10,
     "metadata": {},
     "output_type": "execute_result"
    }
   ],
   "source": [
    "pd.concat([\n",
    "    datasets['calcium_channel_blockers'][['abstract']].iloc[[24]],\n",
    "    datasets['adhd'][['abstract']].iloc[[456, 565]]\n",
    "])"
   ]
  },
  {
   "cell_type": "markdown",
   "metadata": {},
   "source": [
    "We can get rid of HTML using the Beautiful Soup library, e.g. the article with index 456 from above:"
   ]
  },
  {
   "cell_type": "code",
   "execution_count": 11,
   "metadata": {},
   "outputs": [
    {
     "data": {
      "text/plain": [
       "'Objective: To evaluate the efficacy and safety of risperidone in children and adults with Tourette syndrome. Methods: This was an 8-week, randomized, double-blind, placebo-controlled trial. The primary outcome measure was the Total Tic score of the Yale Global Tic Severity Scale (YGTSS). Results: Thirty-four medication-free subjects (26 children and 8 adults) ranging in age from 6 to 62 years (mean = 19.7 ± 17.0 years) participated. YGTSS Total Tic scores were similar at baseline (26.0 ± 5.1 for risperidone vs 27.4 ± 8.5 for placebo). After 8 weeks of treatment (mean daily dose of 2.5 ± 0.85), the 16 subjects on risperidone showed a 32% reduction in tic severity from baseline, compared to a 7% reduction for placebo patients (n = 18) (F[2,64] = 6.07; p = 0.004). The 12 children randomized to risperidone showed a 36% reduction in tic symptoms compared to an 11% decrease in the 14 children on placebo (F[2,48] = 6.38; p = 0.004). Two children on risperidone showed acute social phobia, which resolved with dose reduction in one subject but resulted in medication discontinuation in the other. A mean increase in body weight of 2.8 kg was observed in the risperidone group compared to no change in placebo (F[2,64] = 10.68; p = 0.0001). No extrapyramidal symptoms and no clinically significant alterations in cardiac conduction times or laboratory measures were observed. Conclusion: Risperidone appears to be safe and effective for short-term treatment of tics in children or adults with Tourette syndrome. Longer-term studies are needed to evaluate the durability of efficacy and safety over time.'"
      ]
     },
     "execution_count": 11,
     "metadata": {},
     "output_type": "execute_result"
    }
   ],
   "source": [
    "BeautifulSoup(datasets['adhd'].iloc[456]['abstract'], 'lxml').get_text()"
   ]
  },
  {
   "cell_type": "markdown",
   "metadata": {},
   "source": [
    "### Markdown Headings"
   ]
  },
  {
   "cell_type": "code",
   "execution_count": 12,
   "metadata": {},
   "outputs": [
    {
     "data": {
      "text/html": [
       "<div>\n",
       "<style scoped>\n",
       "    .dataframe tbody tr th:only-of-type {\n",
       "        vertical-align: middle;\n",
       "    }\n",
       "\n",
       "    .dataframe tbody tr th {\n",
       "        vertical-align: top;\n",
       "    }\n",
       "\n",
       "    .dataframe thead th {\n",
       "        text-align: right;\n",
       "    }\n",
       "</style>\n",
       "<table border=\"1\" class=\"dataframe\">\n",
       "  <thead>\n",
       "    <tr style=\"text-align: right;\">\n",
       "      <th></th>\n",
       "      <th>abstract</th>\n",
       "    </tr>\n",
       "  </thead>\n",
       "  <tbody>\n",
       "    <tr>\n",
       "      <th>44</th>\n",
       "      <td>### Table of contents\r\n",
       "\r\n",
       "It is important that the medical profession play a significant role in critically evaluating the use of diagnostic proced...</td>\n",
       "    </tr>\n",
       "  </tbody>\n",
       "</table>\n",
       "</div>"
      ],
      "text/plain": [
       "                                                                                                                                                 abstract\n",
       "44  ### Table of contents\n",
       "\n",
       "It is important that the medical profession play a significant role in critically evaluating the use of diagnostic proced..."
      ]
     },
     "execution_count": 12,
     "metadata": {},
     "output_type": "execute_result"
    }
   ],
   "source": [
    "datasets['calcium_channel_blockers'].iloc[[44]][['abstract']]"
   ]
  },
  {
   "cell_type": "markdown",
   "metadata": {},
   "source": [
    "Markdown headings are defined by a number of subsequent '#'\n",
    "\n",
    "Regular expressions can filter any sequence from zero to unlimited characters:"
   ]
  },
  {
   "cell_type": "code",
   "execution_count": 13,
   "metadata": {},
   "outputs": [
    {
     "data": {
      "text/plain": [
       "' Table of contents\\r\\n\\r\\nIt is important that the medical profession play a significant role in critically evaluating the use of diagnostic procedures and therapies in the management or prevention of disease states. Rigorous and expert analysis of the available data documenting relative benefits and'"
      ]
     },
     "execution_count": 13,
     "metadata": {},
     "output_type": "execute_result"
    }
   ],
   "source": [
    "no_headings = re.sub(r'(#)+', '', datasets['calcium_channel_blockers'].iloc[[44]]['abstract'].values[0])\n",
    "no_headings"
   ]
  },
  {
   "cell_type": "markdown",
   "metadata": {},
   "source": [
    "The transformation made a carriage return visible. This can also be riddened of by regular expressions:"
   ]
  },
  {
   "cell_type": "code",
   "execution_count": 14,
   "metadata": {},
   "outputs": [
    {
     "data": {
      "text/plain": [
       "' Table of contents It is important that the medical profession play a significant role in critically evaluating the use of diagnostic procedures and therapies in the management or prevention of disease states. Rigorous and expert analysis of the available data documenting relative benefits and'"
      ]
     },
     "execution_count": 14,
     "metadata": {},
     "output_type": "execute_result"
    }
   ],
   "source": [
    "re.sub(r'(\\r\\n\\r\\n)+', ' ', no_headings)"
   ]
  },
  {
   "cell_type": "code",
   "execution_count": 15,
   "metadata": {},
   "outputs": [
    {
     "data": {
      "text/plain": [
       "' Table of contents\\r\\n\\r\\nIt is important that the medical profession play a significant role in critically evaluating the use of diagnostic procedures and therapies in the management or prevention of disease states. Rigorous and expert analysis of the available data documenting relative benefits and'"
      ]
     },
     "execution_count": 15,
     "metadata": {},
     "output_type": "execute_result"
    }
   ],
   "source": [
    "re.sub(r'(\\\\r)+(\\\\n)+', ' ', no_headings)"
   ]
  },
  {
   "cell_type": "markdown",
   "metadata": {},
   "source": [
    "### Special Characters\n",
    "Other special characters are also possible"
   ]
  },
  {
   "cell_type": "code",
   "execution_count": 16,
   "metadata": {},
   "outputs": [
    {
     "data": {
      "text/plain": [
       "'✓ Adult Fisher 344 rats were subjected to a unilateral impact to the dorsal cortex above the hippocampus at 3.5 m/second, resulting in a 2-mm cortical depression. This caused severe cortical damage and neuronal loss in hippocampus subfields CA1, CA3, and hilus. Breakdown of the blood-brain barrier (BBB) was assessed by injecting the protein horseradish peroxidase (HRP) 5 minutes prior to or at various times after injury (5 minutes, 1, 3, 6, and 12 hours, 1, 2, 5, and 10 days). Animals were killed 1 hour after HRP injection and brain sections were reacted with diaminobenzidine to visualize extravascular accumulation of the protein. Maximum staining occurred in animals injected with HRP 5 minutes prior to or 5 minutes after cortical contusion. Staining at these time points was observed in the ipsilateral cortex of the impact area and areas adjacent to it, as well as in the ipsilateral hippocampus. Some modest staining occurred in the dorsal contralateral cortex near the superior sagittal sinus. Cortical HRP staining gradually decreased at increasing time intervals postinjury. By 10 days, no HRP staining was observed in any area of the brain. In the ipsilateral hippocampus, HRP staining was absent by 3 hours postinjury and remained so at the 6- and 12-hour time points. Surprisingly, HRP staining was again observed in the ipsilateral hippocampus 1 and 2 days after cortical contusion, indicating a biphasic opening of the BBB following head trauma and a possible second wave of secondary brain damage days after the contusion injury. These data indicate that regions not initially destroyed by cortical impact, but evidencing BBB breach, may be accessible to neurotrophic factors administered intravenously both immediately and days after brain trauma.'"
      ]
     },
     "execution_count": 16,
     "metadata": {},
     "output_type": "execute_result"
    }
   ],
   "source": [
    "datasets['animal_depression'].iloc[190]['abstract']"
   ]
  },
  {
   "cell_type": "markdown",
   "metadata": {},
   "source": [
    "Another approach of eliminating unwanted characters is to tokenize the text and filter by using a list of unwanted tokens:"
   ]
  },
  {
   "cell_type": "code",
   "execution_count": 17,
   "metadata": {},
   "outputs": [
    {
     "data": {
      "text/plain": [
       "['Adult', 'Fisher', '344', 'rats', 'were', 'subjected', '...']"
      ]
     },
     "execution_count": 17,
     "metadata": {},
     "output_type": "execute_result"
    }
   ],
   "source": [
    "tokenized = word_tokenize(datasets['animal_depression'].iloc[190]['abstract'])\n",
    "stopwords = ['✓']\n",
    "\n",
    "[word for word in tokenized if word.lower() not in stopwords][:6] + ['...']"
   ]
  },
  {
   "cell_type": "markdown",
   "metadata": {},
   "source": [
    "### Abbreviations\n",
    "You commonly find abbreviations in scientific texts."
   ]
  },
  {
   "cell_type": "code",
   "execution_count": 18,
   "metadata": {},
   "outputs": [
    {
     "data": {
      "text/html": [
       "<div>\n",
       "<style scoped>\n",
       "    .dataframe tbody tr th:only-of-type {\n",
       "        vertical-align: middle;\n",
       "    }\n",
       "\n",
       "    .dataframe tbody tr th {\n",
       "        vertical-align: top;\n",
       "    }\n",
       "\n",
       "    .dataframe thead th {\n",
       "        text-align: right;\n",
       "    }\n",
       "</style>\n",
       "<table border=\"1\" class=\"dataframe\">\n",
       "  <thead>\n",
       "    <tr style=\"text-align: right;\">\n",
       "      <th></th>\n",
       "      <th>abstract</th>\n",
       "    </tr>\n",
       "  </thead>\n",
       "  <tbody>\n",
       "    <tr>\n",
       "      <th>1</th>\n",
       "      <td>The importance of diagnostic endoscopic retrograde cholangiography (ERCP) has dramatically decreased owing to the development of less invasive tec...</td>\n",
       "    </tr>\n",
       "    <tr>\n",
       "      <th>6</th>\n",
       "      <td>INTRODUCTION: Pancreaticopleural fistula (PPF) is a rare but serious complication of pancreatic disorders. As the clinical presentations of PPF ar...</td>\n",
       "    </tr>\n",
       "    <tr>\n",
       "      <th>249</th>\n",
       "      <td>Intravenous radionuclide cholescintigraphy (IVRC) provides a very specific picture for choledochal cysts. However, the clinical significance of th...</td>\n",
       "    </tr>\n",
       "  </tbody>\n",
       "</table>\n",
       "</div>"
      ],
      "text/plain": [
       "                                                                                                                                                  abstract\n",
       "1    The importance of diagnostic endoscopic retrograde cholangiography (ERCP) has dramatically decreased owing to the development of less invasive tec...\n",
       "6    INTRODUCTION: Pancreaticopleural fistula (PPF) is a rare but serious complication of pancreatic disorders. As the clinical presentations of PPF ar...\n",
       "249  Intravenous radionuclide cholescintigraphy (IVRC) provides a very specific picture for choledochal cysts. However, the clinical significance of th..."
      ]
     },
     "execution_count": 18,
     "metadata": {},
     "output_type": "execute_result"
    }
   ],
   "source": [
    "datasets['pancreatic_surgery'].iloc[[1,6,249]][['abstract']]"
   ]
  },
  {
   "cell_type": "markdown",
   "metadata": {},
   "source": [
    "However, because their meaning may differ between articles, we remove them to make the text less ambiguous.\n",
    "\n",
    "Abbreviations usually follow the format of two or more uppercase letters, surrounded by parantheses.\n",
    "We can use this format convention to filter out abbreviations using regular expressions:"
   ]
  },
  {
   "cell_type": "code",
   "execution_count": 19,
   "metadata": {},
   "outputs": [
    {
     "data": {
      "text/plain": [
       "'The importance of diagnostic endoscopic retrograde cholangiography  has dramatically decreased owing to the development of less invasive techniques such as ultrasonography, computed tomography, endoscopic ultrasonography, and finally magnetic resonance cholangiopancreatography . MRCP is becoming the gold standard in the diagnostic work-up of the pancreaticobiliary duct. However, MRCP cannot solve all the problems that occur, and still has inadequate resolution for small stones and tiny pancreatic and bile duct lesions. ERCP continues to be useful in difficult cases and when the diagnosis is uncertain, particularly when fluid collection and tissue sampling are necessary. However, several alternatives to sphincter of Oddi manometry have been proposed. Finally, ERCP is always the first step before endoscopic treatment, which in contrast to diagnostic ERCP is still widely used.'"
      ]
     },
     "execution_count": 19,
     "metadata": {},
     "output_type": "execute_result"
    }
   ],
   "source": [
    "remove_abbreviations = r'(\\([A-Z]{2,}\\))'# at least two uppercase letters in parentheses\n",
    "sample = datasets['pancreatic_surgery'].iloc[[1]]['abstract'].values[0]\n",
    "\n",
    "re.sub(remove_abbreviations, '', sample)"
   ]
  },
  {
   "cell_type": "markdown",
   "metadata": {},
   "source": [
    "## Duplicates\n",
    "There appear many duplicates when searching for articles with the same title. There are however different cases that require individual handling:"
   ]
  },
  {
   "cell_type": "markdown",
   "metadata": {},
   "source": [
    "### Same article published twice\n",
    "The following example shows an identical article that was published twice. Because the two articles are identical, we can safely delete one of them."
   ]
  },
  {
   "cell_type": "code",
   "execution_count": 20,
   "metadata": {},
   "outputs": [
    {
     "data": {
      "text/html": [
       "<div>\n",
       "<style scoped>\n",
       "    .dataframe tbody tr th:only-of-type {\n",
       "        vertical-align: middle;\n",
       "    }\n",
       "\n",
       "    .dataframe tbody tr th {\n",
       "        vertical-align: top;\n",
       "    }\n",
       "\n",
       "    .dataframe thead th {\n",
       "        text-align: right;\n",
       "    }\n",
       "</style>\n",
       "<table border=\"1\" class=\"dataframe\">\n",
       "  <thead>\n",
       "    <tr style=\"text-align: right;\">\n",
       "      <th></th>\n",
       "      <th>include</th>\n",
       "      <th>title</th>\n",
       "      <th>abstract</th>\n",
       "      <th>doi</th>\n",
       "      <th>literature_id</th>\n",
       "      <th>openalex_id</th>\n",
       "    </tr>\n",
       "  </thead>\n",
       "  <tbody>\n",
       "    <tr>\n",
       "      <th>12250</th>\n",
       "      <td>False</td>\n",
       "      <td>β-cell failure in type 2 diabetes: postulated mechanisms and prospects for prevention and treatment.</td>\n",
       "      <td>OBJECTIVE: This article examines the foundation of β-cell failure in type 2 diabetes (T2D) and suggests areas for future research on the underlyin...</td>\n",
       "      <td>10.1210/jc.2014-1425</td>\n",
       "      <td>24712577</td>\n",
       "      <td>&lt;NA&gt;</td>\n",
       "    </tr>\n",
       "    <tr>\n",
       "      <th>12322</th>\n",
       "      <td>False</td>\n",
       "      <td>β-cell failure in type 2 diabetes: postulated mechanisms and prospects for prevention and treatment.</td>\n",
       "      <td>OBJECTIVE: This article examines the foundation of β-cell failure in type 2 diabetes (T2D) and suggests areas for future research on the underlyin...</td>\n",
       "      <td>10.2337/dc14-0396</td>\n",
       "      <td>24812433</td>\n",
       "      <td>&lt;NA&gt;</td>\n",
       "    </tr>\n",
       "  </tbody>\n",
       "</table>\n",
       "</div>"
      ],
      "text/plain": [
       "       include  \\\n",
       "12250    False   \n",
       "12322    False   \n",
       "\n",
       "                                                                                                      title  \\\n",
       "12250  β-cell failure in type 2 diabetes: postulated mechanisms and prospects for prevention and treatment.   \n",
       "12322  β-cell failure in type 2 diabetes: postulated mechanisms and prospects for prevention and treatment.   \n",
       "\n",
       "                                                                                                                                                    abstract  \\\n",
       "12250  OBJECTIVE: This article examines the foundation of β-cell failure in type 2 diabetes (T2D) and suggests areas for future research on the underlyin...   \n",
       "12322  OBJECTIVE: This article examines the foundation of β-cell failure in type 2 diabetes (T2D) and suggests areas for future research on the underlyin...   \n",
       "\n",
       "                        doi literature_id  openalex_id  \n",
       "12250  10.1210/jc.2014-1425      24712577         <NA>  \n",
       "12322     10.2337/dc14-0396      24812433         <NA>  "
      ]
     },
     "execution_count": 20,
     "metadata": {},
     "output_type": "execute_result"
    }
   ],
   "source": [
    "datasets['pancreatic_surgery'].iloc[[12250,12322]]"
   ]
  },
  {
   "cell_type": "markdown",
   "metadata": {},
   "source": [
    "### Same title but different articles\n",
    "Another case are articles that share a title but are clearly distinguishable through their content, doi and literature id. As those two articles differ in content, we try to keep both."
   ]
  },
  {
   "cell_type": "code",
   "execution_count": 21,
   "metadata": {},
   "outputs": [
    {
     "data": {
      "text/html": [
       "<div>\n",
       "<style scoped>\n",
       "    .dataframe tbody tr th:only-of-type {\n",
       "        vertical-align: middle;\n",
       "    }\n",
       "\n",
       "    .dataframe tbody tr th {\n",
       "        vertical-align: top;\n",
       "    }\n",
       "\n",
       "    .dataframe thead th {\n",
       "        text-align: right;\n",
       "    }\n",
       "</style>\n",
       "<table border=\"1\" class=\"dataframe\">\n",
       "  <thead>\n",
       "    <tr style=\"text-align: right;\">\n",
       "      <th></th>\n",
       "      <th>include</th>\n",
       "      <th>title</th>\n",
       "      <th>abstract</th>\n",
       "      <th>doi</th>\n",
       "      <th>literature_id</th>\n",
       "      <th>openalex_id</th>\n",
       "    </tr>\n",
       "  </thead>\n",
       "  <tbody>\n",
       "    <tr>\n",
       "      <th>178</th>\n",
       "      <td>False</td>\n",
       "      <td>Oral Antihyperglycemic Therapy for Type 2 Diabetes</td>\n",
       "      <td>Diabetes mellitus affects more than 6% of the US population, with the great majority having type 2 diabetes mellitus (DM). 1 In some older groups,...</td>\n",
       "      <td>https://doi.org/10.1001/jama.287.3.360</td>\n",
       "      <td>11790216</td>\n",
       "      <td>https://openalex.org/W2069150029</td>\n",
       "    </tr>\n",
       "    <tr>\n",
       "      <th>179</th>\n",
       "      <td>False</td>\n",
       "      <td>Oral Antihyperglycemic Therapy for Type 2 Diabetes</td>\n",
       "      <td>Oral agents are the mainstay of pharmacologic treatment for type 2 diabetes, and physicians now have a number of agents to choose from. However, m...</td>\n",
       "      <td>https://doi.org/10.1001/jama.287.3.373</td>\n",
       "      <td>11790217</td>\n",
       "      <td>https://openalex.org/W1988203022</td>\n",
       "    </tr>\n",
       "  </tbody>\n",
       "</table>\n",
       "</div>"
      ],
      "text/plain": [
       "     include                                               title  \\\n",
       "178    False  Oral Antihyperglycemic Therapy for Type 2 Diabetes   \n",
       "179    False  Oral Antihyperglycemic Therapy for Type 2 Diabetes   \n",
       "\n",
       "                                                                                                                                                  abstract  \\\n",
       "178  Diabetes mellitus affects more than 6% of the US population, with the great majority having type 2 diabetes mellitus (DM). 1 In some older groups,...   \n",
       "179  Oral agents are the mainstay of pharmacologic treatment for type 2 diabetes, and physicians now have a number of agents to choose from. However, m...   \n",
       "\n",
       "                                        doi  literature_id  \\\n",
       "178  https://doi.org/10.1001/jama.287.3.360       11790216   \n",
       "179  https://doi.org/10.1001/jama.287.3.373       11790217   \n",
       "\n",
       "                          openalex_id  \n",
       "178  https://openalex.org/W2069150029  \n",
       "179  https://openalex.org/W1988203022  "
      ]
     },
     "execution_count": 21,
     "metadata": {},
     "output_type": "execute_result"
    }
   ],
   "source": [
    "datasets['oral_hypoglycemics'].iloc[[178,179]]"
   ]
  },
  {
   "cell_type": "markdown",
   "metadata": {},
   "source": [
    "### Same title and abstract but different literature_id"
   ]
  },
  {
   "cell_type": "code",
   "execution_count": 22,
   "metadata": {},
   "outputs": [
    {
     "data": {
      "text/html": [
       "<div>\n",
       "<style scoped>\n",
       "    .dataframe tbody tr th:only-of-type {\n",
       "        vertical-align: middle;\n",
       "    }\n",
       "\n",
       "    .dataframe tbody tr th {\n",
       "        vertical-align: top;\n",
       "    }\n",
       "\n",
       "    .dataframe thead th {\n",
       "        text-align: right;\n",
       "    }\n",
       "</style>\n",
       "<table border=\"1\" class=\"dataframe\">\n",
       "  <thead>\n",
       "    <tr style=\"text-align: right;\">\n",
       "      <th></th>\n",
       "      <th>include</th>\n",
       "      <th>title</th>\n",
       "      <th>abstract</th>\n",
       "      <th>doi</th>\n",
       "      <th>literature_id</th>\n",
       "      <th>openalex_id</th>\n",
       "    </tr>\n",
       "  </thead>\n",
       "  <tbody>\n",
       "    <tr>\n",
       "      <th>1421</th>\n",
       "      <td>False</td>\n",
       "      <td>Serological differences between some isolates of bean yellow mosaic virus.</td>\n",
       "      <td>The degree of serological relatedness of three isolates of bean yellow mosaic virus (BYMV) was studied. One common antigenic group (m) was demonst...</td>\n",
       "      <td>&lt;NA&gt;</td>\n",
       "      <td>WOS:A1992HY79500019</td>\n",
       "      <td>&lt;NA&gt;</td>\n",
       "    </tr>\n",
       "    <tr>\n",
       "      <th>4664</th>\n",
       "      <td>False</td>\n",
       "      <td>Serological differences between some isolates of bean yellow mosaic virus.</td>\n",
       "      <td>The degree of serological relatedness of three isolates of bean yellow mosaic virus (BYMV) was studied. One common antigenic group (m) was demonst...</td>\n",
       "      <td>10.1016/S0016-5107(92)70486-6</td>\n",
       "      <td>WOS:A1992JJ19200021</td>\n",
       "      <td>&lt;NA&gt;</td>\n",
       "    </tr>\n",
       "    <tr>\n",
       "      <th>4666</th>\n",
       "      <td>False</td>\n",
       "      <td>Serological differences between some isolates of bean yellow mosaic virus.</td>\n",
       "      <td>The degree of serological relatedness of three isolates of bean yellow mosaic virus (BYMV) was studied. One common antigenic group (m) was demonst...</td>\n",
       "      <td>&lt;NA&gt;</td>\n",
       "      <td>WOS:A1992JJ53700003</td>\n",
       "      <td>&lt;NA&gt;</td>\n",
       "    </tr>\n",
       "    <tr>\n",
       "      <th>4668</th>\n",
       "      <td>False</td>\n",
       "      <td>Serological differences between some isolates of bean yellow mosaic virus.</td>\n",
       "      <td>The degree of serological relatedness of three isolates of bean yellow mosaic virus (BYMV) was studied. One common antigenic group (m) was demonst...</td>\n",
       "      <td>&lt;NA&gt;</td>\n",
       "      <td>WOS:A1992JL18000002</td>\n",
       "      <td>&lt;NA&gt;</td>\n",
       "    </tr>\n",
       "    <tr>\n",
       "      <th>14868</th>\n",
       "      <td>False</td>\n",
       "      <td>Serological differences between some isolates of bean yellow mosaic virus.</td>\n",
       "      <td>The degree of serological relatedness of three isolates of bean yellow mosaic virus (BYMV) was studied. One common antigenic group (m) was demonst...</td>\n",
       "      <td>&lt;NA&gt;</td>\n",
       "      <td>WOS:A1992HV16000003</td>\n",
       "      <td>&lt;NA&gt;</td>\n",
       "    </tr>\n",
       "    <tr>\n",
       "      <th>32546</th>\n",
       "      <td>False</td>\n",
       "      <td>Serological differences between some isolates of bean yellow mosaic virus.</td>\n",
       "      <td>The degree of serological relatedness of three isolates of bean yellow mosaic virus (BYMV) was studied. One common antigenic group (m) was demonst...</td>\n",
       "      <td>&lt;NA&gt;</td>\n",
       "      <td>WOS:A1992HH62100002</td>\n",
       "      <td>&lt;NA&gt;</td>\n",
       "    </tr>\n",
       "    <tr>\n",
       "      <th>32935</th>\n",
       "      <td>False</td>\n",
       "      <td>Serological differences between some isolates of bean yellow mosaic virus.</td>\n",
       "      <td>The degree of serological relatedness of three isolates of bean yellow mosaic virus (BYMV) was studied. One common antigenic group (m) was demonst...</td>\n",
       "      <td>10.1016/0016-5085(92)91195-A</td>\n",
       "      <td>WOS:A1992JV47800035</td>\n",
       "      <td>&lt;NA&gt;</td>\n",
       "    </tr>\n",
       "  </tbody>\n",
       "</table>\n",
       "</div>"
      ],
      "text/plain": [
       "       include  \\\n",
       "1421     False   \n",
       "4664     False   \n",
       "4666     False   \n",
       "4668     False   \n",
       "14868    False   \n",
       "32546    False   \n",
       "32935    False   \n",
       "\n",
       "                                                                            title  \\\n",
       "1421   Serological differences between some isolates of bean yellow mosaic virus.   \n",
       "4664   Serological differences between some isolates of bean yellow mosaic virus.   \n",
       "4666   Serological differences between some isolates of bean yellow mosaic virus.   \n",
       "4668   Serological differences between some isolates of bean yellow mosaic virus.   \n",
       "14868  Serological differences between some isolates of bean yellow mosaic virus.   \n",
       "32546  Serological differences between some isolates of bean yellow mosaic virus.   \n",
       "32935  Serological differences between some isolates of bean yellow mosaic virus.   \n",
       "\n",
       "                                                                                                                                                    abstract  \\\n",
       "1421   The degree of serological relatedness of three isolates of bean yellow mosaic virus (BYMV) was studied. One common antigenic group (m) was demonst...   \n",
       "4664   The degree of serological relatedness of three isolates of bean yellow mosaic virus (BYMV) was studied. One common antigenic group (m) was demonst...   \n",
       "4666   The degree of serological relatedness of three isolates of bean yellow mosaic virus (BYMV) was studied. One common antigenic group (m) was demonst...   \n",
       "4668   The degree of serological relatedness of three isolates of bean yellow mosaic virus (BYMV) was studied. One common antigenic group (m) was demonst...   \n",
       "14868  The degree of serological relatedness of three isolates of bean yellow mosaic virus (BYMV) was studied. One common antigenic group (m) was demonst...   \n",
       "32546  The degree of serological relatedness of three isolates of bean yellow mosaic virus (BYMV) was studied. One common antigenic group (m) was demonst...   \n",
       "32935  The degree of serological relatedness of three isolates of bean yellow mosaic virus (BYMV) was studied. One common antigenic group (m) was demonst...   \n",
       "\n",
       "                                 doi        literature_id  openalex_id  \n",
       "1421                            <NA>  WOS:A1992HY79500019         <NA>  \n",
       "4664   10.1016/S0016-5107(92)70486-6  WOS:A1992JJ19200021         <NA>  \n",
       "4666                            <NA>  WOS:A1992JJ53700003         <NA>  \n",
       "4668                            <NA>  WOS:A1992JL18000002         <NA>  \n",
       "14868                           <NA>  WOS:A1992HV16000003         <NA>  \n",
       "32546                           <NA>  WOS:A1992HH62100002         <NA>  \n",
       "32935   10.1016/0016-5085(92)91195-A  WOS:A1992JV47800035         <NA>  "
      ]
     },
     "execution_count": 22,
     "metadata": {},
     "output_type": "execute_result"
    }
   ],
   "source": [
    "datasets['pancreatic_surgery'].iloc[[1421, 4664, 4666, 4668, 14868, 32546, 32935]]"
   ]
  },
  {
   "cell_type": "markdown",
   "metadata": {},
   "source": [
    "### Same title but different labels\n",
    "- Following the literature_id reveals different titles"
   ]
  },
  {
   "cell_type": "code",
   "execution_count": 48,
   "metadata": {},
   "outputs": [
    {
     "data": {
      "text/html": [
       "<div>\n",
       "<style scoped>\n",
       "    .dataframe tbody tr th:only-of-type {\n",
       "        vertical-align: middle;\n",
       "    }\n",
       "\n",
       "    .dataframe tbody tr th {\n",
       "        vertical-align: top;\n",
       "    }\n",
       "\n",
       "    .dataframe thead th {\n",
       "        text-align: right;\n",
       "    }\n",
       "</style>\n",
       "<table border=\"1\" class=\"dataframe\">\n",
       "  <thead>\n",
       "    <tr style=\"text-align: right;\">\n",
       "      <th></th>\n",
       "      <th>include</th>\n",
       "      <th>title</th>\n",
       "      <th>abstract</th>\n",
       "      <th>doi</th>\n",
       "      <th>literature_id</th>\n",
       "      <th>openalex_id</th>\n",
       "    </tr>\n",
       "  </thead>\n",
       "  <tbody>\n",
       "    <tr>\n",
       "      <th>30701</th>\n",
       "      <td>True</td>\n",
       "      <td>Selection of chlortetracycline-resistant strain of Coxiella burnetii.</td>\n",
       "      <td>&lt;NA&gt;</td>\n",
       "      <td>&lt;NA&gt;</td>\n",
       "      <td>WOS:A1997YL29400007</td>\n",
       "      <td>&lt;NA&gt;</td>\n",
       "    </tr>\n",
       "    <tr>\n",
       "      <th>32679</th>\n",
       "      <td>False</td>\n",
       "      <td>Selection of chlortetracycline-resistant strain of Coxiella burnetii.</td>\n",
       "      <td>&lt;NA&gt;</td>\n",
       "      <td>10.1016/S1053-4296(97)80053-7</td>\n",
       "      <td>WOS:A1997XM14200001</td>\n",
       "      <td>&lt;NA&gt;</td>\n",
       "    </tr>\n",
       "    <tr>\n",
       "      <th>32680</th>\n",
       "      <td>False</td>\n",
       "      <td>Selection of chlortetracycline-resistant strain of Coxiella burnetii.</td>\n",
       "      <td>&lt;NA&gt;</td>\n",
       "      <td>&lt;NA&gt;</td>\n",
       "      <td>WOS:A1997XM38400008</td>\n",
       "      <td>&lt;NA&gt;</td>\n",
       "    </tr>\n",
       "    <tr>\n",
       "      <th>32853</th>\n",
       "      <td>False</td>\n",
       "      <td>Selection of chlortetracycline-resistant strain of Coxiella burnetii.</td>\n",
       "      <td>&lt;NA&gt;</td>\n",
       "      <td>&lt;NA&gt;</td>\n",
       "      <td>WOS:A1997YK06400008</td>\n",
       "      <td>&lt;NA&gt;</td>\n",
       "    </tr>\n",
       "    <tr>\n",
       "      <th>33022</th>\n",
       "      <td>False</td>\n",
       "      <td>Selection of chlortetracycline-resistant strain of Coxiella burnetii.</td>\n",
       "      <td>&lt;NA&gt;</td>\n",
       "      <td>10.1016/S0039-6060(97)90175-6</td>\n",
       "      <td>WOS:A1997WC21200001</td>\n",
       "      <td>&lt;NA&gt;</td>\n",
       "    </tr>\n",
       "    <tr>\n",
       "      <th>33088</th>\n",
       "      <td>True</td>\n",
       "      <td>Selection of chlortetracycline-resistant strain of Coxiella burnetii.</td>\n",
       "      <td>&lt;NA&gt;</td>\n",
       "      <td>&lt;NA&gt;</td>\n",
       "      <td>WOS:A1997WV41901011</td>\n",
       "      <td>&lt;NA&gt;</td>\n",
       "    </tr>\n",
       "    <tr>\n",
       "      <th>33119</th>\n",
       "      <td>True</td>\n",
       "      <td>Selection of chlortetracycline-resistant strain of Coxiella burnetii.</td>\n",
       "      <td>&lt;NA&gt;</td>\n",
       "      <td>&lt;NA&gt;</td>\n",
       "      <td>WOS:A1997WV41905901</td>\n",
       "      <td>&lt;NA&gt;</td>\n",
       "    </tr>\n",
       "  </tbody>\n",
       "</table>\n",
       "</div>"
      ],
      "text/plain": [
       "       include  \\\n",
       "30701     True   \n",
       "32679    False   \n",
       "32680    False   \n",
       "32853    False   \n",
       "33022    False   \n",
       "33088     True   \n",
       "33119     True   \n",
       "\n",
       "                                                                       title  \\\n",
       "30701  Selection of chlortetracycline-resistant strain of Coxiella burnetii.   \n",
       "32679  Selection of chlortetracycline-resistant strain of Coxiella burnetii.   \n",
       "32680  Selection of chlortetracycline-resistant strain of Coxiella burnetii.   \n",
       "32853  Selection of chlortetracycline-resistant strain of Coxiella burnetii.   \n",
       "33022  Selection of chlortetracycline-resistant strain of Coxiella burnetii.   \n",
       "33088  Selection of chlortetracycline-resistant strain of Coxiella burnetii.   \n",
       "33119  Selection of chlortetracycline-resistant strain of Coxiella burnetii.   \n",
       "\n",
       "      abstract                            doi        literature_id  \\\n",
       "30701     <NA>                           <NA>  WOS:A1997YL29400007   \n",
       "32679     <NA>  10.1016/S1053-4296(97)80053-7  WOS:A1997XM14200001   \n",
       "32680     <NA>                           <NA>  WOS:A1997XM38400008   \n",
       "32853     <NA>                           <NA>  WOS:A1997YK06400008   \n",
       "33022     <NA>  10.1016/S0039-6060(97)90175-6  WOS:A1997WC21200001   \n",
       "33088     <NA>                           <NA>  WOS:A1997WV41901011   \n",
       "33119     <NA>                           <NA>  WOS:A1997WV41905901   \n",
       "\n",
       "       openalex_id  \n",
       "30701         <NA>  \n",
       "32679         <NA>  \n",
       "32680         <NA>  \n",
       "32853         <NA>  \n",
       "33022         <NA>  \n",
       "33088         <NA>  \n",
       "33119         <NA>  "
      ]
     },
     "execution_count": 48,
     "metadata": {},
     "output_type": "execute_result"
    }
   ],
   "source": [
    "datasets['pancreatic_surgery'].iloc[[30701, 32679, 32680, 32853, 33022, 33088, 33119]]\n"
   ]
  },
  {
   "cell_type": "markdown",
   "metadata": {},
   "source": [
    "## Paragraph Labels"
   ]
  },
  {
   "cell_type": "code",
   "execution_count": 26,
   "metadata": {},
   "outputs": [
    {
     "data": {
      "text/html": [
       "<div>\n",
       "<style scoped>\n",
       "    .dataframe tbody tr th:only-of-type {\n",
       "        vertical-align: middle;\n",
       "    }\n",
       "\n",
       "    .dataframe tbody tr th {\n",
       "        vertical-align: top;\n",
       "    }\n",
       "\n",
       "    .dataframe thead th {\n",
       "        text-align: right;\n",
       "    }\n",
       "</style>\n",
       "<table border=\"1\" class=\"dataframe\">\n",
       "  <thead>\n",
       "    <tr style=\"text-align: right;\">\n",
       "      <th></th>\n",
       "      <th>abstract</th>\n",
       "    </tr>\n",
       "  </thead>\n",
       "  <tbody>\n",
       "    <tr>\n",
       "      <th>3</th>\n",
       "      <td>BACKGROUND: Gastric lipase contributes significantly to overall lipolysis and is regulated by interacting neuro-hormonal mechanisms. Patients with...</td>\n",
       "    </tr>\n",
       "    <tr>\n",
       "      <th>4</th>\n",
       "      <td>BACKGROUND/AIM: The pancreas is an organ highly susceptible to ischemic damage. This discussion reviews the role of ischemia as an etiologic facto...</td>\n",
       "    </tr>\n",
       "    <tr>\n",
       "      <th>6</th>\n",
       "      <td>INTRODUCTION: Pancreaticopleural fistula (PPF) is a rare but serious complication of pancreatic disorders. As the clinical presentations of PPF ar...</td>\n",
       "    </tr>\n",
       "    <tr>\n",
       "      <th>9</th>\n",
       "      <td>UNLABELLED: Tacrolimus (FK-506) is an immunosuppressant agent that acts by a variety of different mechanisms which include inhibition of calcineur...</td>\n",
       "    </tr>\n",
       "    <tr>\n",
       "      <th>12</th>\n",
       "      <td>INTERVENTION: Precompression of pancreatic parenchyma with intestinal clamp. Without Precompression CONDITION: Patients who underwent distal pancr...</td>\n",
       "    </tr>\n",
       "    <tr>\n",
       "      <th>13</th>\n",
       "      <td>Objective The aim of this study was to report on the short-and long-term outcomes of surgery for chronic pancreatitis (CP) in children. Methods Al...</td>\n",
       "    </tr>\n",
       "    <tr>\n",
       "      <th>19</th>\n",
       "      <td>Although type 1 and type 2 diabetes represent the vast majority of affected individuals with the disease, not all cases of diabetes fit neatly int...</td>\n",
       "    </tr>\n",
       "    <tr>\n",
       "      <th>21</th>\n",
       "      <td>OBJECTIVE: The ISGPS aimed to develop a universally accepted definition for PPAP for standardized reporting and outcome comparison. BACKGROUND: PP...</td>\n",
       "    </tr>\n",
       "    <tr>\n",
       "      <th>23</th>\n",
       "      <td>OBJECTIVE: To review the current literature pertaining to the pathophysiology, diagnosis, and treatment of injuries sustained from high-rise syndr...</td>\n",
       "    </tr>\n",
       "    <tr>\n",
       "      <th>31</th>\n",
       "      <td>BACKGROUNDS/OBJECTIVES: Patients with chronic pancreatitis may develop pancreatic duct stones that can obstruct outflow leading to ductal hyperten...</td>\n",
       "    </tr>\n",
       "    <tr>\n",
       "      <th>307</th>\n",
       "      <td>HYPOTHESIS: Adjuvant chemoradiation improves local control and survival in patients with node-positive duodenal adenocarcinoma treated with pancre...</td>\n",
       "    </tr>\n",
       "    <tr>\n",
       "      <th>343</th>\n",
       "      <td>PURPOSE: This Phase IIb (NCT02195180) open-label study evaluated erythrocyte-encapsulated asparaginase (eryaspase) in combination with chemotherap...</td>\n",
       "    </tr>\n",
       "    <tr>\n",
       "      <th>399</th>\n",
       "      <td>BACKGROUND AND STUDY AIMS: Although routine preoperative biliary drainage (PBD) in patients with distal malignant biliary obstruction is generally...</td>\n",
       "    </tr>\n",
       "    <tr>\n",
       "      <th>430</th>\n",
       "      <td>PURPOSE OF REVIEW: The antiobesity effects of activation of hypothalamic neuropeptide Y2 receptors (NPYR2) by the gut-derived hormone, peptide YY ...</td>\n",
       "    </tr>\n",
       "    <tr>\n",
       "      <th>533</th>\n",
       "      <td>BACKGROUND AND OBJECTIVE: Though the use of neoadjuvant therapy (NAT) is increasing in the setting of borderline resectable (BRPC) and locally adv...</td>\n",
       "    </tr>\n",
       "    <tr>\n",
       "      <th>656</th>\n",
       "      <td>Abstract - Background Social interaction and social communication are among the central areas of difficulty for autistic people. Music therapy use...</td>\n",
       "    </tr>\n",
       "    <tr>\n",
       "      <th>876</th>\n",
       "      <td>AIM: To review the post-operative morbidity and mortality of total esophagogastrectomy (TEG) with second barrier lymphadenectomy (D2) with interpo...</td>\n",
       "    </tr>\n",
       "    <tr>\n",
       "      <th>24</th>\n",
       "      <td>RATIONALE: The atypical neuroleptic clozapine induces specific electroencephalogram changes, which have not been investigated using the technique ...</td>\n",
       "    </tr>\n",
       "    <tr>\n",
       "      <th>39</th>\n",
       "      <td>Postanaesthetic shivering affects up to 70% of patients after general anaesthesia, and may be very distressing. Various drugs have been used to tr...</td>\n",
       "    </tr>\n",
       "  </tbody>\n",
       "</table>\n",
       "</div>"
      ],
      "text/plain": [
       "                                                                                                                                                  abstract\n",
       "3    BACKGROUND: Gastric lipase contributes significantly to overall lipolysis and is regulated by interacting neuro-hormonal mechanisms. Patients with...\n",
       "4    BACKGROUND/AIM: The pancreas is an organ highly susceptible to ischemic damage. This discussion reviews the role of ischemia as an etiologic facto...\n",
       "6    INTRODUCTION: Pancreaticopleural fistula (PPF) is a rare but serious complication of pancreatic disorders. As the clinical presentations of PPF ar...\n",
       "9    UNLABELLED: Tacrolimus (FK-506) is an immunosuppressant agent that acts by a variety of different mechanisms which include inhibition of calcineur...\n",
       "12   INTERVENTION: Precompression of pancreatic parenchyma with intestinal clamp. Without Precompression CONDITION: Patients who underwent distal pancr...\n",
       "13   Objective The aim of this study was to report on the short-and long-term outcomes of surgery for chronic pancreatitis (CP) in children. Methods Al...\n",
       "19   Although type 1 and type 2 diabetes represent the vast majority of affected individuals with the disease, not all cases of diabetes fit neatly int...\n",
       "21   OBJECTIVE: The ISGPS aimed to develop a universally accepted definition for PPAP for standardized reporting and outcome comparison. BACKGROUND: PP...\n",
       "23   OBJECTIVE: To review the current literature pertaining to the pathophysiology, diagnosis, and treatment of injuries sustained from high-rise syndr...\n",
       "31   BACKGROUNDS/OBJECTIVES: Patients with chronic pancreatitis may develop pancreatic duct stones that can obstruct outflow leading to ductal hyperten...\n",
       "307  HYPOTHESIS: Adjuvant chemoradiation improves local control and survival in patients with node-positive duodenal adenocarcinoma treated with pancre...\n",
       "343  PURPOSE: This Phase IIb (NCT02195180) open-label study evaluated erythrocyte-encapsulated asparaginase (eryaspase) in combination with chemotherap...\n",
       "399  BACKGROUND AND STUDY AIMS: Although routine preoperative biliary drainage (PBD) in patients with distal malignant biliary obstruction is generally...\n",
       "430  PURPOSE OF REVIEW: The antiobesity effects of activation of hypothalamic neuropeptide Y2 receptors (NPYR2) by the gut-derived hormone, peptide YY ...\n",
       "533  BACKGROUND AND OBJECTIVE: Though the use of neoadjuvant therapy (NAT) is increasing in the setting of borderline resectable (BRPC) and locally adv...\n",
       "656  Abstract - Background Social interaction and social communication are among the central areas of difficulty for autistic people. Music therapy use...\n",
       "876  AIM: To review the post-operative morbidity and mortality of total esophagogastrectomy (TEG) with second barrier lymphadenectomy (D2) with interpo...\n",
       "24   RATIONALE: The atypical neuroleptic clozapine induces specific electroencephalogram changes, which have not been investigated using the technique ...\n",
       "39   Postanaesthetic shivering affects up to 70% of patients after general anaesthesia, and may be very distressing. Various drugs have been used to tr..."
      ]
     },
     "execution_count": 26,
     "metadata": {},
     "output_type": "execute_result"
    }
   ],
   "source": [
    "pd.concat([\n",
    "    datasets['pancreatic_surgery'].iloc[[3,4,6,9,12,13,19,21,23,31,307,343,399,430,533,656,876,]][['abstract']],\n",
    "    datasets['atypical_antipsychotics'].iloc[[24]][['abstract']],\n",
    "    datasets['adhd'].iloc[[39]][['abstract']]\n",
    "])"
   ]
  },
  {
   "cell_type": "markdown",
   "metadata": {},
   "source": [
    "# Missing Values"
   ]
  },
  {
   "cell_type": "markdown",
   "metadata": {},
   "source": [
    "- How many titles and abstracts are missing?\n",
    "- How many more were missing before downloading data from PubMed?"
   ]
  },
  {
   "cell_type": "code",
   "execution_count": 27,
   "metadata": {},
   "outputs": [],
   "source": [
    "data_directory_before = '../../../../data/03_openalex'\n",
    "datasets_before = data.dict_from_directory(data_directory_before)"
   ]
  },
  {
   "cell_type": "markdown",
   "metadata": {},
   "source": [
    "Calculate missing titles & abstracts before and after the data retrieval:"
   ]
  },
  {
   "cell_type": "code",
   "execution_count": 28,
   "metadata": {},
   "outputs": [],
   "source": [
    "missing_percentages = lambda x: round(x.isna().mean() * 100, 2)"
   ]
  },
  {
   "cell_type": "code",
   "execution_count": 29,
   "metadata": {},
   "outputs": [],
   "source": [
    "missings_before = pd.DataFrame({\n",
    "    'dataset': subject,\n",
    "    'title': missing_percentages(df['title']),\n",
    "    'abstract': missing_percentages(df['abstract']),\n",
    "    'preprocessing': 'before'\n",
    "}for subject, df in datasets_before.items())"
   ]
  },
  {
   "cell_type": "code",
   "execution_count": 30,
   "metadata": {},
   "outputs": [],
   "source": [
    "missings_after = pd.DataFrame({\n",
    "    'dataset': subject,\n",
    "    'title': missing_percentages(df['title']),\n",
    "    'abstract': missing_percentages(df['abstract']),\n",
    "    'preprocessing': 'after'\n",
    "}for subject, df in datasets.items())"
   ]
  },
  {
   "cell_type": "code",
   "execution_count": 31,
   "metadata": {},
   "outputs": [
    {
     "data": {
      "text/html": [
       "<div>\n",
       "<style scoped>\n",
       "    .dataframe tbody tr th:only-of-type {\n",
       "        vertical-align: middle;\n",
       "    }\n",
       "\n",
       "    .dataframe tbody tr th {\n",
       "        vertical-align: top;\n",
       "    }\n",
       "\n",
       "    .dataframe thead th {\n",
       "        text-align: right;\n",
       "    }\n",
       "</style>\n",
       "<table border=\"1\" class=\"dataframe\">\n",
       "  <thead>\n",
       "    <tr style=\"text-align: right;\">\n",
       "      <th></th>\n",
       "      <th>dataset</th>\n",
       "      <th>preprocessing</th>\n",
       "      <th>type</th>\n",
       "      <th>missing</th>\n",
       "    </tr>\n",
       "  </thead>\n",
       "  <tbody>\n",
       "    <tr>\n",
       "      <th>11</th>\n",
       "      <td>pancreatic_surgery</td>\n",
       "      <td>after</td>\n",
       "      <td>title</td>\n",
       "      <td>0.02</td>\n",
       "    </tr>\n",
       "    <tr>\n",
       "      <th>21</th>\n",
       "      <td>calcium_channel_blockers</td>\n",
       "      <td>after</td>\n",
       "      <td>abstract</td>\n",
       "      <td>3.53</td>\n",
       "    </tr>\n",
       "    <tr>\n",
       "      <th>20</th>\n",
       "      <td>atypical_antipsychotics</td>\n",
       "      <td>after</td>\n",
       "      <td>abstract</td>\n",
       "      <td>2.59</td>\n",
       "    </tr>\n",
       "    <tr>\n",
       "      <th>19</th>\n",
       "      <td>animal_depression</td>\n",
       "      <td>after</td>\n",
       "      <td>abstract</td>\n",
       "      <td>12.84</td>\n",
       "    </tr>\n",
       "    <tr>\n",
       "      <th>18</th>\n",
       "      <td>adhd</td>\n",
       "      <td>after</td>\n",
       "      <td>abstract</td>\n",
       "      <td>2.47</td>\n",
       "    </tr>\n",
       "    <tr>\n",
       "      <th>22</th>\n",
       "      <td>oral_hypoglycemics</td>\n",
       "      <td>after</td>\n",
       "      <td>abstract</td>\n",
       "      <td>3.78</td>\n",
       "    </tr>\n",
       "    <tr>\n",
       "      <th>10</th>\n",
       "      <td>oral_hypoglycemics</td>\n",
       "      <td>after</td>\n",
       "      <td>title</td>\n",
       "      <td>0.00</td>\n",
       "    </tr>\n",
       "    <tr>\n",
       "      <th>9</th>\n",
       "      <td>calcium_channel_blockers</td>\n",
       "      <td>after</td>\n",
       "      <td>title</td>\n",
       "      <td>0.00</td>\n",
       "    </tr>\n",
       "    <tr>\n",
       "      <th>23</th>\n",
       "      <td>pancreatic_surgery</td>\n",
       "      <td>after</td>\n",
       "      <td>abstract</td>\n",
       "      <td>8.74</td>\n",
       "    </tr>\n",
       "    <tr>\n",
       "      <th>7</th>\n",
       "      <td>animal_depression</td>\n",
       "      <td>after</td>\n",
       "      <td>title</td>\n",
       "      <td>2.71</td>\n",
       "    </tr>\n",
       "    <tr>\n",
       "      <th>6</th>\n",
       "      <td>adhd</td>\n",
       "      <td>after</td>\n",
       "      <td>title</td>\n",
       "      <td>0.00</td>\n",
       "    </tr>\n",
       "    <tr>\n",
       "      <th>8</th>\n",
       "      <td>atypical_antipsychotics</td>\n",
       "      <td>after</td>\n",
       "      <td>title</td>\n",
       "      <td>0.00</td>\n",
       "    </tr>\n",
       "    <tr>\n",
       "      <th>5</th>\n",
       "      <td>pancreatic_surgery</td>\n",
       "      <td>before</td>\n",
       "      <td>title</td>\n",
       "      <td>0.10</td>\n",
       "    </tr>\n",
       "    <tr>\n",
       "      <th>12</th>\n",
       "      <td>adhd</td>\n",
       "      <td>before</td>\n",
       "      <td>abstract</td>\n",
       "      <td>11.28</td>\n",
       "    </tr>\n",
       "    <tr>\n",
       "      <th>13</th>\n",
       "      <td>animal_depression</td>\n",
       "      <td>before</td>\n",
       "      <td>abstract</td>\n",
       "      <td>17.86</td>\n",
       "    </tr>\n",
       "    <tr>\n",
       "      <th>14</th>\n",
       "      <td>atypical_antipsychotics</td>\n",
       "      <td>before</td>\n",
       "      <td>abstract</td>\n",
       "      <td>10.27</td>\n",
       "    </tr>\n",
       "    <tr>\n",
       "      <th>15</th>\n",
       "      <td>calcium_channel_blockers</td>\n",
       "      <td>before</td>\n",
       "      <td>abstract</td>\n",
       "      <td>14.94</td>\n",
       "    </tr>\n",
       "    <tr>\n",
       "      <th>16</th>\n",
       "      <td>oral_hypoglycemics</td>\n",
       "      <td>before</td>\n",
       "      <td>abstract</td>\n",
       "      <td>16.70</td>\n",
       "    </tr>\n",
       "    <tr>\n",
       "      <th>17</th>\n",
       "      <td>pancreatic_surgery</td>\n",
       "      <td>before</td>\n",
       "      <td>abstract</td>\n",
       "      <td>12.08</td>\n",
       "    </tr>\n",
       "    <tr>\n",
       "      <th>4</th>\n",
       "      <td>oral_hypoglycemics</td>\n",
       "      <td>before</td>\n",
       "      <td>title</td>\n",
       "      <td>0.80</td>\n",
       "    </tr>\n",
       "    <tr>\n",
       "      <th>3</th>\n",
       "      <td>calcium_channel_blockers</td>\n",
       "      <td>before</td>\n",
       "      <td>title</td>\n",
       "      <td>1.07</td>\n",
       "    </tr>\n",
       "    <tr>\n",
       "      <th>2</th>\n",
       "      <td>atypical_antipsychotics</td>\n",
       "      <td>before</td>\n",
       "      <td>title</td>\n",
       "      <td>1.34</td>\n",
       "    </tr>\n",
       "    <tr>\n",
       "      <th>1</th>\n",
       "      <td>animal_depression</td>\n",
       "      <td>before</td>\n",
       "      <td>title</td>\n",
       "      <td>3.06</td>\n",
       "    </tr>\n",
       "    <tr>\n",
       "      <th>0</th>\n",
       "      <td>adhd</td>\n",
       "      <td>before</td>\n",
       "      <td>title</td>\n",
       "      <td>2.35</td>\n",
       "    </tr>\n",
       "  </tbody>\n",
       "</table>\n",
       "</div>"
      ],
      "text/plain": [
       "                     dataset preprocessing      type  missing\n",
       "11        pancreatic_surgery         after     title     0.02\n",
       "21  calcium_channel_blockers         after  abstract     3.53\n",
       "20   atypical_antipsychotics         after  abstract     2.59\n",
       "19         animal_depression         after  abstract    12.84\n",
       "18                      adhd         after  abstract     2.47\n",
       "22        oral_hypoglycemics         after  abstract     3.78\n",
       "10        oral_hypoglycemics         after     title     0.00\n",
       "9   calcium_channel_blockers         after     title     0.00\n",
       "23        pancreatic_surgery         after  abstract     8.74\n",
       "7          animal_depression         after     title     2.71\n",
       "6                       adhd         after     title     0.00\n",
       "8    atypical_antipsychotics         after     title     0.00\n",
       "5         pancreatic_surgery        before     title     0.10\n",
       "12                      adhd        before  abstract    11.28\n",
       "13         animal_depression        before  abstract    17.86\n",
       "14   atypical_antipsychotics        before  abstract    10.27\n",
       "15  calcium_channel_blockers        before  abstract    14.94\n",
       "16        oral_hypoglycemics        before  abstract    16.70\n",
       "17        pancreatic_surgery        before  abstract    12.08\n",
       "4         oral_hypoglycemics        before     title     0.80\n",
       "3   calcium_channel_blockers        before     title     1.07\n",
       "2    atypical_antipsychotics        before     title     1.34\n",
       "1          animal_depression        before     title     3.06\n",
       "0                       adhd        before     title     2.35"
      ]
     },
     "execution_count": 31,
     "metadata": {},
     "output_type": "execute_result"
    }
   ],
   "source": [
    "missings = pd.concat([missings_before, missings_after])\n",
    "\n",
    "missings_long = pd.melt(missings, id_vars=['dataset', 'preprocessing'], value_vars=['title', 'abstract'],\n",
    "                        var_name='type', value_name='missing')\n",
    "\n",
    "missings_long.sort_values(by='preprocessing', ascending=True, inplace=True)\n",
    "\n",
    "missings_long"
   ]
  },
  {
   "cell_type": "code",
   "execution_count": 32,
   "metadata": {},
   "outputs": [
    {
     "data": {
      "image/png": "[encoded data removed]",
      "text/plain": [
       "<seaborn._core.plot.Plot at 0x23e7dbbb500>"
      ]
     },
     "execution_count": 32,
     "metadata": {
      "image/png": {
       "height": 476.425,
       "width": 998.75
      }
     },
     "output_type": "execute_result"
    }
   ],
   "source": [
    "(\n",
    "    so.Plot(data=missings_long, x='type', y='missing', alpha='preprocessing', edgestyle='preprocessing', color='dataset', text='missing')\n",
    "    .add(so.Bar(edgewidth=2), so.Dodge(by=['color'], gap=0.1))\n",
    "    .add(so.Text({\"fontweight\": \"bold\"}, color='w', alpha=1), so.Dodge(by=['color']))\n",
    "    .label(x='', y='% missing', title='Fewer missing titles and abstracts after preprocessing ', legend='Test')\n",
    "    .scale()\n",
    "    .layout(size=(10, 6))\n",
    "    .limit(y=(0,20))\n",
    ")"
   ]
  },
  {
   "cell_type": "markdown",
   "metadata": {},
   "source": [
    "# Label Distributions"
   ]
  },
  {
   "cell_type": "code",
   "execution_count": 33,
   "metadata": {},
   "outputs": [],
   "source": [
    "frequency_distribution = lambda x: x.value_counts(normalize=True)"
   ]
  },
  {
   "cell_type": "code",
   "execution_count": 34,
   "metadata": {},
   "outputs": [],
   "source": [
    "distributions = pd.DataFrame({\n",
    "    'dataset': subject,\n",
    "    'include ': round((df.include.pipe(frequency_distribution)[True] * 100), 2),\n",
    "    'exclude': round((df.include.pipe(frequency_distribution)[False] * 100), 2),\n",
    "}for subject, df in datasets.items())"
   ]
  },
  {
   "cell_type": "markdown",
   "metadata": {},
   "source": [
    "## Display the percentages of distributions in a table"
   ]
  },
  {
   "cell_type": "code",
   "execution_count": 35,
   "metadata": {},
   "outputs": [
    {
     "data": {
      "text/html": [
       "<div>\n",
       "<style scoped>\n",
       "    .dataframe tbody tr th:only-of-type {\n",
       "        vertical-align: middle;\n",
       "    }\n",
       "\n",
       "    .dataframe tbody tr th {\n",
       "        vertical-align: top;\n",
       "    }\n",
       "\n",
       "    .dataframe thead th {\n",
       "        text-align: right;\n",
       "    }\n",
       "</style>\n",
       "<table border=\"1\" class=\"dataframe\">\n",
       "  <thead>\n",
       "    <tr style=\"text-align: right;\">\n",
       "      <th></th>\n",
       "      <th>dataset</th>\n",
       "      <th>include</th>\n",
       "      <th>exclude</th>\n",
       "    </tr>\n",
       "  </thead>\n",
       "  <tbody>\n",
       "    <tr>\n",
       "      <th>0</th>\n",
       "      <td>adhd</td>\n",
       "      <td>2.35</td>\n",
       "      <td>97.65</td>\n",
       "    </tr>\n",
       "    <tr>\n",
       "      <th>1</th>\n",
       "      <td>animal_depression</td>\n",
       "      <td>14.05</td>\n",
       "      <td>85.95</td>\n",
       "    </tr>\n",
       "    <tr>\n",
       "      <th>2</th>\n",
       "      <td>atypical_antipsychotics</td>\n",
       "      <td>13.04</td>\n",
       "      <td>86.96</td>\n",
       "    </tr>\n",
       "    <tr>\n",
       "      <th>3</th>\n",
       "      <td>calcium_channel_blockers</td>\n",
       "      <td>8.21</td>\n",
       "      <td>91.79</td>\n",
       "    </tr>\n",
       "    <tr>\n",
       "      <th>4</th>\n",
       "      <td>oral_hypoglycemics</td>\n",
       "      <td>27.04</td>\n",
       "      <td>72.96</td>\n",
       "    </tr>\n",
       "    <tr>\n",
       "      <th>5</th>\n",
       "      <td>pancreatic_surgery</td>\n",
       "      <td>6.88</td>\n",
       "      <td>93.12</td>\n",
       "    </tr>\n",
       "  </tbody>\n",
       "</table>\n",
       "</div>"
      ],
      "text/plain": [
       "                    dataset  include   exclude\n",
       "0                      adhd      2.35    97.65\n",
       "1         animal_depression     14.05    85.95\n",
       "2   atypical_antipsychotics     13.04    86.96\n",
       "3  calcium_channel_blockers      8.21    91.79\n",
       "4        oral_hypoglycemics     27.04    72.96\n",
       "5        pancreatic_surgery      6.88    93.12"
      ]
     },
     "execution_count": 35,
     "metadata": {},
     "output_type": "execute_result"
    }
   ],
   "source": [
    "distributions"
   ]
  },
  {
   "cell_type": "markdown",
   "metadata": {},
   "source": [
    "## Plot a graph with the inclusion percentages"
   ]
  },
  {
   "cell_type": "code",
   "execution_count": 36,
   "metadata": {},
   "outputs": [
    {
     "data": {
      "text/html": [
       "<div>\n",
       "<style scoped>\n",
       "    .dataframe tbody tr th:only-of-type {\n",
       "        vertical-align: middle;\n",
       "    }\n",
       "\n",
       "    .dataframe tbody tr th {\n",
       "        vertical-align: top;\n",
       "    }\n",
       "\n",
       "    .dataframe thead th {\n",
       "        text-align: right;\n",
       "    }\n",
       "</style>\n",
       "<table border=\"1\" class=\"dataframe\">\n",
       "  <thead>\n",
       "    <tr style=\"text-align: right;\">\n",
       "      <th></th>\n",
       "      <th>dataset</th>\n",
       "      <th>variable</th>\n",
       "      <th>percentage</th>\n",
       "    </tr>\n",
       "  </thead>\n",
       "  <tbody>\n",
       "    <tr>\n",
       "      <th>6</th>\n",
       "      <td>adhd</td>\n",
       "      <td>exclude</td>\n",
       "      <td>97.65</td>\n",
       "    </tr>\n",
       "    <tr>\n",
       "      <th>11</th>\n",
       "      <td>pancreatic_surgery</td>\n",
       "      <td>exclude</td>\n",
       "      <td>93.12</td>\n",
       "    </tr>\n",
       "    <tr>\n",
       "      <th>9</th>\n",
       "      <td>calcium_channel_blockers</td>\n",
       "      <td>exclude</td>\n",
       "      <td>91.79</td>\n",
       "    </tr>\n",
       "    <tr>\n",
       "      <th>8</th>\n",
       "      <td>atypical_antipsychotics</td>\n",
       "      <td>exclude</td>\n",
       "      <td>86.96</td>\n",
       "    </tr>\n",
       "    <tr>\n",
       "      <th>7</th>\n",
       "      <td>animal_depression</td>\n",
       "      <td>exclude</td>\n",
       "      <td>85.95</td>\n",
       "    </tr>\n",
       "    <tr>\n",
       "      <th>10</th>\n",
       "      <td>oral_hypoglycemics</td>\n",
       "      <td>exclude</td>\n",
       "      <td>72.96</td>\n",
       "    </tr>\n",
       "    <tr>\n",
       "      <th>4</th>\n",
       "      <td>oral_hypoglycemics</td>\n",
       "      <td>include</td>\n",
       "      <td>27.04</td>\n",
       "    </tr>\n",
       "    <tr>\n",
       "      <th>1</th>\n",
       "      <td>animal_depression</td>\n",
       "      <td>include</td>\n",
       "      <td>14.05</td>\n",
       "    </tr>\n",
       "    <tr>\n",
       "      <th>2</th>\n",
       "      <td>atypical_antipsychotics</td>\n",
       "      <td>include</td>\n",
       "      <td>13.04</td>\n",
       "    </tr>\n",
       "    <tr>\n",
       "      <th>3</th>\n",
       "      <td>calcium_channel_blockers</td>\n",
       "      <td>include</td>\n",
       "      <td>8.21</td>\n",
       "    </tr>\n",
       "    <tr>\n",
       "      <th>5</th>\n",
       "      <td>pancreatic_surgery</td>\n",
       "      <td>include</td>\n",
       "      <td>6.88</td>\n",
       "    </tr>\n",
       "    <tr>\n",
       "      <th>0</th>\n",
       "      <td>adhd</td>\n",
       "      <td>include</td>\n",
       "      <td>2.35</td>\n",
       "    </tr>\n",
       "  </tbody>\n",
       "</table>\n",
       "</div>"
      ],
      "text/plain": [
       "                     dataset  variable  percentage\n",
       "6                       adhd   exclude       97.65\n",
       "11        pancreatic_surgery   exclude       93.12\n",
       "9   calcium_channel_blockers   exclude       91.79\n",
       "8    atypical_antipsychotics   exclude       86.96\n",
       "7          animal_depression   exclude       85.95\n",
       "10        oral_hypoglycemics   exclude       72.96\n",
       "4         oral_hypoglycemics  include        27.04\n",
       "1          animal_depression  include        14.05\n",
       "2    atypical_antipsychotics  include        13.04\n",
       "3   calcium_channel_blockers  include         8.21\n",
       "5         pancreatic_surgery  include         6.88\n",
       "0                       adhd  include         2.35"
      ]
     },
     "execution_count": 36,
     "metadata": {},
     "output_type": "execute_result"
    }
   ],
   "source": [
    "distributions_melted = distributions.melt(id_vars='dataset', value_name='percentage')\n",
    "distributions_melted.sort_values(by='percentage', ascending=False, inplace=True)\n",
    "distributions_melted"
   ]
  },
  {
   "cell_type": "code",
   "execution_count": 37,
   "metadata": {},
   "outputs": [
    {
     "data": {
      "image/png": "[encoded data removed]",
      "text/plain": [
       "<seaborn._core.plot.Plot at 0x23e7e785190>"
      ]
     },
     "execution_count": 37,
     "metadata": {
      "image/png": {
       "height": 476.425,
       "width": 895.475
      }
     },
     "output_type": "execute_result"
    }
   ],
   "source": [
    "(\n",
    "    so.Plot(data=distributions_melted, y='dataset', x='percentage', color='variable')\n",
    "    .add(so.Bar(), so.Stack())\n",
    "    .label(y='', x='% of articles', title='Percentage of articles included in the dataset')\n",
    "    .layout(size=(10, 6))\n",
    ")"
   ]
  }
 ],
 "metadata": {
  "kernelspec": {
   "display_name": "automated_screening",
   "language": "python",
   "name": "python3"
  },
  "language_info": {
   "codemirror_mode": {
    "name": "ipython",
    "version": 3
   },
   "file_extension": ".py",
   "mimetype": "text/x-python",
   "name": "python",
   "nbconvert_exporter": "python",
   "pygments_lexer": "ipython3",
   "version": "3.12.3"
  }
 },
 "nbformat": 4,
 "nbformat_minor": 2
}
